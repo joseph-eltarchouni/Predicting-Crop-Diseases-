{
 "cells": [
  {
   "cell_type": "markdown",
   "id": "90ea6605-9dbc-438a-99bc-0610ce79b5ea",
   "metadata": {},
   "source": [
    "**MSc in Business Administration, Analytics & Information Systems**  \n",
    "**National and Kapodistrian University of Athens**    \n",
    "  \n",
    "Master Thesis:\n",
    "**Predicting Crop Diseases with Machine Learning**  \n",
    "  \n",
    "Author: **Iosif El Tarchouni**   \n",
    "Email: [iosif.eltarchouni@outlook.com](mailto:iosif.eltarchouni@outlook.com)    \n",
    "$~~~~~~~~~$ [iosifeltar@econ.uoa.gr](mailto:iosifeltar@econ.uoa.gr)  \n",
    "Supervisor: **Evangelia Petraki PhD**  \n",
    "Email: [evpetra@econ.uoa.gr](mailto:evpetra@econ.uoa.gr) "
   ]
  },
  {
   "cell_type": "markdown",
   "id": "07028794-1075-4a43-8ffa-7b4c5e9f967a",
   "metadata": {},
   "source": [
    "# Applying Machine Learning Models to Predict Powdery Mildew on Grapes, Using Weather."
   ]
  },
  {
   "cell_type": "markdown",
   "id": "762f5ec5-3a56-48bd-abd9-a9ee239a8dfd",
   "metadata": {},
   "source": [
    "## TOC:\n",
    "**a. [Importing Libraries](#a.-Importing-Libraries)**  \n",
    "**b. [Loading Datasets](#b.-Loading-Datasets)**    \n",
    "**c. [Splitting Data into Training and Test Sets](#c.-Splitting-Data-into-Training-and-Test-Sets)**   \n",
    "**d. [K-Nearest Neighbour (KNN)](#d.-K-Nearest-Neighbour-(KNN))**  \n",
    "$~~$d.1 [Creating & Fitting the KNN Model](#d.1-Creating-&-Fitting-the-KNN-Model)    \n",
    "$~~$d.2 [Making Predictions Using the KNN Model](#d.2-Making-Predictions-Using-the-KNN-Model)    \n",
    "$~~$d.3 [KNN Model Evaluation](#d.3-KNN-Model-Evaluation)  \n",
    "**e. [Naive Bayes Classifier (NBC)](#e.-Naive-Bayes-Classifier-(NBC))**   \n",
    "$~~$e.1 [Creating & Fitting the NBC Model](#e.1-Creating-&-Fitting-the-NBC-Model)    \n",
    "$~~$e.2 [Making Predictions Using the NBC Model](#e.2-Making-Predictions-Using-the-NBC-Model)    \n",
    "$~~$e.3 [NBC Model Evaluation](#e.3-NBC-Model-Evaluation)  \n",
    "**f. [Logistic Regression (LR)](#f.-Logistic-Regression-(LR))**  \n",
    "$~~$f.1 [Creating & Fitting the LR Model](#f.1-Creating-&-Fitting-the-LR-Model)    \n",
    "$~~$f.2 [Making Predictions Using the LR Model](#f.2-Making-Predictions-Using-the-LR-Model)    \n",
    "$~~$f.3 [LR Model Evaluation](#f.3-LR-Model-Evaluation)      \n",
    "**g. [Random Forest Classifier (RFC)](#g.-Random-Forest-Classifier-(RFC))**     \n",
    "$~~$g.1 [Creating & Fitting the RFC Model](#g.1-Creating-&-Fitting-the-RFC-Model)    \n",
    "$~~$g.2 [Making Predictions Using the RFC Model](#g.2-Making-Predictions-Using-the-RFC-Model)    \n",
    "$~~$g.3 [RFC Model Evaluation](#g.3-RFC-Model-Evaluation)    \n",
    "**h. [Support Vector Machine Classifier (SVC)](#h.-Support-Vector-Machine-Classifier-(SVC))**       \n",
    "$~~$h.1 [Creating & Fitting the SVC Model](#h.1-Creating-&-Fitting-the-SVC-Model)    \n",
    "$~~$h.2 [Making Predictions Using the SVC Model](#h.2-Making-Predictions-Using-the-SVC-Model)    \n",
    "$~~$h.3 [SVC Model Evaluation](#h.3-SVC-Model-Evaluation)  \n",
    "**i. [Multi-layer Perceptron Classifier (MLP)](#i.-Multi-layer-Perceptron-Classifier-(MLP))**       \n",
    "$~~$i.1 [Creating & Fitting the MLP Model](#i.1-Creating-&-Fitting-the-MLP-Model)    \n",
    "$~~$i.2 [Making Predictions Using the MLP Model](#i.2-Making-Predictions-Using-the-MLP-Model)    \n",
    "$~~$i.3 [MLP Model Evaluation](#i.3-MLP-Model-Evaluation)"
   ]
  },
  {
   "cell_type": "markdown",
   "id": "8bcb25c0-904b-4245-a6fa-ebfe2a44904c",
   "metadata": {
    "tags": []
   },
   "source": [
    "# a. Importing Libraries"
   ]
  },
  {
   "cell_type": "code",
   "execution_count": 1,
   "id": "f4cbd685-fecc-4245-bdbd-ee51a14e1e1f",
   "metadata": {
    "tags": []
   },
   "outputs": [],
   "source": [
    "#Libraries for data manipulation\n",
    "import pandas as pd \n",
    "import numpy as np\n",
    "\n",
    "#Libraries for data visualization\n",
    "import seaborn as sns\n",
    "import matplotlib.pyplot as plt\n",
    "\n",
    "#LIBRARIES FOR MACHINE LEARNING\n",
    "\n",
    "#Method to slip data into training and testing set\n",
    "from sklearn.model_selection import train_test_split\n",
    "\n",
    "#ML Algorithms\n",
    "from sklearn.neighbors import KNeighborsClassifier # K-nearest neighnour (KNN)\n",
    "from sklearn.naive_bayes import GaussianNB #Naive Bayes Classifier (NBC)\n",
    "from sklearn.linear_model import LogisticRegression #Logistic Regression (LR)\n",
    "from sklearn.ensemble import RandomForestClassifier #Random Forest Classifier (RFC)\n",
    "from sklearn.svm import SVC #Support Verctor Machines Classifier (SVC)\n",
    "from sklearn.neural_network import MLPClassifier #Artificial Neural Network (MLP)\n",
    "\n",
    "#Libraries for evaluating the machine learning models\n",
    "from sklearn.metrics import accuracy_score\n",
    "from sklearn.metrics import f1_score\n",
    "\n",
    "#Libraries for hyperparameter tuning the machine learning models (fine tuning)\n",
    "from sklearn.pipeline import Pipeline\n",
    "from sklearn.model_selection import GridSearchCV\n",
    "from sklearn.model_selection import RandomizedSearchCV\n",
    "\n",
    "#Library for data preprocessing\n",
    "from sklearn.preprocessing import StandardScaler\n",
    "\n",
    "#Library to manage warnings \n",
    "import warnings\n",
    "warnings.filterwarnings(\"ignore\")"
   ]
  },
  {
   "cell_type": "markdown",
   "id": "cfba42ca-c89b-4fd6-8bc6-6d4ce147f28c",
   "metadata": {
    "tags": []
   },
   "source": [
    "# b. Loading Datasets"
   ]
  },
  {
   "cell_type": "code",
   "execution_count": 2,
   "id": "96ba8743-7882-43db-8e19-942fa5c1c705",
   "metadata": {
    "tags": []
   },
   "outputs": [],
   "source": [
    "df_phomopsis = pd.read_csv(\n",
    "    \"../data/All/df_phomopsis_all.csv\", \n",
    "     low_memory=False)\n",
    "df_powdery_mildew = pd.read_csv(\n",
    "    \"../data/All/df_powdery_mildew_all.csv\", \n",
    "     low_memory=False)\n",
    "df_black_rot = pd.read_csv(\n",
    "    \"../data/All/df_black_rot_all.csv\", \n",
    "     low_memory=False)"
   ]
  },
  {
   "cell_type": "markdown",
   "id": "a2be266d-7fa2-4a7f-abc9-160fbc0cc050",
   "metadata": {
    "tags": []
   },
   "source": [
    "# c. Splitting Data into Training and Test Sets"
   ]
  },
  {
   "cell_type": "code",
   "execution_count": 3,
   "id": "49856bbb-45b5-4525-a099-ed0108f50ed5",
   "metadata": {},
   "outputs": [],
   "source": [
    "X = df_powdery_mildew.iloc[:, 2:-1]\n",
    "y = df_powdery_mildew.iloc[:, -1]\n",
    "y=y.astype('int') #changing data type for y"
   ]
  },
  {
   "cell_type": "markdown",
   "id": "62a8f720-04be-424a-b8f1-858525debeef",
   "metadata": {
    "tags": []
   },
   "source": [
    "Data Scaling "
   ]
  },
  {
   "cell_type": "code",
   "execution_count": 4,
   "id": "02d98c61-ea4e-49f8-b5c3-8c88013cb29d",
   "metadata": {},
   "outputs": [
    {
     "data": {
      "text/plain": [
       "Index(['avg_air_temp_deg_f', 'max_air_temp_deg_f', 'min_air_temp_deg_f',\n",
       "       'total_precipitation', 'leaf_wethess_hrs',\n",
       "       'relative_humidity_(hrs_>=_90)', 'solar_radiation_(langleys)',\n",
       "       'avg_wind_speed_mph', 'avg_soil_temp_deg_f',\n",
       "       'avg_soil_moisture_(m3/m3)'],\n",
       "      dtype='object')"
      ]
     },
     "execution_count": 4,
     "metadata": {},
     "output_type": "execute_result"
    }
   ],
   "source": [
    "X.columns"
   ]
  },
  {
   "cell_type": "code",
   "execution_count": 5,
   "id": "eedbf43d-dacc-44ac-bd8c-f5bc340959a9",
   "metadata": {},
   "outputs": [],
   "source": [
    "X = StandardScaler().fit_transform(X)"
   ]
  },
  {
   "cell_type": "code",
   "execution_count": 6,
   "id": "ab4c2a0d-9e62-4c74-9dd9-1c5d35f4d6ba",
   "metadata": {},
   "outputs": [],
   "source": [
    "X = pd.DataFrame(X , columns = [\n",
    "       'avg_air_temp_deg_f', 'max_air_temp_deg_f', 'min_air_temp_deg_f',\n",
    "       'total_precipitation', 'leaf_wethess_hrs',\n",
    "       'relative_humidity_(hrs_>=_90)', 'solar_radiation_(langleys)',\n",
    "       'avg_wind_speed_mph', 'avg_soil_temp_deg_f',\n",
    "       'avg_soil_moisture_(m3/m3)'\n",
    "])"
   ]
  },
  {
   "cell_type": "code",
   "execution_count": 7,
   "id": "e5d822c4-6607-4eb2-98ec-c25660972cdb",
   "metadata": {},
   "outputs": [
    {
     "data": {
      "text/html": [
       "<div>\n",
       "<style scoped>\n",
       "    .dataframe tbody tr th:only-of-type {\n",
       "        vertical-align: middle;\n",
       "    }\n",
       "\n",
       "    .dataframe tbody tr th {\n",
       "        vertical-align: top;\n",
       "    }\n",
       "\n",
       "    .dataframe thead th {\n",
       "        text-align: right;\n",
       "    }\n",
       "</style>\n",
       "<table border=\"1\" class=\"dataframe\">\n",
       "  <thead>\n",
       "    <tr style=\"text-align: right;\">\n",
       "      <th></th>\n",
       "      <th>avg_air_temp_deg_f</th>\n",
       "      <th>max_air_temp_deg_f</th>\n",
       "      <th>min_air_temp_deg_f</th>\n",
       "      <th>total_precipitation</th>\n",
       "      <th>leaf_wethess_hrs</th>\n",
       "      <th>relative_humidity_(hrs_&gt;=_90)</th>\n",
       "      <th>solar_radiation_(langleys)</th>\n",
       "      <th>avg_wind_speed_mph</th>\n",
       "      <th>avg_soil_temp_deg_f</th>\n",
       "      <th>avg_soil_moisture_(m3/m3)</th>\n",
       "    </tr>\n",
       "  </thead>\n",
       "  <tbody>\n",
       "    <tr>\n",
       "      <th>0</th>\n",
       "      <td>-1.725415</td>\n",
       "      <td>-1.697904</td>\n",
       "      <td>-1.705747</td>\n",
       "      <td>-0.278727</td>\n",
       "      <td>-0.576235</td>\n",
       "      <td>-0.330693</td>\n",
       "      <td>-1.513369</td>\n",
       "      <td>-0.549868</td>\n",
       "      <td>-1.431817</td>\n",
       "      <td>0.420710</td>\n",
       "    </tr>\n",
       "    <tr>\n",
       "      <th>1</th>\n",
       "      <td>-1.566479</td>\n",
       "      <td>-1.642920</td>\n",
       "      <td>-1.424821</td>\n",
       "      <td>-0.278727</td>\n",
       "      <td>-0.576235</td>\n",
       "      <td>-0.330693</td>\n",
       "      <td>-1.599959</td>\n",
       "      <td>0.128969</td>\n",
       "      <td>-1.486887</td>\n",
       "      <td>0.301940</td>\n",
       "    </tr>\n",
       "    <tr>\n",
       "      <th>2</th>\n",
       "      <td>-1.521069</td>\n",
       "      <td>-1.572940</td>\n",
       "      <td>-1.412052</td>\n",
       "      <td>-0.278727</td>\n",
       "      <td>-0.576235</td>\n",
       "      <td>-0.330693</td>\n",
       "      <td>-1.361837</td>\n",
       "      <td>0.772078</td>\n",
       "      <td>-1.521305</td>\n",
       "      <td>0.034708</td>\n",
       "    </tr>\n",
       "    <tr>\n",
       "      <th>3</th>\n",
       "      <td>-1.248607</td>\n",
       "      <td>-1.407987</td>\n",
       "      <td>-1.003432</td>\n",
       "      <td>-0.278727</td>\n",
       "      <td>-0.576235</td>\n",
       "      <td>-0.330693</td>\n",
       "      <td>-1.291483</td>\n",
       "      <td>0.879263</td>\n",
       "      <td>-1.555724</td>\n",
       "      <td>-0.024677</td>\n",
       "    </tr>\n",
       "    <tr>\n",
       "      <th>4</th>\n",
       "      <td>-1.345104</td>\n",
       "      <td>-1.353002</td>\n",
       "      <td>-1.290743</td>\n",
       "      <td>-0.278727</td>\n",
       "      <td>-0.576235</td>\n",
       "      <td>-0.330693</td>\n",
       "      <td>-1.296894</td>\n",
       "      <td>-0.585596</td>\n",
       "      <td>-1.555724</td>\n",
       "      <td>-0.291909</td>\n",
       "    </tr>\n",
       "  </tbody>\n",
       "</table>\n",
       "</div>"
      ],
      "text/plain": [
       "   avg_air_temp_deg_f  max_air_temp_deg_f  min_air_temp_deg_f  \\\n",
       "0           -1.725415           -1.697904           -1.705747   \n",
       "1           -1.566479           -1.642920           -1.424821   \n",
       "2           -1.521069           -1.572940           -1.412052   \n",
       "3           -1.248607           -1.407987           -1.003432   \n",
       "4           -1.345104           -1.353002           -1.290743   \n",
       "\n",
       "   total_precipitation  leaf_wethess_hrs  relative_humidity_(hrs_>=_90)  \\\n",
       "0            -0.278727         -0.576235                      -0.330693   \n",
       "1            -0.278727         -0.576235                      -0.330693   \n",
       "2            -0.278727         -0.576235                      -0.330693   \n",
       "3            -0.278727         -0.576235                      -0.330693   \n",
       "4            -0.278727         -0.576235                      -0.330693   \n",
       "\n",
       "   solar_radiation_(langleys)  avg_wind_speed_mph  avg_soil_temp_deg_f  \\\n",
       "0                   -1.513369           -0.549868            -1.431817   \n",
       "1                   -1.599959            0.128969            -1.486887   \n",
       "2                   -1.361837            0.772078            -1.521305   \n",
       "3                   -1.291483            0.879263            -1.555724   \n",
       "4                   -1.296894           -0.585596            -1.555724   \n",
       "\n",
       "   avg_soil_moisture_(m3/m3)  \n",
       "0                   0.420710  \n",
       "1                   0.301940  \n",
       "2                   0.034708  \n",
       "3                  -0.024677  \n",
       "4                  -0.291909  "
      ]
     },
     "execution_count": 7,
     "metadata": {},
     "output_type": "execute_result"
    }
   ],
   "source": [
    "X.head()"
   ]
  },
  {
   "cell_type": "code",
   "execution_count": 8,
   "id": "fe532bb9-273f-4a5a-b0fe-2edad621caec",
   "metadata": {},
   "outputs": [],
   "source": [
    "X_train, X_test, y_train, y_test = train_test_split(\n",
    "    X, y, test_size = 0.2, random_state = 0)"
   ]
  },
  {
   "cell_type": "code",
   "execution_count": 9,
   "id": "76ecee21-e516-4d3a-9db5-f8b00307fdca",
   "metadata": {},
   "outputs": [
    {
     "data": {
      "text/html": [
       "<div>\n",
       "<style scoped>\n",
       "    .dataframe tbody tr th:only-of-type {\n",
       "        vertical-align: middle;\n",
       "    }\n",
       "\n",
       "    .dataframe tbody tr th {\n",
       "        vertical-align: top;\n",
       "    }\n",
       "\n",
       "    .dataframe thead th {\n",
       "        text-align: right;\n",
       "    }\n",
       "</style>\n",
       "<table border=\"1\" class=\"dataframe\">\n",
       "  <thead>\n",
       "    <tr style=\"text-align: right;\">\n",
       "      <th></th>\n",
       "      <th>avg_air_temp_deg_f</th>\n",
       "      <th>max_air_temp_deg_f</th>\n",
       "      <th>min_air_temp_deg_f</th>\n",
       "      <th>total_precipitation</th>\n",
       "      <th>leaf_wethess_hrs</th>\n",
       "      <th>relative_humidity_(hrs_&gt;=_90)</th>\n",
       "      <th>solar_radiation_(langleys)</th>\n",
       "      <th>avg_wind_speed_mph</th>\n",
       "      <th>avg_soil_temp_deg_f</th>\n",
       "      <th>avg_soil_moisture_(m3/m3)</th>\n",
       "    </tr>\n",
       "  </thead>\n",
       "  <tbody>\n",
       "    <tr>\n",
       "      <th>1156</th>\n",
       "      <td>-0.715036</td>\n",
       "      <td>-0.653202</td>\n",
       "      <td>-0.773583</td>\n",
       "      <td>-0.278727</td>\n",
       "      <td>-0.576235</td>\n",
       "      <td>-0.330693</td>\n",
       "      <td>-0.463466</td>\n",
       "      <td>1.915383</td>\n",
       "      <td>-0.922423</td>\n",
       "      <td>-0.291909</td>\n",
       "    </tr>\n",
       "    <tr>\n",
       "      <th>9353</th>\n",
       "      <td>0.919734</td>\n",
       "      <td>0.901355</td>\n",
       "      <td>0.911975</td>\n",
       "      <td>-0.278727</td>\n",
       "      <td>-0.576235</td>\n",
       "      <td>-0.330693</td>\n",
       "      <td>0.175135</td>\n",
       "      <td>-0.514140</td>\n",
       "      <td>0.488735</td>\n",
       "      <td>-0.321601</td>\n",
       "    </tr>\n",
       "    <tr>\n",
       "      <th>10595</th>\n",
       "      <td>0.198846</td>\n",
       "      <td>0.281532</td>\n",
       "      <td>0.081965</td>\n",
       "      <td>-0.278727</td>\n",
       "      <td>-0.576235</td>\n",
       "      <td>-0.330693</td>\n",
       "      <td>1.176331</td>\n",
       "      <td>-0.156857</td>\n",
       "      <td>0.082597</td>\n",
       "      <td>0.301940</td>\n",
       "    </tr>\n",
       "    <tr>\n",
       "      <th>8263</th>\n",
       "      <td>1.254635</td>\n",
       "      <td>1.101298</td>\n",
       "      <td>1.409981</td>\n",
       "      <td>-0.278727</td>\n",
       "      <td>-0.576235</td>\n",
       "      <td>-0.330693</td>\n",
       "      <td>1.008563</td>\n",
       "      <td>0.450524</td>\n",
       "      <td>1.321663</td>\n",
       "      <td>-2.370380</td>\n",
       "    </tr>\n",
       "    <tr>\n",
       "      <th>5094</th>\n",
       "      <td>1.691709</td>\n",
       "      <td>1.686132</td>\n",
       "      <td>1.652599</td>\n",
       "      <td>-0.278727</td>\n",
       "      <td>-0.576235</td>\n",
       "      <td>-0.330693</td>\n",
       "      <td>1.484807</td>\n",
       "      <td>-0.371226</td>\n",
       "      <td>1.817290</td>\n",
       "      <td>0.391018</td>\n",
       "    </tr>\n",
       "  </tbody>\n",
       "</table>\n",
       "</div>"
      ],
      "text/plain": [
       "       avg_air_temp_deg_f  max_air_temp_deg_f  min_air_temp_deg_f  \\\n",
       "1156            -0.715036           -0.653202           -0.773583   \n",
       "9353             0.919734            0.901355            0.911975   \n",
       "10595            0.198846            0.281532            0.081965   \n",
       "8263             1.254635            1.101298            1.409981   \n",
       "5094             1.691709            1.686132            1.652599   \n",
       "\n",
       "       total_precipitation  leaf_wethess_hrs  relative_humidity_(hrs_>=_90)  \\\n",
       "1156             -0.278727         -0.576235                      -0.330693   \n",
       "9353             -0.278727         -0.576235                      -0.330693   \n",
       "10595            -0.278727         -0.576235                      -0.330693   \n",
       "8263             -0.278727         -0.576235                      -0.330693   \n",
       "5094             -0.278727         -0.576235                      -0.330693   \n",
       "\n",
       "       solar_radiation_(langleys)  avg_wind_speed_mph  avg_soil_temp_deg_f  \\\n",
       "1156                    -0.463466            1.915383            -0.922423   \n",
       "9353                     0.175135           -0.514140             0.488735   \n",
       "10595                    1.176331           -0.156857             0.082597   \n",
       "8263                     1.008563            0.450524             1.321663   \n",
       "5094                     1.484807           -0.371226             1.817290   \n",
       "\n",
       "       avg_soil_moisture_(m3/m3)  \n",
       "1156                   -0.291909  \n",
       "9353                   -0.321601  \n",
       "10595                   0.301940  \n",
       "8263                   -2.370380  \n",
       "5094                    0.391018  "
      ]
     },
     "execution_count": 9,
     "metadata": {},
     "output_type": "execute_result"
    }
   ],
   "source": [
    "X_test.head()"
   ]
  },
  {
   "cell_type": "code",
   "execution_count": 10,
   "id": "953f0e1f-f192-4b1a-9f62-aa335ec60cb7",
   "metadata": {},
   "outputs": [
    {
     "data": {
      "text/plain": [
       "((8912, 10), (8912,))"
      ]
     },
     "execution_count": 10,
     "metadata": {},
     "output_type": "execute_result"
    }
   ],
   "source": [
    "X_train.shape, y_train.shape"
   ]
  },
  {
   "cell_type": "code",
   "execution_count": 11,
   "id": "6d82c05f-39b3-4023-869f-e01271f7d4d8",
   "metadata": {},
   "outputs": [
    {
     "data": {
      "text/plain": [
       "((2229, 10), (2229,))"
      ]
     },
     "execution_count": 11,
     "metadata": {},
     "output_type": "execute_result"
    }
   ],
   "source": [
    "X_test.shape, y_test.shape"
   ]
  },
  {
   "cell_type": "code",
   "execution_count": 12,
   "id": "f0eb5a81-f18f-4925-9164-1adba637e53c",
   "metadata": {},
   "outputs": [
    {
     "data": {
      "text/plain": [
       "0    0\n",
       "1    0\n",
       "2    0\n",
       "3    0\n",
       "4    0\n",
       "Name: powdery_mildew, dtype: int32"
      ]
     },
     "execution_count": 12,
     "metadata": {},
     "output_type": "execute_result"
    }
   ],
   "source": [
    "y.head()"
   ]
  },
  {
   "cell_type": "code",
   "execution_count": 13,
   "id": "1c768c6d-3fb6-4516-85b0-b29bc46dfe7d",
   "metadata": {},
   "outputs": [
    {
     "data": {
      "text/html": [
       "<div>\n",
       "<style scoped>\n",
       "    .dataframe tbody tr th:only-of-type {\n",
       "        vertical-align: middle;\n",
       "    }\n",
       "\n",
       "    .dataframe tbody tr th {\n",
       "        vertical-align: top;\n",
       "    }\n",
       "\n",
       "    .dataframe thead th {\n",
       "        text-align: right;\n",
       "    }\n",
       "</style>\n",
       "<table border=\"1\" class=\"dataframe\">\n",
       "  <thead>\n",
       "    <tr style=\"text-align: right;\">\n",
       "      <th></th>\n",
       "      <th>avg_air_temp_deg_f</th>\n",
       "      <th>max_air_temp_deg_f</th>\n",
       "      <th>min_air_temp_deg_f</th>\n",
       "      <th>total_precipitation</th>\n",
       "      <th>leaf_wethess_hrs</th>\n",
       "      <th>relative_humidity_(hrs_&gt;=_90)</th>\n",
       "      <th>solar_radiation_(langleys)</th>\n",
       "      <th>avg_wind_speed_mph</th>\n",
       "      <th>avg_soil_temp_deg_f</th>\n",
       "      <th>avg_soil_moisture_(m3/m3)</th>\n",
       "    </tr>\n",
       "  </thead>\n",
       "  <tbody>\n",
       "    <tr>\n",
       "      <th>0</th>\n",
       "      <td>-1.725415</td>\n",
       "      <td>-1.697904</td>\n",
       "      <td>-1.705747</td>\n",
       "      <td>-0.278727</td>\n",
       "      <td>-0.576235</td>\n",
       "      <td>-0.330693</td>\n",
       "      <td>-1.513369</td>\n",
       "      <td>-0.549868</td>\n",
       "      <td>-1.431817</td>\n",
       "      <td>0.420710</td>\n",
       "    </tr>\n",
       "    <tr>\n",
       "      <th>1</th>\n",
       "      <td>-1.566479</td>\n",
       "      <td>-1.642920</td>\n",
       "      <td>-1.424821</td>\n",
       "      <td>-0.278727</td>\n",
       "      <td>-0.576235</td>\n",
       "      <td>-0.330693</td>\n",
       "      <td>-1.599959</td>\n",
       "      <td>0.128969</td>\n",
       "      <td>-1.486887</td>\n",
       "      <td>0.301940</td>\n",
       "    </tr>\n",
       "    <tr>\n",
       "      <th>2</th>\n",
       "      <td>-1.521069</td>\n",
       "      <td>-1.572940</td>\n",
       "      <td>-1.412052</td>\n",
       "      <td>-0.278727</td>\n",
       "      <td>-0.576235</td>\n",
       "      <td>-0.330693</td>\n",
       "      <td>-1.361837</td>\n",
       "      <td>0.772078</td>\n",
       "      <td>-1.521305</td>\n",
       "      <td>0.034708</td>\n",
       "    </tr>\n",
       "    <tr>\n",
       "      <th>3</th>\n",
       "      <td>-1.248607</td>\n",
       "      <td>-1.407987</td>\n",
       "      <td>-1.003432</td>\n",
       "      <td>-0.278727</td>\n",
       "      <td>-0.576235</td>\n",
       "      <td>-0.330693</td>\n",
       "      <td>-1.291483</td>\n",
       "      <td>0.879263</td>\n",
       "      <td>-1.555724</td>\n",
       "      <td>-0.024677</td>\n",
       "    </tr>\n",
       "    <tr>\n",
       "      <th>4</th>\n",
       "      <td>-1.345104</td>\n",
       "      <td>-1.353002</td>\n",
       "      <td>-1.290743</td>\n",
       "      <td>-0.278727</td>\n",
       "      <td>-0.576235</td>\n",
       "      <td>-0.330693</td>\n",
       "      <td>-1.296894</td>\n",
       "      <td>-0.585596</td>\n",
       "      <td>-1.555724</td>\n",
       "      <td>-0.291909</td>\n",
       "    </tr>\n",
       "  </tbody>\n",
       "</table>\n",
       "</div>"
      ],
      "text/plain": [
       "   avg_air_temp_deg_f  max_air_temp_deg_f  min_air_temp_deg_f  \\\n",
       "0           -1.725415           -1.697904           -1.705747   \n",
       "1           -1.566479           -1.642920           -1.424821   \n",
       "2           -1.521069           -1.572940           -1.412052   \n",
       "3           -1.248607           -1.407987           -1.003432   \n",
       "4           -1.345104           -1.353002           -1.290743   \n",
       "\n",
       "   total_precipitation  leaf_wethess_hrs  relative_humidity_(hrs_>=_90)  \\\n",
       "0            -0.278727         -0.576235                      -0.330693   \n",
       "1            -0.278727         -0.576235                      -0.330693   \n",
       "2            -0.278727         -0.576235                      -0.330693   \n",
       "3            -0.278727         -0.576235                      -0.330693   \n",
       "4            -0.278727         -0.576235                      -0.330693   \n",
       "\n",
       "   solar_radiation_(langleys)  avg_wind_speed_mph  avg_soil_temp_deg_f  \\\n",
       "0                   -1.513369           -0.549868            -1.431817   \n",
       "1                   -1.599959            0.128969            -1.486887   \n",
       "2                   -1.361837            0.772078            -1.521305   \n",
       "3                   -1.291483            0.879263            -1.555724   \n",
       "4                   -1.296894           -0.585596            -1.555724   \n",
       "\n",
       "   avg_soil_moisture_(m3/m3)  \n",
       "0                   0.420710  \n",
       "1                   0.301940  \n",
       "2                   0.034708  \n",
       "3                  -0.024677  \n",
       "4                  -0.291909  "
      ]
     },
     "execution_count": 13,
     "metadata": {},
     "output_type": "execute_result"
    }
   ],
   "source": [
    "X.head()"
   ]
  },
  {
   "cell_type": "code",
   "execution_count": 14,
   "id": "b946a326-5b6b-42e0-9e4b-c561ae5dac75",
   "metadata": {},
   "outputs": [
    {
     "data": {
      "text/plain": [
       "605     0\n",
       "1565    0\n",
       "4462    0\n",
       "6977    0\n",
       "4793    0\n",
       "Name: powdery_mildew, dtype: int32"
      ]
     },
     "execution_count": 14,
     "metadata": {},
     "output_type": "execute_result"
    }
   ],
   "source": [
    "y.sample(5)"
   ]
  },
  {
   "cell_type": "markdown",
   "id": "da951187-de70-41d8-879d-e8cacaa5dbdb",
   "metadata": {
    "tags": []
   },
   "source": [
    "# d. K-Nearest Neighbour (KNN)"
   ]
  },
  {
   "cell_type": "markdown",
   "id": "cca0104f-7906-4823-99f9-3d420bf6004b",
   "metadata": {},
   "source": [
    "## d.1 Creating & Fitting the KNN Model"
   ]
  },
  {
   "cell_type": "markdown",
   "id": "5455f9d3-dc3e-4eb1-a9a8-8eef305240ef",
   "metadata": {},
   "source": [
    "Selecting the number of neighbours N and creating the KNN classifier model. \n",
    "Since KNN is a lazy algorithm we fit the entire dataset to the model without using the train-test split"
   ]
  },
  {
   "cell_type": "markdown",
   "id": "b7ae4aee-bf87-42bf-83da-9ab9670b8caf",
   "metadata": {},
   "source": [
    "Initial Model"
   ]
  },
  {
   "cell_type": "code",
   "execution_count": 15,
   "id": "6e2cc183-568e-44f7-98a9-2d953e7f5ee4",
   "metadata": {},
   "outputs": [
    {
     "data": {
      "text/html": [
       "<style>#sk-container-id-1 {color: black;background-color: white;}#sk-container-id-1 pre{padding: 0;}#sk-container-id-1 div.sk-toggleable {background-color: white;}#sk-container-id-1 label.sk-toggleable__label {cursor: pointer;display: block;width: 100%;margin-bottom: 0;padding: 0.3em;box-sizing: border-box;text-align: center;}#sk-container-id-1 label.sk-toggleable__label-arrow:before {content: \"▸\";float: left;margin-right: 0.25em;color: #696969;}#sk-container-id-1 label.sk-toggleable__label-arrow:hover:before {color: black;}#sk-container-id-1 div.sk-estimator:hover label.sk-toggleable__label-arrow:before {color: black;}#sk-container-id-1 div.sk-toggleable__content {max-height: 0;max-width: 0;overflow: hidden;text-align: left;background-color: #f0f8ff;}#sk-container-id-1 div.sk-toggleable__content pre {margin: 0.2em;color: black;border-radius: 0.25em;background-color: #f0f8ff;}#sk-container-id-1 input.sk-toggleable__control:checked~div.sk-toggleable__content {max-height: 200px;max-width: 100%;overflow: auto;}#sk-container-id-1 input.sk-toggleable__control:checked~label.sk-toggleable__label-arrow:before {content: \"▾\";}#sk-container-id-1 div.sk-estimator input.sk-toggleable__control:checked~label.sk-toggleable__label {background-color: #d4ebff;}#sk-container-id-1 div.sk-label input.sk-toggleable__control:checked~label.sk-toggleable__label {background-color: #d4ebff;}#sk-container-id-1 input.sk-hidden--visually {border: 0;clip: rect(1px 1px 1px 1px);clip: rect(1px, 1px, 1px, 1px);height: 1px;margin: -1px;overflow: hidden;padding: 0;position: absolute;width: 1px;}#sk-container-id-1 div.sk-estimator {font-family: monospace;background-color: #f0f8ff;border: 1px dotted black;border-radius: 0.25em;box-sizing: border-box;margin-bottom: 0.5em;}#sk-container-id-1 div.sk-estimator:hover {background-color: #d4ebff;}#sk-container-id-1 div.sk-parallel-item::after {content: \"\";width: 100%;border-bottom: 1px solid gray;flex-grow: 1;}#sk-container-id-1 div.sk-label:hover label.sk-toggleable__label {background-color: #d4ebff;}#sk-container-id-1 div.sk-serial::before {content: \"\";position: absolute;border-left: 1px solid gray;box-sizing: border-box;top: 0;bottom: 0;left: 50%;z-index: 0;}#sk-container-id-1 div.sk-serial {display: flex;flex-direction: column;align-items: center;background-color: white;padding-right: 0.2em;padding-left: 0.2em;position: relative;}#sk-container-id-1 div.sk-item {position: relative;z-index: 1;}#sk-container-id-1 div.sk-parallel {display: flex;align-items: stretch;justify-content: center;background-color: white;position: relative;}#sk-container-id-1 div.sk-item::before, #sk-container-id-1 div.sk-parallel-item::before {content: \"\";position: absolute;border-left: 1px solid gray;box-sizing: border-box;top: 0;bottom: 0;left: 50%;z-index: -1;}#sk-container-id-1 div.sk-parallel-item {display: flex;flex-direction: column;z-index: 1;position: relative;background-color: white;}#sk-container-id-1 div.sk-parallel-item:first-child::after {align-self: flex-end;width: 50%;}#sk-container-id-1 div.sk-parallel-item:last-child::after {align-self: flex-start;width: 50%;}#sk-container-id-1 div.sk-parallel-item:only-child::after {width: 0;}#sk-container-id-1 div.sk-dashed-wrapped {border: 1px dashed gray;margin: 0 0.4em 0.5em 0.4em;box-sizing: border-box;padding-bottom: 0.4em;background-color: white;}#sk-container-id-1 div.sk-label label {font-family: monospace;font-weight: bold;display: inline-block;line-height: 1.2em;}#sk-container-id-1 div.sk-label-container {text-align: center;}#sk-container-id-1 div.sk-container {/* jupyter's `normalize.less` sets `[hidden] { display: none; }` but bootstrap.min.css set `[hidden] { display: none !important; }` so we also need the `!important` here to be able to override the default hidden behavior on the sphinx rendered scikit-learn.org. See: https://github.com/scikit-learn/scikit-learn/issues/21755 */display: inline-block !important;position: relative;}#sk-container-id-1 div.sk-text-repr-fallback {display: none;}</style><div id=\"sk-container-id-1\" class=\"sk-top-container\"><div class=\"sk-text-repr-fallback\"><pre>KNeighborsClassifier(n_neighbors=3)</pre><b>In a Jupyter environment, please rerun this cell to show the HTML representation or trust the notebook. <br />On GitHub, the HTML representation is unable to render, please try loading this page with nbviewer.org.</b></div><div class=\"sk-container\" hidden><div class=\"sk-item\"><div class=\"sk-estimator sk-toggleable\"><input class=\"sk-toggleable__control sk-hidden--visually\" id=\"sk-estimator-id-1\" type=\"checkbox\" checked><label for=\"sk-estimator-id-1\" class=\"sk-toggleable__label sk-toggleable__label-arrow\">KNeighborsClassifier</label><div class=\"sk-toggleable__content\"><pre>KNeighborsClassifier(n_neighbors=3)</pre></div></div></div></div></div>"
      ],
      "text/plain": [
       "KNeighborsClassifier(n_neighbors=3)"
      ]
     },
     "execution_count": 15,
     "metadata": {},
     "output_type": "execute_result"
    }
   ],
   "source": [
    "k = 3 #Number of nearest neighbours used\n",
    "knn_classifier = KNeighborsClassifier(n_neighbors=k).fit(X, y)#Creating Model and fitting data\n",
    "knn_classifier"
   ]
  },
  {
   "cell_type": "markdown",
   "id": "7f1f6409-ea5d-4e2b-8fc6-8ef966c69240",
   "metadata": {},
   "source": [
    "Hyperparameter Tuning a model using Train Data"
   ]
  },
  {
   "cell_type": "code",
   "execution_count": 16,
   "id": "132a2b6a-2f58-4f3b-98df-fd173894c9b4",
   "metadata": {},
   "outputs": [],
   "source": [
    "pipe = KNeighborsClassifier()\n",
    "\n",
    "param_grid = {\n",
    "              'n_neighbors' : [3, 5, 7, 9], \n",
    "              'weights' : ['uniform', 'distance'],\n",
    "              'algorithm' : ['auto', 'ball_tree', 'kd_tree', 'brute'],\n",
    "              'p' : [1, 2],\n",
    "              'metric' : ['minkowski','euclidean','manhattan']\n",
    "}\n",
    "\n",
    "gs = GridSearchCV(\n",
    "                  estimator = pipe, \n",
    "                  param_grid = param_grid, \n",
    "                  scoring = 'accuracy',\n",
    "                  n_jobs = -1, \n",
    "                  cv = 5,\n",
    ")\n",
    "\n",
    "# run gridearch\n",
    "gs = gs.fit(X_train, y_train)"
   ]
  },
  {
   "cell_type": "code",
   "execution_count": 17,
   "id": "570d9733-80d5-4edc-8138-1493238d59c1",
   "metadata": {},
   "outputs": [
    {
     "data": {
      "text/plain": [
       "{'algorithm': 'auto',\n",
       " 'metric': 'minkowski',\n",
       " 'n_neighbors': 7,\n",
       " 'p': 1,\n",
       " 'weights': 'distance'}"
      ]
     },
     "execution_count": 17,
     "metadata": {},
     "output_type": "execute_result"
    }
   ],
   "source": [
    "gs.best_params_"
   ]
  },
  {
   "cell_type": "code",
   "execution_count": 18,
   "id": "f4587e51-b774-4df5-a754-d25fc1647f66",
   "metadata": {},
   "outputs": [
    {
     "data": {
      "text/plain": [
       "0.986310792854072"
      ]
     },
     "execution_count": 18,
     "metadata": {},
     "output_type": "execute_result"
    }
   ],
   "source": [
    "gs.best_score_"
   ]
  },
  {
   "cell_type": "code",
   "execution_count": 19,
   "id": "9cbac4ff-218b-444c-82c5-6c0d56acfae0",
   "metadata": {},
   "outputs": [
    {
     "data": {
      "text/html": [
       "<style>#sk-container-id-2 {color: black;background-color: white;}#sk-container-id-2 pre{padding: 0;}#sk-container-id-2 div.sk-toggleable {background-color: white;}#sk-container-id-2 label.sk-toggleable__label {cursor: pointer;display: block;width: 100%;margin-bottom: 0;padding: 0.3em;box-sizing: border-box;text-align: center;}#sk-container-id-2 label.sk-toggleable__label-arrow:before {content: \"▸\";float: left;margin-right: 0.25em;color: #696969;}#sk-container-id-2 label.sk-toggleable__label-arrow:hover:before {color: black;}#sk-container-id-2 div.sk-estimator:hover label.sk-toggleable__label-arrow:before {color: black;}#sk-container-id-2 div.sk-toggleable__content {max-height: 0;max-width: 0;overflow: hidden;text-align: left;background-color: #f0f8ff;}#sk-container-id-2 div.sk-toggleable__content pre {margin: 0.2em;color: black;border-radius: 0.25em;background-color: #f0f8ff;}#sk-container-id-2 input.sk-toggleable__control:checked~div.sk-toggleable__content {max-height: 200px;max-width: 100%;overflow: auto;}#sk-container-id-2 input.sk-toggleable__control:checked~label.sk-toggleable__label-arrow:before {content: \"▾\";}#sk-container-id-2 div.sk-estimator input.sk-toggleable__control:checked~label.sk-toggleable__label {background-color: #d4ebff;}#sk-container-id-2 div.sk-label input.sk-toggleable__control:checked~label.sk-toggleable__label {background-color: #d4ebff;}#sk-container-id-2 input.sk-hidden--visually {border: 0;clip: rect(1px 1px 1px 1px);clip: rect(1px, 1px, 1px, 1px);height: 1px;margin: -1px;overflow: hidden;padding: 0;position: absolute;width: 1px;}#sk-container-id-2 div.sk-estimator {font-family: monospace;background-color: #f0f8ff;border: 1px dotted black;border-radius: 0.25em;box-sizing: border-box;margin-bottom: 0.5em;}#sk-container-id-2 div.sk-estimator:hover {background-color: #d4ebff;}#sk-container-id-2 div.sk-parallel-item::after {content: \"\";width: 100%;border-bottom: 1px solid gray;flex-grow: 1;}#sk-container-id-2 div.sk-label:hover label.sk-toggleable__label {background-color: #d4ebff;}#sk-container-id-2 div.sk-serial::before {content: \"\";position: absolute;border-left: 1px solid gray;box-sizing: border-box;top: 0;bottom: 0;left: 50%;z-index: 0;}#sk-container-id-2 div.sk-serial {display: flex;flex-direction: column;align-items: center;background-color: white;padding-right: 0.2em;padding-left: 0.2em;position: relative;}#sk-container-id-2 div.sk-item {position: relative;z-index: 1;}#sk-container-id-2 div.sk-parallel {display: flex;align-items: stretch;justify-content: center;background-color: white;position: relative;}#sk-container-id-2 div.sk-item::before, #sk-container-id-2 div.sk-parallel-item::before {content: \"\";position: absolute;border-left: 1px solid gray;box-sizing: border-box;top: 0;bottom: 0;left: 50%;z-index: -1;}#sk-container-id-2 div.sk-parallel-item {display: flex;flex-direction: column;z-index: 1;position: relative;background-color: white;}#sk-container-id-2 div.sk-parallel-item:first-child::after {align-self: flex-end;width: 50%;}#sk-container-id-2 div.sk-parallel-item:last-child::after {align-self: flex-start;width: 50%;}#sk-container-id-2 div.sk-parallel-item:only-child::after {width: 0;}#sk-container-id-2 div.sk-dashed-wrapped {border: 1px dashed gray;margin: 0 0.4em 0.5em 0.4em;box-sizing: border-box;padding-bottom: 0.4em;background-color: white;}#sk-container-id-2 div.sk-label label {font-family: monospace;font-weight: bold;display: inline-block;line-height: 1.2em;}#sk-container-id-2 div.sk-label-container {text-align: center;}#sk-container-id-2 div.sk-container {/* jupyter's `normalize.less` sets `[hidden] { display: none; }` but bootstrap.min.css set `[hidden] { display: none !important; }` so we also need the `!important` here to be able to override the default hidden behavior on the sphinx rendered scikit-learn.org. See: https://github.com/scikit-learn/scikit-learn/issues/21755 */display: inline-block !important;position: relative;}#sk-container-id-2 div.sk-text-repr-fallback {display: none;}</style><div id=\"sk-container-id-2\" class=\"sk-top-container\"><div class=\"sk-text-repr-fallback\"><pre>KNeighborsClassifier(n_neighbors=7, p=1, weights=&#x27;distance&#x27;)</pre><b>In a Jupyter environment, please rerun this cell to show the HTML representation or trust the notebook. <br />On GitHub, the HTML representation is unable to render, please try loading this page with nbviewer.org.</b></div><div class=\"sk-container\" hidden><div class=\"sk-item\"><div class=\"sk-estimator sk-toggleable\"><input class=\"sk-toggleable__control sk-hidden--visually\" id=\"sk-estimator-id-2\" type=\"checkbox\" checked><label for=\"sk-estimator-id-2\" class=\"sk-toggleable__label sk-toggleable__label-arrow\">KNeighborsClassifier</label><div class=\"sk-toggleable__content\"><pre>KNeighborsClassifier(n_neighbors=7, p=1, weights=&#x27;distance&#x27;)</pre></div></div></div></div></div>"
      ],
      "text/plain": [
       "KNeighborsClassifier(n_neighbors=7, p=1, weights='distance')"
      ]
     },
     "execution_count": 19,
     "metadata": {},
     "output_type": "execute_result"
    }
   ],
   "source": [
    "knn_classifier_fine_tuned = KNeighborsClassifier(algorithm = 'auto', metric = 'minkowski', n_neighbors = 7, p = 1, weights = 'distance').fit(X_train, y_train) #Creating Model and fitting data\n",
    "knn_classifier_fine_tuned"
   ]
  },
  {
   "cell_type": "markdown",
   "id": "a9a0feae-6985-40d1-be93-21fba5876d88",
   "metadata": {},
   "source": [
    "Hyperparameter Tuning a model using all Data"
   ]
  },
  {
   "cell_type": "code",
   "execution_count": 20,
   "id": "8cf05789-14ff-4628-958c-c4cdef4c3eb0",
   "metadata": {},
   "outputs": [],
   "source": [
    "pipe = KNeighborsClassifier()\n",
    "\n",
    "param_grid = {\n",
    "               'n_neighbors' : [3, 5, 7, 9], \n",
    "               'weights' : ['uniform', 'distance'],\n",
    "               'algorithm' : ['auto', 'ball_tree', 'kd_tree', 'brute'],\n",
    "               'p' : [1, 2],\n",
    "               'metric' : ['minkowski','euclidean','manhattan']\n",
    "}\n",
    "\n",
    "gs = GridSearchCV(\n",
    "                  estimator = pipe, \n",
    "                  param_grid = param_grid, \n",
    "                  scoring = 'accuracy',\n",
    "                  n_jobs = -1, \n",
    "                  cv = 5,\n",
    ")\n",
    "\n",
    "# run gridearch\n",
    "gs = gs.fit(X, y)"
   ]
  },
  {
   "cell_type": "code",
   "execution_count": 21,
   "id": "d193f4aa-d4c8-4d0b-8c8e-aedb25d55abd",
   "metadata": {},
   "outputs": [
    {
     "data": {
      "text/plain": [
       "{'algorithm': 'auto',\n",
       " 'metric': 'minkowski',\n",
       " 'n_neighbors': 7,\n",
       " 'p': 1,\n",
       " 'weights': 'distance'}"
      ]
     },
     "execution_count": 21,
     "metadata": {},
     "output_type": "execute_result"
    }
   ],
   "source": [
    "gs.best_params_"
   ]
  },
  {
   "cell_type": "code",
   "execution_count": 22,
   "id": "d808bee8-0e9b-4b01-90cd-ade0ec4792dc",
   "metadata": {},
   "outputs": [
    {
     "data": {
      "text/plain": [
       "0.9871647444772798"
      ]
     },
     "execution_count": 22,
     "metadata": {},
     "output_type": "execute_result"
    }
   ],
   "source": [
    "gs.best_score_"
   ]
  },
  {
   "cell_type": "code",
   "execution_count": 23,
   "id": "2da0e423-e9c6-41a2-9c71-a934bba7f1f9",
   "metadata": {},
   "outputs": [
    {
     "data": {
      "text/html": [
       "<style>#sk-container-id-3 {color: black;background-color: white;}#sk-container-id-3 pre{padding: 0;}#sk-container-id-3 div.sk-toggleable {background-color: white;}#sk-container-id-3 label.sk-toggleable__label {cursor: pointer;display: block;width: 100%;margin-bottom: 0;padding: 0.3em;box-sizing: border-box;text-align: center;}#sk-container-id-3 label.sk-toggleable__label-arrow:before {content: \"▸\";float: left;margin-right: 0.25em;color: #696969;}#sk-container-id-3 label.sk-toggleable__label-arrow:hover:before {color: black;}#sk-container-id-3 div.sk-estimator:hover label.sk-toggleable__label-arrow:before {color: black;}#sk-container-id-3 div.sk-toggleable__content {max-height: 0;max-width: 0;overflow: hidden;text-align: left;background-color: #f0f8ff;}#sk-container-id-3 div.sk-toggleable__content pre {margin: 0.2em;color: black;border-radius: 0.25em;background-color: #f0f8ff;}#sk-container-id-3 input.sk-toggleable__control:checked~div.sk-toggleable__content {max-height: 200px;max-width: 100%;overflow: auto;}#sk-container-id-3 input.sk-toggleable__control:checked~label.sk-toggleable__label-arrow:before {content: \"▾\";}#sk-container-id-3 div.sk-estimator input.sk-toggleable__control:checked~label.sk-toggleable__label {background-color: #d4ebff;}#sk-container-id-3 div.sk-label input.sk-toggleable__control:checked~label.sk-toggleable__label {background-color: #d4ebff;}#sk-container-id-3 input.sk-hidden--visually {border: 0;clip: rect(1px 1px 1px 1px);clip: rect(1px, 1px, 1px, 1px);height: 1px;margin: -1px;overflow: hidden;padding: 0;position: absolute;width: 1px;}#sk-container-id-3 div.sk-estimator {font-family: monospace;background-color: #f0f8ff;border: 1px dotted black;border-radius: 0.25em;box-sizing: border-box;margin-bottom: 0.5em;}#sk-container-id-3 div.sk-estimator:hover {background-color: #d4ebff;}#sk-container-id-3 div.sk-parallel-item::after {content: \"\";width: 100%;border-bottom: 1px solid gray;flex-grow: 1;}#sk-container-id-3 div.sk-label:hover label.sk-toggleable__label {background-color: #d4ebff;}#sk-container-id-3 div.sk-serial::before {content: \"\";position: absolute;border-left: 1px solid gray;box-sizing: border-box;top: 0;bottom: 0;left: 50%;z-index: 0;}#sk-container-id-3 div.sk-serial {display: flex;flex-direction: column;align-items: center;background-color: white;padding-right: 0.2em;padding-left: 0.2em;position: relative;}#sk-container-id-3 div.sk-item {position: relative;z-index: 1;}#sk-container-id-3 div.sk-parallel {display: flex;align-items: stretch;justify-content: center;background-color: white;position: relative;}#sk-container-id-3 div.sk-item::before, #sk-container-id-3 div.sk-parallel-item::before {content: \"\";position: absolute;border-left: 1px solid gray;box-sizing: border-box;top: 0;bottom: 0;left: 50%;z-index: -1;}#sk-container-id-3 div.sk-parallel-item {display: flex;flex-direction: column;z-index: 1;position: relative;background-color: white;}#sk-container-id-3 div.sk-parallel-item:first-child::after {align-self: flex-end;width: 50%;}#sk-container-id-3 div.sk-parallel-item:last-child::after {align-self: flex-start;width: 50%;}#sk-container-id-3 div.sk-parallel-item:only-child::after {width: 0;}#sk-container-id-3 div.sk-dashed-wrapped {border: 1px dashed gray;margin: 0 0.4em 0.5em 0.4em;box-sizing: border-box;padding-bottom: 0.4em;background-color: white;}#sk-container-id-3 div.sk-label label {font-family: monospace;font-weight: bold;display: inline-block;line-height: 1.2em;}#sk-container-id-3 div.sk-label-container {text-align: center;}#sk-container-id-3 div.sk-container {/* jupyter's `normalize.less` sets `[hidden] { display: none; }` but bootstrap.min.css set `[hidden] { display: none !important; }` so we also need the `!important` here to be able to override the default hidden behavior on the sphinx rendered scikit-learn.org. See: https://github.com/scikit-learn/scikit-learn/issues/21755 */display: inline-block !important;position: relative;}#sk-container-id-3 div.sk-text-repr-fallback {display: none;}</style><div id=\"sk-container-id-3\" class=\"sk-top-container\"><div class=\"sk-text-repr-fallback\"><pre>KNeighborsClassifier(n_neighbors=7, p=1, weights=&#x27;distance&#x27;)</pre><b>In a Jupyter environment, please rerun this cell to show the HTML representation or trust the notebook. <br />On GitHub, the HTML representation is unable to render, please try loading this page with nbviewer.org.</b></div><div class=\"sk-container\" hidden><div class=\"sk-item\"><div class=\"sk-estimator sk-toggleable\"><input class=\"sk-toggleable__control sk-hidden--visually\" id=\"sk-estimator-id-3\" type=\"checkbox\" checked><label for=\"sk-estimator-id-3\" class=\"sk-toggleable__label sk-toggleable__label-arrow\">KNeighborsClassifier</label><div class=\"sk-toggleable__content\"><pre>KNeighborsClassifier(n_neighbors=7, p=1, weights=&#x27;distance&#x27;)</pre></div></div></div></div></div>"
      ],
      "text/plain": [
       "KNeighborsClassifier(n_neighbors=7, p=1, weights='distance')"
      ]
     },
     "execution_count": 23,
     "metadata": {},
     "output_type": "execute_result"
    }
   ],
   "source": [
    "knn_classifier_fine_tuned_lazy = KNeighborsClassifier(algorithm = 'auto', metric = 'minkowski', n_neighbors = 7, p = 1, weights = 'distance').fit(X, y) #Creating Model and fitting data\n",
    "knn_classifier_fine_tuned_lazy"
   ]
  },
  {
   "cell_type": "markdown",
   "id": "3108ffed-7dcd-40b1-a261-74525939487a",
   "metadata": {
    "tags": []
   },
   "source": [
    "## d.2 Making Predictions Using the KNN Model"
   ]
  },
  {
   "cell_type": "code",
   "execution_count": 24,
   "id": "d26220c8-1100-40ce-9bfc-8593fdd5d833",
   "metadata": {},
   "outputs": [
    {
     "data": {
      "text/plain": [
       "array([0, 0, 0, ..., 0, 0, 0])"
      ]
     },
     "execution_count": 24,
     "metadata": {},
     "output_type": "execute_result"
    }
   ],
   "source": [
    "y_pred = knn_classifier.predict(X) #Making predictions with initial model \n",
    "y_pred"
   ]
  },
  {
   "cell_type": "code",
   "execution_count": 25,
   "id": "cfdb7525-5185-4e3b-978d-ab2c37f9de73",
   "metadata": {},
   "outputs": [
    {
     "data": {
      "text/plain": [
       "array([0, 0, 0, ..., 0, 0, 0])"
      ]
     },
     "execution_count": 25,
     "metadata": {},
     "output_type": "execute_result"
    }
   ],
   "source": [
    "y_pred_tuned = knn_classifier_fine_tuned.predict(X_test) #Making predictions with fine tuned model\n",
    "y_pred_tuned"
   ]
  },
  {
   "cell_type": "code",
   "execution_count": 26,
   "id": "94b11d1e-92dc-4775-a560-6f251ed15736",
   "metadata": {},
   "outputs": [
    {
     "data": {
      "text/plain": [
       "array([0, 0, 0, ..., 0, 0, 0])"
      ]
     },
     "execution_count": 26,
     "metadata": {},
     "output_type": "execute_result"
    }
   ],
   "source": [
    "y_pred_tuned_lazy = knn_classifier_fine_tuned_lazy.predict(X) #Making predictions with fine tuned model using X trained Model\n",
    "y_pred_tuned_lazy"
   ]
  },
  {
   "cell_type": "markdown",
   "id": "9c805174-b201-4caf-ba9c-ab4622033a72",
   "metadata": {
    "tags": []
   },
   "source": [
    "## d.3 KNN Model Evaluation"
   ]
  },
  {
   "cell_type": "markdown",
   "id": "067784b3-f24a-4abd-9955-e51f011a88ec",
   "metadata": {},
   "source": [
    "### Evaluating model performance"
   ]
  },
  {
   "cell_type": "markdown",
   "id": "c923b48c-c911-453d-b7d5-adbee5d15d45",
   "metadata": {},
   "source": [
    "### Accuracy score"
   ]
  },
  {
   "cell_type": "code",
   "execution_count": 27,
   "id": "16d257cd-416d-48a6-b2cc-94ea4a799bdf",
   "metadata": {},
   "outputs": [
    {
     "data": {
      "text/plain": [
       "0.9928193160398529"
      ]
     },
     "execution_count": 27,
     "metadata": {},
     "output_type": "execute_result"
    }
   ],
   "source": [
    "knn_classifier.score(X, y) #Initial Model Accuracy Score"
   ]
  },
  {
   "cell_type": "code",
   "execution_count": 28,
   "id": "31a3a9fd-f8e6-4bb2-89eb-983ef928fa34",
   "metadata": {},
   "outputs": [
    {
     "data": {
      "text/plain": [
       "1.0"
      ]
     },
     "execution_count": 28,
     "metadata": {},
     "output_type": "execute_result"
    }
   ],
   "source": [
    "knn_classifier_fine_tuned.score(X_train, y_train) #Fine Tuned Model Accuracy Score on training data"
   ]
  },
  {
   "cell_type": "code",
   "execution_count": 29,
   "id": "8eacef60-c373-4ff2-9ea6-b5c7cc9dfc4f",
   "metadata": {},
   "outputs": [
    {
     "data": {
      "text/plain": [
       "0.987438313144908"
      ]
     },
     "execution_count": 29,
     "metadata": {},
     "output_type": "execute_result"
    }
   ],
   "source": [
    "knn_classifier_fine_tuned.score(X_test, y_test) #Fine Tuned Model Accuracy Score on test data"
   ]
  },
  {
   "cell_type": "code",
   "execution_count": 30,
   "id": "6c4a3638-c4c3-4f60-8dac-4308a25116b4",
   "metadata": {},
   "outputs": [
    {
     "data": {
      "text/plain": [
       "1.0"
      ]
     },
     "execution_count": 30,
     "metadata": {},
     "output_type": "execute_result"
    }
   ],
   "source": [
    "knn_classifier_fine_tuned_lazy.score(X, y) #Fine Tuned Model Accuracy Score trained on X"
   ]
  },
  {
   "cell_type": "markdown",
   "id": "f82c8b1a-b8bc-4175-b7ac-2235f4666d27",
   "metadata": {},
   "source": [
    "### Confusion Matrix "
   ]
  },
  {
   "cell_type": "markdown",
   "id": "11439812-5cad-436d-b971-73eb05caeced",
   "metadata": {},
   "source": [
    "Initial model predictions confusion matrix"
   ]
  },
  {
   "cell_type": "code",
   "execution_count": 31,
   "id": "551c0d42-8b86-498f-8d3b-817f568cd80a",
   "metadata": {},
   "outputs": [
    {
     "data": {
      "text/html": [
       "<div>\n",
       "<style scoped>\n",
       "    .dataframe tbody tr th:only-of-type {\n",
       "        vertical-align: middle;\n",
       "    }\n",
       "\n",
       "    .dataframe tbody tr th {\n",
       "        vertical-align: top;\n",
       "    }\n",
       "\n",
       "    .dataframe thead th {\n",
       "        text-align: right;\n",
       "    }\n",
       "</style>\n",
       "<table border=\"1\" class=\"dataframe\">\n",
       "  <thead>\n",
       "    <tr style=\"text-align: right;\">\n",
       "      <th>Predicted</th>\n",
       "      <th>0</th>\n",
       "      <th>1</th>\n",
       "      <th>All</th>\n",
       "    </tr>\n",
       "    <tr>\n",
       "      <th>True</th>\n",
       "      <th></th>\n",
       "      <th></th>\n",
       "      <th></th>\n",
       "    </tr>\n",
       "  </thead>\n",
       "  <tbody>\n",
       "    <tr>\n",
       "      <th>0</th>\n",
       "      <td>10717</td>\n",
       "      <td>22</td>\n",
       "      <td>10739</td>\n",
       "    </tr>\n",
       "    <tr>\n",
       "      <th>1</th>\n",
       "      <td>58</td>\n",
       "      <td>344</td>\n",
       "      <td>402</td>\n",
       "    </tr>\n",
       "    <tr>\n",
       "      <th>All</th>\n",
       "      <td>10775</td>\n",
       "      <td>366</td>\n",
       "      <td>11141</td>\n",
       "    </tr>\n",
       "  </tbody>\n",
       "</table>\n",
       "</div>"
      ],
      "text/plain": [
       "Predicted      0    1    All\n",
       "True                        \n",
       "0          10717   22  10739\n",
       "1             58  344    402\n",
       "All        10775  366  11141"
      ]
     },
     "execution_count": 31,
     "metadata": {},
     "output_type": "execute_result"
    }
   ],
   "source": [
    "matrix = pd.crosstab(y, y_pred, rownames = ['True'], colnames = ['Predicted'], margins = True)\n",
    "matrix"
   ]
  },
  {
   "cell_type": "markdown",
   "id": "c66136df-99a3-445b-aff3-5ed86a6e0f07",
   "metadata": {},
   "source": [
    "Classification Metrics"
   ]
  },
  {
   "cell_type": "code",
   "execution_count": 32,
   "id": "138a85b0-574d-4e93-a007-a7864b06ec12",
   "metadata": {},
   "outputs": [],
   "source": [
    "TN = matrix[0][0]\n",
    "FP = matrix[0][1]\n",
    "FN = matrix[1][0]\n",
    "TP = matrix[1][1]\n",
    "\n",
    "classification_accuracy = (TP + TN) / float(TP + TN + FP + FN)\n",
    "classification_error = (FP + FN) / float(TP + TN + FP + FN)\n",
    "precision = TP / float(TP + FP)\n",
    "recall = TP / float(TP + FN)\n",
    "true_positive_rate = TP / float(TP + FN)\n",
    "false_positive_rate = FP / float(FP + TN)\n",
    "specificity = TN / (TN + FP)\n",
    "\n",
    "\n",
    "#f1-score\n",
    "#f1-score is the weighted harmonic mean of precision and recall.\n",
    "#The best possible f1-score would be 1.0 and the worst would be 0.0. \n",
    "#f1-score is the harmonic mean of precision and recall. \n",
    "#So, f1-score is always lower than accuracy measures as they embed precision and recall into their computation.\n",
    "# The weighted average of f1-score should be used to compare classifier models, not global accuracy."
   ]
  },
  {
   "cell_type": "code",
   "execution_count": 33,
   "id": "48cfb6cf-191c-41ac-8deb-7949caae1fa7",
   "metadata": {},
   "outputs": [
    {
     "data": {
      "text/plain": [
       "0.9928193160398529"
      ]
     },
     "execution_count": 33,
     "metadata": {},
     "output_type": "execute_result"
    }
   ],
   "source": [
    "classification_accuracy"
   ]
  },
  {
   "cell_type": "code",
   "execution_count": 34,
   "id": "72519d34-1f3f-4098-b909-a08f184a578e",
   "metadata": {},
   "outputs": [
    {
     "data": {
      "text/plain": [
       "0.007180683960147204"
      ]
     },
     "execution_count": 34,
     "metadata": {},
     "output_type": "execute_result"
    }
   ],
   "source": [
    "classification_error"
   ]
  },
  {
   "cell_type": "code",
   "execution_count": 35,
   "id": "9ae50dbb-8880-478b-aec7-789cea2fecab",
   "metadata": {},
   "outputs": [
    {
     "data": {
      "text/plain": [
       "0.8557213930348259"
      ]
     },
     "execution_count": 35,
     "metadata": {},
     "output_type": "execute_result"
    }
   ],
   "source": [
    "precision"
   ]
  },
  {
   "cell_type": "code",
   "execution_count": 36,
   "id": "ca574ec4-8247-4866-87ae-31ef3649b2af",
   "metadata": {},
   "outputs": [
    {
     "data": {
      "text/plain": [
       "0.9398907103825137"
      ]
     },
     "execution_count": 36,
     "metadata": {},
     "output_type": "execute_result"
    }
   ],
   "source": [
    "recall"
   ]
  },
  {
   "cell_type": "code",
   "execution_count": 37,
   "id": "0a3af3e0-916a-4219-a8b7-a1217fb6ffa0",
   "metadata": {},
   "outputs": [
    {
     "data": {
      "text/plain": [
       "0.9398907103825137"
      ]
     },
     "execution_count": 37,
     "metadata": {},
     "output_type": "execute_result"
    }
   ],
   "source": [
    "true_positive_rate"
   ]
  },
  {
   "cell_type": "code",
   "execution_count": 38,
   "id": "d08279ea-27cf-4b48-b847-af5b3f0a6dea",
   "metadata": {},
   "outputs": [
    {
     "data": {
      "text/plain": [
       "0.005382830626450116"
      ]
     },
     "execution_count": 38,
     "metadata": {},
     "output_type": "execute_result"
    }
   ],
   "source": [
    "false_positive_rate"
   ]
  },
  {
   "cell_type": "code",
   "execution_count": 39,
   "id": "e4c8f59b-511e-4525-8056-2a1b4b219b00",
   "metadata": {},
   "outputs": [
    {
     "data": {
      "text/plain": [
       "0.9946171693735499"
      ]
     },
     "execution_count": 39,
     "metadata": {},
     "output_type": "execute_result"
    }
   ],
   "source": [
    "specificity"
   ]
  },
  {
   "cell_type": "markdown",
   "id": "57d204d5-69c9-4aec-881a-fd79436405e6",
   "metadata": {},
   "source": [
    "Fine tuned model predictions confusion matrix"
   ]
  },
  {
   "cell_type": "code",
   "execution_count": 40,
   "id": "6aaa8412-e3a9-4d38-a96a-f77106c7ccc8",
   "metadata": {},
   "outputs": [
    {
     "data": {
      "text/html": [
       "<div>\n",
       "<style scoped>\n",
       "    .dataframe tbody tr th:only-of-type {\n",
       "        vertical-align: middle;\n",
       "    }\n",
       "\n",
       "    .dataframe tbody tr th {\n",
       "        vertical-align: top;\n",
       "    }\n",
       "\n",
       "    .dataframe thead th {\n",
       "        text-align: right;\n",
       "    }\n",
       "</style>\n",
       "<table border=\"1\" class=\"dataframe\">\n",
       "  <thead>\n",
       "    <tr style=\"text-align: right;\">\n",
       "      <th>Predicted</th>\n",
       "      <th>0</th>\n",
       "      <th>1</th>\n",
       "      <th>All</th>\n",
       "    </tr>\n",
       "    <tr>\n",
       "      <th>True</th>\n",
       "      <th></th>\n",
       "      <th></th>\n",
       "      <th></th>\n",
       "    </tr>\n",
       "  </thead>\n",
       "  <tbody>\n",
       "    <tr>\n",
       "      <th>0</th>\n",
       "      <td>2134</td>\n",
       "      <td>5</td>\n",
       "      <td>2139</td>\n",
       "    </tr>\n",
       "    <tr>\n",
       "      <th>1</th>\n",
       "      <td>23</td>\n",
       "      <td>67</td>\n",
       "      <td>90</td>\n",
       "    </tr>\n",
       "    <tr>\n",
       "      <th>All</th>\n",
       "      <td>2157</td>\n",
       "      <td>72</td>\n",
       "      <td>2229</td>\n",
       "    </tr>\n",
       "  </tbody>\n",
       "</table>\n",
       "</div>"
      ],
      "text/plain": [
       "Predicted     0   1   All\n",
       "True                     \n",
       "0          2134   5  2139\n",
       "1            23  67    90\n",
       "All        2157  72  2229"
      ]
     },
     "execution_count": 40,
     "metadata": {},
     "output_type": "execute_result"
    }
   ],
   "source": [
    "matrix = pd.crosstab(y_test, y_pred_tuned, rownames = ['True'], colnames = ['Predicted'], margins = True)#the results are improved with scaled data\n",
    "matrix"
   ]
  },
  {
   "cell_type": "markdown",
   "id": "669f136b-641d-47e4-960a-9fa8371c385c",
   "metadata": {},
   "source": [
    "Classification Metrics"
   ]
  },
  {
   "cell_type": "code",
   "execution_count": 41,
   "id": "d9b0e57e-7de6-4b02-8d27-de60608cdd18",
   "metadata": {},
   "outputs": [],
   "source": [
    "TN = matrix[0][0]\n",
    "FP = matrix[0][1]\n",
    "FN = matrix[1][0]\n",
    "TP = matrix[1][1]\n",
    "\n",
    "classification_accuracy = (TP + TN) / float(TP + TN + FP + FN)\n",
    "classification_error = (FP + FN) / float(TP + TN + FP + FN)\n",
    "precision = TP / float(TP + FP)\n",
    "recall = TP / float(TP + FN)\n",
    "true_positive_rate = TP / float(TP + FN)\n",
    "false_positive_rate = FP / float(FP + TN)\n",
    "specificity = TN / (TN + FP)\n",
    "\n",
    "\n",
    "#f1-score\n",
    "#f1-score is the weighted harmonic mean of precision and recall.\n",
    "#The best possible f1-score would be 1.0 and the worst would be 0.0. \n",
    "#f1-score is the harmonic mean of precision and recall. \n",
    "#So, f1-score is always lower than accuracy measures as they embed precision and recall into their computation.\n",
    "# The weighted average of f1-score should be used to compare classifier models, not global accuracy."
   ]
  },
  {
   "cell_type": "code",
   "execution_count": 42,
   "id": "243a4ac5-e041-49fc-8744-c37b81fb6d57",
   "metadata": {},
   "outputs": [
    {
     "data": {
      "text/plain": [
       "0.987438313144908"
      ]
     },
     "execution_count": 42,
     "metadata": {},
     "output_type": "execute_result"
    }
   ],
   "source": [
    "classification_accuracy"
   ]
  },
  {
   "cell_type": "code",
   "execution_count": 43,
   "id": "a8fc8e77-5b3b-4ffc-bdcc-24d046690a05",
   "metadata": {},
   "outputs": [
    {
     "data": {
      "text/plain": [
       "0.01256168685509197"
      ]
     },
     "execution_count": 43,
     "metadata": {},
     "output_type": "execute_result"
    }
   ],
   "source": [
    "classification_error"
   ]
  },
  {
   "cell_type": "code",
   "execution_count": 44,
   "id": "6f9feafe-d3b5-4d75-b776-09dad0eff6ee",
   "metadata": {},
   "outputs": [
    {
     "data": {
      "text/plain": [
       "0.7444444444444445"
      ]
     },
     "execution_count": 44,
     "metadata": {},
     "output_type": "execute_result"
    }
   ],
   "source": [
    "precision"
   ]
  },
  {
   "cell_type": "code",
   "execution_count": 45,
   "id": "ef6ee0bd-fc45-4c9e-8cec-1247caf4ee3f",
   "metadata": {},
   "outputs": [
    {
     "data": {
      "text/plain": [
       "0.9305555555555556"
      ]
     },
     "execution_count": 45,
     "metadata": {},
     "output_type": "execute_result"
    }
   ],
   "source": [
    "recall"
   ]
  },
  {
   "cell_type": "code",
   "execution_count": 46,
   "id": "65d1ce69-7dfd-4380-8a27-c7f66f87f7d2",
   "metadata": {},
   "outputs": [
    {
     "data": {
      "text/plain": [
       "0.9305555555555556"
      ]
     },
     "execution_count": 46,
     "metadata": {},
     "output_type": "execute_result"
    }
   ],
   "source": [
    "true_positive_rate"
   ]
  },
  {
   "cell_type": "code",
   "execution_count": 47,
   "id": "93cd76ee-7a3e-43bf-8e62-683ea4ed4af7",
   "metadata": {},
   "outputs": [
    {
     "data": {
      "text/plain": [
       "0.010662957811775614"
      ]
     },
     "execution_count": 47,
     "metadata": {},
     "output_type": "execute_result"
    }
   ],
   "source": [
    "false_positive_rate"
   ]
  },
  {
   "cell_type": "code",
   "execution_count": 48,
   "id": "41a7b895-e4f0-4e9a-b1ba-241d181a5eac",
   "metadata": {},
   "outputs": [
    {
     "data": {
      "text/plain": [
       "0.9893370421882244"
      ]
     },
     "execution_count": 48,
     "metadata": {},
     "output_type": "execute_result"
    }
   ],
   "source": [
    "specificity"
   ]
  },
  {
   "cell_type": "markdown",
   "id": "f24a8d49-fc85-40f7-b04f-fd24eebd568f",
   "metadata": {},
   "source": [
    "Fine tuned model predictions confusion matrix (Trained on X)"
   ]
  },
  {
   "cell_type": "code",
   "execution_count": 49,
   "id": "da154064-8711-4d84-9e53-7b30d0fd47aa",
   "metadata": {},
   "outputs": [
    {
     "data": {
      "text/html": [
       "<div>\n",
       "<style scoped>\n",
       "    .dataframe tbody tr th:only-of-type {\n",
       "        vertical-align: middle;\n",
       "    }\n",
       "\n",
       "    .dataframe tbody tr th {\n",
       "        vertical-align: top;\n",
       "    }\n",
       "\n",
       "    .dataframe thead th {\n",
       "        text-align: right;\n",
       "    }\n",
       "</style>\n",
       "<table border=\"1\" class=\"dataframe\">\n",
       "  <thead>\n",
       "    <tr style=\"text-align: right;\">\n",
       "      <th>Predicted</th>\n",
       "      <th>0</th>\n",
       "      <th>1</th>\n",
       "      <th>All</th>\n",
       "    </tr>\n",
       "    <tr>\n",
       "      <th>True</th>\n",
       "      <th></th>\n",
       "      <th></th>\n",
       "      <th></th>\n",
       "    </tr>\n",
       "  </thead>\n",
       "  <tbody>\n",
       "    <tr>\n",
       "      <th>0</th>\n",
       "      <td>10739</td>\n",
       "      <td>0</td>\n",
       "      <td>10739</td>\n",
       "    </tr>\n",
       "    <tr>\n",
       "      <th>1</th>\n",
       "      <td>0</td>\n",
       "      <td>402</td>\n",
       "      <td>402</td>\n",
       "    </tr>\n",
       "    <tr>\n",
       "      <th>All</th>\n",
       "      <td>10739</td>\n",
       "      <td>402</td>\n",
       "      <td>11141</td>\n",
       "    </tr>\n",
       "  </tbody>\n",
       "</table>\n",
       "</div>"
      ],
      "text/plain": [
       "Predicted      0    1    All\n",
       "True                        \n",
       "0          10739    0  10739\n",
       "1              0  402    402\n",
       "All        10739  402  11141"
      ]
     },
     "execution_count": 49,
     "metadata": {},
     "output_type": "execute_result"
    }
   ],
   "source": [
    "matrix = pd.crosstab(y, y_pred_tuned_lazy, rownames = ['True'], colnames = ['Predicted'], margins = True)#the results are improved with scaled data\n",
    "matrix "
   ]
  },
  {
   "cell_type": "markdown",
   "id": "6563a5d3-d3bb-4009-b319-97e1915e1903",
   "metadata": {},
   "source": [
    "Classification Metrics"
   ]
  },
  {
   "cell_type": "code",
   "execution_count": 50,
   "id": "21db52da-9365-4e44-9780-9fff3abaedce",
   "metadata": {},
   "outputs": [],
   "source": [
    "TN = matrix[0][0]\n",
    "FP = matrix[0][1]\n",
    "FN = matrix[1][0]\n",
    "TP = matrix[1][1]\n",
    "\n",
    "classification_accuracy = (TP + TN) / float(TP + TN + FP + FN)\n",
    "classification_error = (FP + FN) / float(TP + TN + FP + FN)\n",
    "precision = TP / float(TP + FP)\n",
    "recall = TP / float(TP + FN)\n",
    "true_positive_rate = TP / float(TP + FN)\n",
    "false_positive_rate = FP / float(FP + TN)\n",
    "specificity = TN / (TN + FP)\n",
    "\n",
    "\n",
    "#f1-score\n",
    "#f1-score is the weighted harmonic mean of precision and recall.\n",
    "#The best possible f1-score would be 1.0 and the worst would be 0.0. \n",
    "#f1-score is the harmonic mean of precision and recall. \n",
    "#So, f1-score is always lower than accuracy measures as they embed precision and recall into their computation.\n",
    "# The weighted average of f1-score should be used to compare classifier models, not global accuracy."
   ]
  },
  {
   "cell_type": "code",
   "execution_count": 51,
   "id": "c6057d19-a0e5-4681-935e-004eca934656",
   "metadata": {},
   "outputs": [
    {
     "data": {
      "text/plain": [
       "1.0"
      ]
     },
     "execution_count": 51,
     "metadata": {},
     "output_type": "execute_result"
    }
   ],
   "source": [
    "classification_accuracy"
   ]
  },
  {
   "cell_type": "code",
   "execution_count": 52,
   "id": "23a0eedf-c447-45ee-86ed-898da129dfba",
   "metadata": {},
   "outputs": [
    {
     "data": {
      "text/plain": [
       "0.0"
      ]
     },
     "execution_count": 52,
     "metadata": {},
     "output_type": "execute_result"
    }
   ],
   "source": [
    "classification_error"
   ]
  },
  {
   "cell_type": "code",
   "execution_count": 53,
   "id": "c440f136-9a1d-47de-8a8d-3d6fceac8718",
   "metadata": {},
   "outputs": [
    {
     "data": {
      "text/plain": [
       "1.0"
      ]
     },
     "execution_count": 53,
     "metadata": {},
     "output_type": "execute_result"
    }
   ],
   "source": [
    "precision"
   ]
  },
  {
   "cell_type": "code",
   "execution_count": 54,
   "id": "a94a642d-c0ee-4bac-be4f-4527990d99b2",
   "metadata": {},
   "outputs": [
    {
     "data": {
      "text/plain": [
       "1.0"
      ]
     },
     "execution_count": 54,
     "metadata": {},
     "output_type": "execute_result"
    }
   ],
   "source": [
    "recall"
   ]
  },
  {
   "cell_type": "code",
   "execution_count": 55,
   "id": "ffb89797-9f95-4a3b-9d83-4018de1d2f0e",
   "metadata": {},
   "outputs": [
    {
     "data": {
      "text/plain": [
       "1.0"
      ]
     },
     "execution_count": 55,
     "metadata": {},
     "output_type": "execute_result"
    }
   ],
   "source": [
    "true_positive_rate"
   ]
  },
  {
   "cell_type": "code",
   "execution_count": 56,
   "id": "35f95aa0-fff2-4deb-826a-3defc8b7a922",
   "metadata": {},
   "outputs": [
    {
     "data": {
      "text/plain": [
       "0.0"
      ]
     },
     "execution_count": 56,
     "metadata": {},
     "output_type": "execute_result"
    }
   ],
   "source": [
    "false_positive_rate"
   ]
  },
  {
   "cell_type": "code",
   "execution_count": 57,
   "id": "f52ebf1a-7885-4ba9-987b-a68cb1ff1570",
   "metadata": {},
   "outputs": [
    {
     "data": {
      "text/plain": [
       "1.0"
      ]
     },
     "execution_count": 57,
     "metadata": {},
     "output_type": "execute_result"
    }
   ],
   "source": [
    "specificity"
   ]
  },
  {
   "cell_type": "markdown",
   "id": "772b0bf9-ff25-4272-9d44-82234c3f0a06",
   "metadata": {},
   "source": [
    "### Compare different number of k for neighbors for initial model"
   ]
  },
  {
   "cell_type": "code",
   "execution_count": 58,
   "id": "e13ff9ba-9e82-4ff7-98ae-4e32e495e55a",
   "metadata": {},
   "outputs": [],
   "source": [
    "neighbors = np.arange(2, 20)\n",
    "accuracy = np.empty(len(neighbors))"
   ]
  },
  {
   "cell_type": "code",
   "execution_count": 59,
   "id": "4784f873-5071-4115-abc9-74d58a4bce4d",
   "metadata": {},
   "outputs": [
    {
     "data": {
      "text/plain": [
       "array([0.99120366, 0.99281932, 0.98922897, 0.99084463, 0.98869042,\n",
       "       0.99012656, 0.98779284, 0.98913922, 0.98770308, 0.98824163,\n",
       "       0.98689525, 0.98752356, 0.98626694, 0.98725429, 0.98626694,\n",
       "       0.98662598, 0.98554887, 0.9863567 ])"
      ]
     },
     "execution_count": 59,
     "metadata": {},
     "output_type": "execute_result"
    }
   ],
   "source": [
    "for i, k in enumerate(neighbors):\n",
    "\n",
    "    knn_classifier = KNeighborsClassifier(n_neighbors=k)\n",
    "\n",
    "    knn_classifier.fit(X, y)\n",
    "\n",
    "    accuracy[i] = knn_classifier.score(X, y)\n",
    "\n",
    "accuracy"
   ]
  },
  {
   "cell_type": "markdown",
   "id": "866ef8a4-e5c8-482d-baac-4d32bfa84482",
   "metadata": {},
   "source": [
    "### Accuracy Plot"
   ]
  },
  {
   "cell_type": "code",
   "execution_count": 60,
   "id": "7bafcac7-87d8-4371-89e9-4f88bcabd13a",
   "metadata": {},
   "outputs": [
    {
     "data": {
      "image/png": "[encoded data removed]",
      "text/plain": [
       "<Figure size 640x480 with 1 Axes>"
      ]
     },
     "metadata": {},
     "output_type": "display_data"
    }
   ],
   "source": [
    "plt.title('k-NN: Using different Number of Neighbors')\n",
    "plt.plot(neighbors, accuracy, label='Accuracy')\n",
    "plt.xticks(range(2,20))\n",
    "plt.legend()\n",
    "plt.xlabel('Number of Neighbors')\n",
    "plt.ylabel('Accuracy')\n",
    "\n",
    "plt.show()"
   ]
  },
  {
   "cell_type": "markdown",
   "id": "95527f20-cabf-4aa4-8dbb-20b03593f8cb",
   "metadata": {},
   "source": [
    "According to the accuracy plot the optimal number of K nearest neighbors is 3, as the number of K increases the accuracy rapidly decreases. "
   ]
  },
  {
   "cell_type": "markdown",
   "id": "45af362d-dc23-4f1b-9cad-f0ecebb001a3",
   "metadata": {},
   "source": [
    "### Compare different number of k for neighbors for fine tuned model"
   ]
  },
  {
   "cell_type": "code",
   "execution_count": 61,
   "id": "a6a3a310-fda5-4fb7-8883-8145058e23f3",
   "metadata": {},
   "outputs": [],
   "source": [
    "neighbors = np.arange(2, 20)\n",
    "accuracy = np.empty(len(neighbors))"
   ]
  },
  {
   "cell_type": "code",
   "execution_count": 62,
   "id": "5843050a-4dc5-458e-af78-15754896a2dd",
   "metadata": {},
   "outputs": [
    {
     "data": {
      "text/plain": [
       "array([0.98564379, 0.98564379, 0.98878421, 0.98698968, 0.98878421,\n",
       "       0.98743831, 0.98743831, 0.98788694, 0.98788694, 0.98833558,\n",
       "       0.98833558, 0.98833558, 0.98743831, 0.98654105, 0.98743831,\n",
       "       0.98654105, 0.98609242, 0.98609242])"
      ]
     },
     "execution_count": 62,
     "metadata": {},
     "output_type": "execute_result"
    }
   ],
   "source": [
    "for i, k in enumerate(neighbors):\n",
    "\n",
    "    knn_classifier_fine_tuned = KNeighborsClassifier(algorithm = 'auto', metric = 'minkowski', n_neighbors = k, p = 1, weights = 'distance')\n",
    "\n",
    "    knn_classifier_fine_tuned.fit(X_train, y_train)\n",
    "\n",
    "    accuracy[i] = knn_classifier_fine_tuned.score(X_test, y_test)\n",
    "\n",
    "accuracy"
   ]
  },
  {
   "cell_type": "markdown",
   "id": "a2f0a8c1-41cc-4671-bb39-1fddb4906099",
   "metadata": {},
   "source": [
    "### Accuracy Plot"
   ]
  },
  {
   "cell_type": "code",
   "execution_count": 63,
   "id": "cd0947db-ac35-4b31-9c05-3d4babbb19a6",
   "metadata": {},
   "outputs": [
    {
     "data": {
      "image/png": "[encoded data removed]",
      "text/plain": [
       "<Figure size 640x480 with 1 Axes>"
      ]
     },
     "metadata": {},
     "output_type": "display_data"
    }
   ],
   "source": [
    "plt.title('k-NN: Using different Number of Neighbors')\n",
    "plt.plot(neighbors, accuracy, label='Accuracy')\n",
    "plt.xticks(range(2,20))\n",
    "plt.legend()\n",
    "plt.xlabel('Number of Neighbors')\n",
    "plt.ylabel('Accuracy')\n",
    "\n",
    "plt.show()"
   ]
  },
  {
   "cell_type": "markdown",
   "id": "4df92f2c-472e-4f4c-a088-aba0927812c8",
   "metadata": {},
   "source": [
    "### Compare different number of k for neighbors for fine tuned model (Trained on X data)"
   ]
  },
  {
   "cell_type": "code",
   "execution_count": 64,
   "id": "cec59a59-58c9-4723-975d-245c85b9a9c0",
   "metadata": {},
   "outputs": [],
   "source": [
    "neighbors = np.arange(2, 20)\n",
    "accuracy = np.empty(len(neighbors))"
   ]
  },
  {
   "cell_type": "code",
   "execution_count": 65,
   "id": "7b6f4f08-d8f1-46bc-8a8e-b8ebf3fe70d9",
   "metadata": {},
   "outputs": [
    {
     "data": {
      "text/plain": [
       "array([1., 1., 1., 1., 1., 1., 1., 1., 1., 1., 1., 1., 1., 1., 1., 1., 1.,\n",
       "       1.])"
      ]
     },
     "execution_count": 65,
     "metadata": {},
     "output_type": "execute_result"
    }
   ],
   "source": [
    "for i, k in enumerate(neighbors):\n",
    "\n",
    "    knn_classifier_fine_tuned_lazy = KNeighborsClassifier(algorithm = 'auto', metric = 'minkowski', n_neighbors = k, p = 1, weights = 'distance')\n",
    "\n",
    "    knn_classifier_fine_tuned_lazy.fit(X, y)\n",
    "\n",
    "    accuracy[i] = knn_classifier_fine_tuned_lazy.score(X, y)\n",
    "\n",
    "accuracy"
   ]
  },
  {
   "cell_type": "code",
   "execution_count": 66,
   "id": "605ea333-5b89-4e9c-97aa-726da8e65b57",
   "metadata": {},
   "outputs": [
    {
     "data": {
      "image/png": "[encoded data removed]",
      "text/plain": [
       "<Figure size 640x480 with 1 Axes>"
      ]
     },
     "metadata": {},
     "output_type": "display_data"
    }
   ],
   "source": [
    "plt.title('k-NN: Using different Number of Neighbors')\n",
    "plt.plot(neighbors, accuracy, label='Accuracy')\n",
    "plt.xticks(range(2,20))\n",
    "plt.legend()\n",
    "plt.xlabel('Number of Neighbors')\n",
    "plt.ylabel('Accuracy')\n",
    "\n",
    "plt.show()"
   ]
  },
  {
   "cell_type": "markdown",
   "id": "a0ecf4cd-ce29-45ea-818b-fabd48d60763",
   "metadata": {},
   "source": [
    "When giving weights on distances the model has 100% overfitting since it is trained and tested by the same data"
   ]
  },
  {
   "cell_type": "markdown",
   "id": "59e90bba-6e53-406f-adde-5110aa22893f",
   "metadata": {
    "tags": []
   },
   "source": [
    "# e. Naive Bayes Classifier (NBC)"
   ]
  },
  {
   "cell_type": "markdown",
   "id": "c80b26fa-6956-4557-a828-e67a8525cd8e",
   "metadata": {},
   "source": [
    "## e.1 Creating & Fitting the NBC Model"
   ]
  },
  {
   "cell_type": "markdown",
   "id": "de11dfd1-d8fb-4904-99a9-34c43b4e70e1",
   "metadata": {},
   "source": [
    "Creating Naive Bayes Classifier as an object"
   ]
  },
  {
   "cell_type": "markdown",
   "id": "eb8c89a1-4d29-4495-9075-2aaa537c26a1",
   "metadata": {},
   "source": [
    "Fitting NBC on train data"
   ]
  },
  {
   "cell_type": "code",
   "execution_count": 67,
   "id": "764cd46c-fe86-4b75-836a-50cad4d72255",
   "metadata": {},
   "outputs": [],
   "source": [
    "gnb_classifier = GaussianNB().fit(X_train, y_train) #NBC model trained using training set"
   ]
  },
  {
   "cell_type": "code",
   "execution_count": 68,
   "id": "c1dd45a5-0e3b-49e1-8005-f17f3bb9c9ec",
   "metadata": {},
   "outputs": [],
   "source": [
    "pipe = GaussianNB()\n",
    "\n",
    "param_grid = {'var_smoothing': np.logspace(0,-9, num=100)}\n",
    "\n",
    "gnb_classifier_cv = GridSearchCV(\n",
    "                                  estimator = pipe, \n",
    "                                  param_grid = param_grid, \n",
    "                                  scoring = 'accuracy',\n",
    "                                  n_jobs = -1, \n",
    "                                  cv = 5,\n",
    ")\n",
    "\n",
    "grid_gnb_classifier_cv = gnb_classifier_cv.fit(X_train, y_train)  #NBC model trained using 5 fold cross validation"
   ]
  },
  {
   "cell_type": "code",
   "execution_count": 69,
   "id": "d7b0199f-55eb-4c85-8094-92bf47b8dea5",
   "metadata": {},
   "outputs": [
    {
     "data": {
      "text/plain": [
       "{'var_smoothing': 0.01}"
      ]
     },
     "execution_count": 69,
     "metadata": {},
     "output_type": "execute_result"
    }
   ],
   "source": [
    "grid_gnb_classifier_cv.best_params_"
   ]
  },
  {
   "cell_type": "code",
   "execution_count": 70,
   "id": "9c05c3db-6136-4d66-a5da-3d55808f50d5",
   "metadata": {},
   "outputs": [
    {
     "data": {
      "text/plain": [
       "0.9652164443714266"
      ]
     },
     "execution_count": 70,
     "metadata": {},
     "output_type": "execute_result"
    }
   ],
   "source": [
    "grid_gnb_classifier_cv.best_score_"
   ]
  },
  {
   "cell_type": "code",
   "execution_count": 71,
   "id": "39ae8c6c-7854-4102-b38e-abcd7589a6b4",
   "metadata": {},
   "outputs": [],
   "source": [
    "gnb_classifier_fine_tuned = GaussianNB(var_smoothing = 0.01).fit(X_train, y_train)"
   ]
  },
  {
   "cell_type": "markdown",
   "id": "fe287c2e-33f4-4334-a878-4f1916e88689",
   "metadata": {
    "tags": []
   },
   "source": [
    "## e.2 Making Predictions Using the NBC Model"
   ]
  },
  {
   "cell_type": "markdown",
   "id": "692cd188-9484-4ea3-bebe-f68021299ec3",
   "metadata": {},
   "source": [
    "NBC Model Predictions "
   ]
  },
  {
   "cell_type": "code",
   "execution_count": 72,
   "id": "b2b852c9-b901-4f96-b6a1-cf44e69821c2",
   "metadata": {},
   "outputs": [
    {
     "data": {
      "text/plain": [
       "array([0, 0, 0, ..., 0, 0, 0])"
      ]
     },
     "execution_count": 72,
     "metadata": {},
     "output_type": "execute_result"
    }
   ],
   "source": [
    "y_pred = gnb_classifier.predict(X_test)\n",
    "y_pred"
   ]
  },
  {
   "cell_type": "markdown",
   "id": "b15bab8f-d1b5-49a2-99e6-b51151a792cb",
   "metadata": {},
   "source": [
    "CV-NBC Model Predictions "
   ]
  },
  {
   "cell_type": "code",
   "execution_count": 73,
   "id": "e6795efa-165f-41bc-9510-fd38306ded26",
   "metadata": {},
   "outputs": [
    {
     "data": {
      "text/plain": [
       "array([0, 0, 0, ..., 0, 0, 0])"
      ]
     },
     "execution_count": 73,
     "metadata": {},
     "output_type": "execute_result"
    }
   ],
   "source": [
    "y_pred_tuned = gnb_classifier_fine_tuned.predict(X_test)\n",
    "y_pred_tuned"
   ]
  },
  {
   "cell_type": "markdown",
   "id": "8e165cec-1bcb-4e44-909f-201ea9a46401",
   "metadata": {},
   "source": [
    "## e.3 NBC Model Evaluation"
   ]
  },
  {
   "cell_type": "markdown",
   "id": "e62b1af8-eb38-4988-9a2b-29906dbb65ee",
   "metadata": {},
   "source": [
    "### Evaluating model performance"
   ]
  },
  {
   "cell_type": "markdown",
   "id": "6ce741d8-57ad-4ba4-8322-4fa5299033ad",
   "metadata": {},
   "source": [
    "### Accuracy score"
   ]
  },
  {
   "cell_type": "code",
   "execution_count": 74,
   "id": "14df9f25-8228-4e2e-9450-b33ab8d34a91",
   "metadata": {},
   "outputs": [
    {
     "data": {
      "text/plain": [
       "0.9649910233393177"
      ]
     },
     "execution_count": 74,
     "metadata": {},
     "output_type": "execute_result"
    }
   ],
   "source": [
    "gnb_classifier.score(X_train, y_train) #train accuracy"
   ]
  },
  {
   "cell_type": "code",
   "execution_count": 75,
   "id": "c51b1d1c-8e6c-4e6f-bc7c-09b24a91d201",
   "metadata": {},
   "outputs": [
    {
     "data": {
      "text/plain": [
       "1.0"
      ]
     },
     "execution_count": 75,
     "metadata": {},
     "output_type": "execute_result"
    }
   ],
   "source": [
    "gnb_classifier.score(X_test, y_pred) #test accuracy"
   ]
  },
  {
   "cell_type": "code",
   "execution_count": 76,
   "id": "b8e9ae47-5727-437f-8054-7f065d424f5b",
   "metadata": {},
   "outputs": [
    {
     "data": {
      "text/plain": [
       "0.96487881508079"
      ]
     },
     "execution_count": 76,
     "metadata": {},
     "output_type": "execute_result"
    }
   ],
   "source": [
    "gnb_classifier_fine_tuned.score(X_train, y_train) #train accuracy"
   ]
  },
  {
   "cell_type": "code",
   "execution_count": 77,
   "id": "f2bba81d-4e59-4335-a557-968258f13aa0",
   "metadata": {},
   "outputs": [
    {
     "data": {
      "text/plain": [
       "1.0"
      ]
     },
     "execution_count": 77,
     "metadata": {},
     "output_type": "execute_result"
    }
   ],
   "source": [
    "gnb_classifier_fine_tuned.score(X_test, y_pred_tuned) #5-Fold cross validation accuracy"
   ]
  },
  {
   "cell_type": "markdown",
   "id": "2178b5a3-abc3-4315-b908-71c3221db3d8",
   "metadata": {},
   "source": [
    "### Confusion Matrix"
   ]
  },
  {
   "cell_type": "markdown",
   "id": "aaa3600f-916d-4176-96f3-9f9cbc826c9a",
   "metadata": {},
   "source": [
    "Classification Metrics"
   ]
  },
  {
   "cell_type": "code",
   "execution_count": 78,
   "id": "1aa4e1ac-ed00-4d47-bef6-f9eecdd5cb28",
   "metadata": {},
   "outputs": [
    {
     "data": {
      "text/html": [
       "<div>\n",
       "<style scoped>\n",
       "    .dataframe tbody tr th:only-of-type {\n",
       "        vertical-align: middle;\n",
       "    }\n",
       "\n",
       "    .dataframe tbody tr th {\n",
       "        vertical-align: top;\n",
       "    }\n",
       "\n",
       "    .dataframe thead th {\n",
       "        text-align: right;\n",
       "    }\n",
       "</style>\n",
       "<table border=\"1\" class=\"dataframe\">\n",
       "  <thead>\n",
       "    <tr style=\"text-align: right;\">\n",
       "      <th>Predicted</th>\n",
       "      <th>0</th>\n",
       "      <th>1</th>\n",
       "      <th>All</th>\n",
       "    </tr>\n",
       "    <tr>\n",
       "      <th>True</th>\n",
       "      <th></th>\n",
       "      <th></th>\n",
       "      <th></th>\n",
       "    </tr>\n",
       "  </thead>\n",
       "  <tbody>\n",
       "    <tr>\n",
       "      <th>0</th>\n",
       "      <td>2090</td>\n",
       "      <td>49</td>\n",
       "      <td>2139</td>\n",
       "    </tr>\n",
       "    <tr>\n",
       "      <th>1</th>\n",
       "      <td>28</td>\n",
       "      <td>62</td>\n",
       "      <td>90</td>\n",
       "    </tr>\n",
       "    <tr>\n",
       "      <th>All</th>\n",
       "      <td>2118</td>\n",
       "      <td>111</td>\n",
       "      <td>2229</td>\n",
       "    </tr>\n",
       "  </tbody>\n",
       "</table>\n",
       "</div>"
      ],
      "text/plain": [
       "Predicted     0    1   All\n",
       "True                      \n",
       "0          2090   49  2139\n",
       "1            28   62    90\n",
       "All        2118  111  2229"
      ]
     },
     "execution_count": 78,
     "metadata": {},
     "output_type": "execute_result"
    }
   ],
   "source": [
    "matrix = pd.crosstab(y_test, y_pred, rownames = ['True'], colnames = ['Predicted'], margins = True)#the results are improved with scaled data\n",
    "matrix "
   ]
  },
  {
   "cell_type": "code",
   "execution_count": 79,
   "id": "e893fd67-e992-4406-aa57-0a58cbe77be9",
   "metadata": {},
   "outputs": [],
   "source": [
    "TN = matrix[0][0]\n",
    "FP = matrix[0][1]\n",
    "FN = matrix[1][0]\n",
    "TP = matrix[1][1]\n",
    "\n",
    "classification_accuracy = (TP + TN) / float(TP + TN + FP + FN)\n",
    "classification_error = (FP + FN) / float(TP + TN + FP + FN)\n",
    "precision = TP / float(TP + FP)\n",
    "recall = TP / float(TP + FN)\n",
    "true_positive_rate = TP / float(TP + FN)\n",
    "false_positive_rate = FP / float(FP + TN)\n",
    "specificity = TN / (TN + FP)\n",
    "\n",
    "\n",
    "#f1-score\n",
    "#f1-score is the weighted harmonic mean of precision and recall.\n",
    "#The best possible f1-score would be 1.0 and the worst would be 0.0. \n",
    "#f1-score is the harmonic mean of precision and recall. \n",
    "#So, f1-score is always lower than accuracy measures as they embed precision and recall into their computation.\n",
    "# The weighted average of f1-score should be used to compare classifier models, not global accuracy."
   ]
  },
  {
   "cell_type": "code",
   "execution_count": 80,
   "id": "0345d455-2c08-44d6-b2c0-9a71c0f06a34",
   "metadata": {},
   "outputs": [
    {
     "data": {
      "text/plain": [
       "0.9654553611484971"
      ]
     },
     "execution_count": 80,
     "metadata": {},
     "output_type": "execute_result"
    }
   ],
   "source": [
    "classification_accuracy"
   ]
  },
  {
   "cell_type": "code",
   "execution_count": 81,
   "id": "600eebb5-56af-440a-a2e7-722e5eac3f0f",
   "metadata": {},
   "outputs": [
    {
     "data": {
      "text/plain": [
       "0.03454463885150292"
      ]
     },
     "execution_count": 81,
     "metadata": {},
     "output_type": "execute_result"
    }
   ],
   "source": [
    "classification_error"
   ]
  },
  {
   "cell_type": "code",
   "execution_count": 82,
   "id": "09960512-9cce-4074-a40c-641899a0224c",
   "metadata": {},
   "outputs": [
    {
     "data": {
      "text/plain": [
       "0.6888888888888889"
      ]
     },
     "execution_count": 82,
     "metadata": {},
     "output_type": "execute_result"
    }
   ],
   "source": [
    "precision"
   ]
  },
  {
   "cell_type": "code",
   "execution_count": 83,
   "id": "e789d8e2-a615-40c9-b74e-ccaa45e4bebc",
   "metadata": {},
   "outputs": [
    {
     "data": {
      "text/plain": [
       "0.5585585585585585"
      ]
     },
     "execution_count": 83,
     "metadata": {},
     "output_type": "execute_result"
    }
   ],
   "source": [
    "recall"
   ]
  },
  {
   "cell_type": "code",
   "execution_count": 84,
   "id": "6fd4ff56-e3d4-410c-aba5-079e5979a0a1",
   "metadata": {},
   "outputs": [
    {
     "data": {
      "text/plain": [
       "0.5585585585585585"
      ]
     },
     "execution_count": 84,
     "metadata": {},
     "output_type": "execute_result"
    }
   ],
   "source": [
    "true_positive_rate"
   ]
  },
  {
   "cell_type": "code",
   "execution_count": 85,
   "id": "ea80af85-dab2-4906-8d5f-daca158899c4",
   "metadata": {},
   "outputs": [
    {
     "data": {
      "text/plain": [
       "0.013220018885741265"
      ]
     },
     "execution_count": 85,
     "metadata": {},
     "output_type": "execute_result"
    }
   ],
   "source": [
    "false_positive_rate"
   ]
  },
  {
   "cell_type": "code",
   "execution_count": 86,
   "id": "27a10937-656e-4abe-a74f-1e6b299ad932",
   "metadata": {},
   "outputs": [
    {
     "data": {
      "text/plain": [
       "0.9867799811142587"
      ]
     },
     "execution_count": 86,
     "metadata": {},
     "output_type": "execute_result"
    }
   ],
   "source": [
    "specificity"
   ]
  },
  {
   "cell_type": "markdown",
   "id": "a41adae7-ae2a-4245-9e83-93a0bf9d688d",
   "metadata": {},
   "source": [
    "Classification Metrics"
   ]
  },
  {
   "cell_type": "code",
   "execution_count": 87,
   "id": "8928f012-1e87-4ea2-acef-c979acdca648",
   "metadata": {},
   "outputs": [
    {
     "data": {
      "text/html": [
       "<div>\n",
       "<style scoped>\n",
       "    .dataframe tbody tr th:only-of-type {\n",
       "        vertical-align: middle;\n",
       "    }\n",
       "\n",
       "    .dataframe tbody tr th {\n",
       "        vertical-align: top;\n",
       "    }\n",
       "\n",
       "    .dataframe thead th {\n",
       "        text-align: right;\n",
       "    }\n",
       "</style>\n",
       "<table border=\"1\" class=\"dataframe\">\n",
       "  <thead>\n",
       "    <tr style=\"text-align: right;\">\n",
       "      <th>Predicted</th>\n",
       "      <th>0</th>\n",
       "      <th>1</th>\n",
       "      <th>All</th>\n",
       "    </tr>\n",
       "    <tr>\n",
       "      <th>True</th>\n",
       "      <th></th>\n",
       "      <th></th>\n",
       "      <th></th>\n",
       "    </tr>\n",
       "  </thead>\n",
       "  <tbody>\n",
       "    <tr>\n",
       "      <th>0</th>\n",
       "      <td>2090</td>\n",
       "      <td>49</td>\n",
       "      <td>2139</td>\n",
       "    </tr>\n",
       "    <tr>\n",
       "      <th>1</th>\n",
       "      <td>28</td>\n",
       "      <td>62</td>\n",
       "      <td>90</td>\n",
       "    </tr>\n",
       "    <tr>\n",
       "      <th>All</th>\n",
       "      <td>2118</td>\n",
       "      <td>111</td>\n",
       "      <td>2229</td>\n",
       "    </tr>\n",
       "  </tbody>\n",
       "</table>\n",
       "</div>"
      ],
      "text/plain": [
       "Predicted     0    1   All\n",
       "True                      \n",
       "0          2090   49  2139\n",
       "1            28   62    90\n",
       "All        2118  111  2229"
      ]
     },
     "execution_count": 87,
     "metadata": {},
     "output_type": "execute_result"
    }
   ],
   "source": [
    "matrix = pd.crosstab(y_test, y_pred_tuned, rownames = ['True'], colnames = ['Predicted'], margins = True)#the results are improved with scaled data\n",
    "matrix "
   ]
  },
  {
   "cell_type": "code",
   "execution_count": 88,
   "id": "28cec6fe-2dbf-405c-ac53-b5444d6334d5",
   "metadata": {},
   "outputs": [],
   "source": [
    "TN = matrix[0][0]\n",
    "FP = matrix[0][1]\n",
    "FN = matrix[1][0]\n",
    "TP = matrix[1][1]\n",
    "\n",
    "classification_accuracy = (TP + TN) / float(TP + TN + FP + FN)\n",
    "classification_error = (FP + FN) / float(TP + TN + FP + FN)\n",
    "precision = TP / float(TP + FP)\n",
    "recall = TP / float(TP + FN)\n",
    "true_positive_rate = TP / float(TP + FN)\n",
    "false_positive_rate = FP / float(FP + TN)\n",
    "specificity = TN / (TN + FP)\n",
    "\n",
    "\n",
    "#f1-score\n",
    "#f1-score is the weighted harmonic mean of precision and recall.\n",
    "#The best possible f1-score would be 1.0 and the worst would be 0.0. \n",
    "#f1-score is the harmonic mean of precision and recall. \n",
    "#So, f1-score is always lower than accuracy measures as they embed precision and recall into their computation.\n",
    "# The weighted average of f1-score should be used to compare classifier models, not global accuracy."
   ]
  },
  {
   "cell_type": "code",
   "execution_count": 89,
   "id": "b023ca9a-8c7f-4cf8-8d2a-1b6303af6b2d",
   "metadata": {},
   "outputs": [
    {
     "data": {
      "text/plain": [
       "0.9654553611484971"
      ]
     },
     "execution_count": 89,
     "metadata": {},
     "output_type": "execute_result"
    }
   ],
   "source": [
    "classification_accuracy"
   ]
  },
  {
   "cell_type": "code",
   "execution_count": 90,
   "id": "ea4226c4-1b2c-4442-b0e6-4038ecb78c37",
   "metadata": {},
   "outputs": [
    {
     "data": {
      "text/plain": [
       "0.03454463885150292"
      ]
     },
     "execution_count": 90,
     "metadata": {},
     "output_type": "execute_result"
    }
   ],
   "source": [
    "classification_error"
   ]
  },
  {
   "cell_type": "code",
   "execution_count": 91,
   "id": "20e1e50b-1577-4ba3-94bc-63ac5f87f9d3",
   "metadata": {},
   "outputs": [
    {
     "data": {
      "text/plain": [
       "0.6888888888888889"
      ]
     },
     "execution_count": 91,
     "metadata": {},
     "output_type": "execute_result"
    }
   ],
   "source": [
    "precision"
   ]
  },
  {
   "cell_type": "code",
   "execution_count": 92,
   "id": "a8f1b0b4-9d6d-44d6-aff0-9d5c793db909",
   "metadata": {},
   "outputs": [
    {
     "data": {
      "text/plain": [
       "0.5585585585585585"
      ]
     },
     "execution_count": 92,
     "metadata": {},
     "output_type": "execute_result"
    }
   ],
   "source": [
    "recall"
   ]
  },
  {
   "cell_type": "code",
   "execution_count": 93,
   "id": "a54cc8c4-3b20-470a-a704-3bb92f8768d7",
   "metadata": {},
   "outputs": [
    {
     "data": {
      "text/plain": [
       "0.5585585585585585"
      ]
     },
     "execution_count": 93,
     "metadata": {},
     "output_type": "execute_result"
    }
   ],
   "source": [
    "true_positive_rate"
   ]
  },
  {
   "cell_type": "code",
   "execution_count": 94,
   "id": "ef851290-47cf-45f1-93d0-5520ce47a265",
   "metadata": {},
   "outputs": [
    {
     "data": {
      "text/plain": [
       "0.013220018885741265"
      ]
     },
     "execution_count": 94,
     "metadata": {},
     "output_type": "execute_result"
    }
   ],
   "source": [
    "false_positive_rate"
   ]
  },
  {
   "cell_type": "code",
   "execution_count": 95,
   "id": "54785119-736e-4ccc-8cbb-cde9e82c629a",
   "metadata": {},
   "outputs": [
    {
     "data": {
      "text/plain": [
       "0.9867799811142587"
      ]
     },
     "execution_count": 95,
     "metadata": {},
     "output_type": "execute_result"
    }
   ],
   "source": [
    "specificity"
   ]
  },
  {
   "cell_type": "markdown",
   "id": "5d8ebf47-1758-437a-a4cd-21b669b779e9",
   "metadata": {
    "tags": []
   },
   "source": [
    "# f. Logistic Regression (LR)"
   ]
  },
  {
   "cell_type": "markdown",
   "id": "acd460ca-73ec-4ef6-a6ab-cecfec565ea3",
   "metadata": {
    "tags": []
   },
   "source": [
    "## f.1 Creating & Fitting the LR Model"
   ]
  },
  {
   "cell_type": "markdown",
   "id": "29fa58c9-8178-4a9d-bd86-05df8d11a724",
   "metadata": {},
   "source": [
    "Logistic Regression Algorithm"
   ]
  },
  {
   "cell_type": "code",
   "execution_count": 96,
   "id": "727545a3-5087-4804-89b1-5ea90d901684",
   "metadata": {},
   "outputs": [],
   "source": [
    "lr_classifier = LogisticRegression(random_state=0, max_iter=200).fit(X_train, y_train)"
   ]
  },
  {
   "cell_type": "code",
   "execution_count": 97,
   "id": "ce8cb7d9-c5cf-45bc-86e5-8f89a96c4e08",
   "metadata": {},
   "outputs": [
    {
     "name": "stdout",
     "output_type": "stream",
     "text": [
      "Fitting 3 folds for each of 240 candidates, totalling 720 fits\n"
     ]
    }
   ],
   "source": [
    "pipe = Pipeline([('classifier' , LogisticRegression())])\n",
    "\n",
    "param_grid = [\n",
    "    {'classifier' : [LogisticRegression()],\n",
    "     'classifier__penalty' : ['l1', 'l2'],\n",
    "    'classifier__C' : np.logspace(-4, 4, 20),\n",
    "    'classifier__solver' : ['lbfgs', 'liblinear', 'newton-cg', 'newton-cholesky', 'sag', 'saga']},\n",
    "]\n",
    "\n",
    "lr_classifier_cv = GridSearchCV(\n",
    "                                pipe, \n",
    "                                param_grid = param_grid, \n",
    "                                cv = 3, \n",
    "                                verbose=True, \n",
    "                                n_jobs=-1\n",
    ")\n",
    "\n",
    "grid_lr_classifier_cv = lr_classifier_cv.fit(X_train, y_train)"
   ]
  },
  {
   "cell_type": "code",
   "execution_count": 98,
   "id": "a808d85e-760a-4206-b213-87e81ef71a9d",
   "metadata": {},
   "outputs": [
    {
     "data": {
      "text/plain": [
       "{'classifier': LogisticRegression(C=0.615848211066026, penalty='l1', solver='liblinear'),\n",
       " 'classifier__C': 0.615848211066026,\n",
       " 'classifier__penalty': 'l1',\n",
       " 'classifier__solver': 'liblinear'}"
      ]
     },
     "execution_count": 98,
     "metadata": {},
     "output_type": "execute_result"
    }
   ],
   "source": [
    "grid_lr_classifier_cv.best_params_"
   ]
  },
  {
   "cell_type": "code",
   "execution_count": 99,
   "id": "86494591-3647-4366-8f98-bbb4b05dfc28",
   "metadata": {},
   "outputs": [],
   "source": [
    "lr_classifier_tuned = LogisticRegression(C = 0.615848211066026, penalty = 'l1', solver = 'liblinear').fit(X_train, y_train)"
   ]
  },
  {
   "cell_type": "markdown",
   "id": "a8e4d40a-2d57-4854-85a9-c2082d8465cb",
   "metadata": {
    "tags": []
   },
   "source": [
    "### Logistic Regression Model Parameters"
   ]
  },
  {
   "cell_type": "markdown",
   "id": "e45d4dbe-069b-4277-a9c0-e8b06d50af85",
   "metadata": {},
   "source": [
    "Initial Model Parameters"
   ]
  },
  {
   "cell_type": "code",
   "execution_count": 100,
   "id": "a437dfcf-71d0-4ae1-97e2-789ceb49f21f",
   "metadata": {},
   "outputs": [
    {
     "data": {
      "text/plain": [
       "10"
      ]
     },
     "execution_count": 100,
     "metadata": {},
     "output_type": "execute_result"
    }
   ],
   "source": [
    "lr_classifier.n_features_in_"
   ]
  },
  {
   "cell_type": "code",
   "execution_count": 101,
   "id": "fa7ec863-9566-4d9b-9fda-1afbb62b6b5b",
   "metadata": {},
   "outputs": [
    {
     "data": {
      "text/plain": [
       "array([0, 1])"
      ]
     },
     "execution_count": 101,
     "metadata": {},
     "output_type": "execute_result"
    }
   ],
   "source": [
    "lr_classifier.classes_"
   ]
  },
  {
   "cell_type": "code",
   "execution_count": 102,
   "id": "f2a7345c-bfd5-4af6-833f-34900a578f0e",
   "metadata": {},
   "outputs": [
    {
     "data": {
      "text/plain": [
       "array([[ 0.28679184,  1.08953918, -0.75587414,  0.71784946,  0.81275168,\n",
       "        -0.23195985, -0.98479949,  0.42359458,  1.48875495,  0.30488119]])"
      ]
     },
     "execution_count": 102,
     "metadata": {},
     "output_type": "execute_result"
    }
   ],
   "source": [
    "lr_classifier.coef_"
   ]
  },
  {
   "cell_type": "code",
   "execution_count": 103,
   "id": "7c005d2a-27ec-42a6-9325-37b77fa34c65",
   "metadata": {},
   "outputs": [
    {
     "data": {
      "text/plain": [
       "array([-4.85526001])"
      ]
     },
     "execution_count": 103,
     "metadata": {},
     "output_type": "execute_result"
    }
   ],
   "source": [
    "lr_classifier.intercept_"
   ]
  },
  {
   "cell_type": "code",
   "execution_count": 104,
   "id": "d2bef07e-d5df-40c0-a016-db1a4d97b8cb",
   "metadata": {},
   "outputs": [
    {
     "data": {
      "text/plain": [
       "array([-5.9734892 , -4.65117857, -6.15503155, ..., -6.41501662,\n",
       "       -4.71868226, -5.78629799])"
      ]
     },
     "execution_count": 104,
     "metadata": {},
     "output_type": "execute_result"
    }
   ],
   "source": [
    "lr_classifier.decision_function(X_test)"
   ]
  },
  {
   "cell_type": "code",
   "execution_count": 105,
   "id": "461fad65-7f00-414f-b538-3d6c036e7668",
   "metadata": {},
   "outputs": [
    {
     "data": {
      "text/plain": [
       "{'C': 1.0,\n",
       " 'class_weight': None,\n",
       " 'dual': False,\n",
       " 'fit_intercept': True,\n",
       " 'intercept_scaling': 1,\n",
       " 'l1_ratio': None,\n",
       " 'max_iter': 200,\n",
       " 'multi_class': 'auto',\n",
       " 'n_jobs': None,\n",
       " 'penalty': 'l2',\n",
       " 'random_state': 0,\n",
       " 'solver': 'lbfgs',\n",
       " 'tol': 0.0001,\n",
       " 'verbose': 0,\n",
       " 'warm_start': False}"
      ]
     },
     "execution_count": 105,
     "metadata": {},
     "output_type": "execute_result"
    }
   ],
   "source": [
    "lr_classifier.get_params([X_test])"
   ]
  },
  {
   "cell_type": "code",
   "execution_count": 106,
   "id": "2a556331-4cb2-4cf4-a7a7-40600a5c6786",
   "metadata": {},
   "outputs": [
    {
     "data": {
      "text/plain": [
       "array([31])"
      ]
     },
     "execution_count": 106,
     "metadata": {},
     "output_type": "execute_result"
    }
   ],
   "source": [
    "lr_classifier.n_iter_"
   ]
  },
  {
   "cell_type": "markdown",
   "id": "0537609b-d07e-4f49-b2a5-a268c8e226ed",
   "metadata": {},
   "source": [
    "Fine Tuned Model Parameters"
   ]
  },
  {
   "cell_type": "code",
   "execution_count": 107,
   "id": "c4167493-f6b6-4465-b56e-bdf43a5f4b5e",
   "metadata": {},
   "outputs": [
    {
     "data": {
      "text/plain": [
       "10"
      ]
     },
     "execution_count": 107,
     "metadata": {},
     "output_type": "execute_result"
    }
   ],
   "source": [
    "lr_classifier_tuned.n_features_in_"
   ]
  },
  {
   "cell_type": "code",
   "execution_count": 108,
   "id": "8ccfb903-0e49-404e-9288-a615cca1684b",
   "metadata": {},
   "outputs": [
    {
     "data": {
      "text/plain": [
       "array([0, 1])"
      ]
     },
     "execution_count": 108,
     "metadata": {},
     "output_type": "execute_result"
    }
   ],
   "source": [
    "lr_classifier_tuned.classes_"
   ]
  },
  {
   "cell_type": "code",
   "execution_count": 109,
   "id": "1680c433-ae95-4d84-ba7f-6a2d35c5b09f",
   "metadata": {},
   "outputs": [
    {
     "data": {
      "text/plain": [
       "array([[ 0.        ,  1.17785581, -0.56449   ,  0.712159  ,  0.7994517 ,\n",
       "        -0.22318858, -0.94857384,  0.41260267,  1.45111635,  0.28938688]])"
      ]
     },
     "execution_count": 109,
     "metadata": {},
     "output_type": "execute_result"
    }
   ],
   "source": [
    "lr_classifier_tuned.coef_"
   ]
  },
  {
   "cell_type": "code",
   "execution_count": 110,
   "id": "1495d053-2773-464a-95c6-153ec4377746",
   "metadata": {},
   "outputs": [
    {
     "data": {
      "text/plain": [
       "array([-4.80751124])"
      ]
     },
     "execution_count": 110,
     "metadata": {},
     "output_type": "execute_result"
    }
   ],
   "source": [
    "lr_classifier_tuned.intercept_"
   ]
  },
  {
   "cell_type": "code",
   "execution_count": 111,
   "id": "3df4d1be-07f3-4e78-93e2-0b10e6797830",
   "metadata": {},
   "outputs": [
    {
     "data": {
      "text/plain": [
       "array([-5.91866596, -4.60812704, -6.08085959, ..., -6.33056678,\n",
       "       -4.67856963, -5.71043266])"
      ]
     },
     "execution_count": 111,
     "metadata": {},
     "output_type": "execute_result"
    }
   ],
   "source": [
    "lr_classifier_tuned.decision_function(X_test)"
   ]
  },
  {
   "cell_type": "code",
   "execution_count": 112,
   "id": "650a5a2a-303e-4ef2-a23d-5d34fae4a3d2",
   "metadata": {},
   "outputs": [
    {
     "data": {
      "text/plain": [
       "{'C': 0.615848211066026,\n",
       " 'class_weight': None,\n",
       " 'dual': False,\n",
       " 'fit_intercept': True,\n",
       " 'intercept_scaling': 1,\n",
       " 'l1_ratio': None,\n",
       " 'max_iter': 100,\n",
       " 'multi_class': 'auto',\n",
       " 'n_jobs': None,\n",
       " 'penalty': 'l1',\n",
       " 'random_state': None,\n",
       " 'solver': 'liblinear',\n",
       " 'tol': 0.0001,\n",
       " 'verbose': 0,\n",
       " 'warm_start': False}"
      ]
     },
     "execution_count": 112,
     "metadata": {},
     "output_type": "execute_result"
    }
   ],
   "source": [
    "lr_classifier_tuned.get_params([X_test])"
   ]
  },
  {
   "cell_type": "markdown",
   "id": "0f4b3a11-e956-419a-8868-1f1cd631c8c6",
   "metadata": {
    "tags": []
   },
   "source": [
    "## f.2 Making Predictions Using the LR Model"
   ]
  },
  {
   "cell_type": "code",
   "execution_count": 113,
   "id": "b3a36dce-1a9b-42d1-be3e-55d141c8aa04",
   "metadata": {},
   "outputs": [
    {
     "data": {
      "text/plain": [
       "array([0, 0, 0, ..., 0, 0, 0])"
      ]
     },
     "execution_count": 113,
     "metadata": {},
     "output_type": "execute_result"
    }
   ],
   "source": [
    "y_pred = lr_classifier.predict(X_test) #predictions with default threshold #Using the initial model\n",
    "y_pred"
   ]
  },
  {
   "cell_type": "code",
   "execution_count": 114,
   "id": "b35c3577-9abc-4bc1-b9e1-f805913b082f",
   "metadata": {},
   "outputs": [
    {
     "data": {
      "text/plain": [
       "array([[0.99746112, 0.00253888],\n",
       "       [0.99054001, 0.00945999],\n",
       "       [0.99788172, 0.00211828],\n",
       "       ...,\n",
       "       [0.99836588, 0.00163412],\n",
       "       [0.99115205, 0.00884795],\n",
       "       [0.99694007, 0.00305993]])"
      ]
     },
     "execution_count": 114,
     "metadata": {},
     "output_type": "execute_result"
    }
   ],
   "source": [
    "y_proba = lr_classifier.predict_proba(X_test) #predictions of the probability  #Using the initial model\n",
    "y_proba"
   ]
  },
  {
   "cell_type": "code",
   "execution_count": 115,
   "id": "5b83e012-2d73-4c10-aed4-fab18f248b58",
   "metadata": {},
   "outputs": [
    {
     "data": {
      "text/plain": [
       "array([0, 0, 0, ..., 0, 0, 0])"
      ]
     },
     "execution_count": 115,
     "metadata": {},
     "output_type": "execute_result"
    }
   ],
   "source": [
    "y_proba_pred = (lr_classifier.predict_proba(X_test)[:,1] >= 0.2).astype(int) #predictions of the probability tuned with 5% threshold  #Using the initial model\n",
    "y_proba_pred "
   ]
  },
  {
   "cell_type": "code",
   "execution_count": 116,
   "id": "7839c035-d862-4e1d-825c-57316dbca6d4",
   "metadata": {},
   "outputs": [
    {
     "data": {
      "text/plain": [
       "array([0, 0, 0, ..., 0, 0, 0])"
      ]
     },
     "execution_count": 116,
     "metadata": {},
     "output_type": "execute_result"
    }
   ],
   "source": [
    "y_pred_tuned = lr_classifier_tuned.predict(X_test) #predictions with default threshold  #Using the fine tuned model\n",
    "y_pred_tuned"
   ]
  },
  {
   "cell_type": "code",
   "execution_count": 117,
   "id": "ceac8aa5-45cd-4ccc-af13-17be12dec2dd",
   "metadata": {},
   "outputs": [
    {
     "data": {
      "text/plain": [
       "array([[0.99731843, 0.00268157],\n",
       "       [0.99012795, 0.00987205],\n",
       "       [0.997719  , 0.002281  ],\n",
       "       ...,\n",
       "       [0.99822214, 0.00177786],\n",
       "       [0.99079326, 0.00920674],\n",
       "       [0.99669969, 0.00330031]])"
      ]
     },
     "execution_count": 117,
     "metadata": {},
     "output_type": "execute_result"
    }
   ],
   "source": [
    "y_proba_tuned = lr_classifier_tuned.predict_proba(X_test) #predictions of the probability #Using the fine tuned model\n",
    "y_proba_tuned"
   ]
  },
  {
   "cell_type": "code",
   "execution_count": 118,
   "id": "946af1fd-c385-4b35-bd99-ba9f3bd18d68",
   "metadata": {},
   "outputs": [
    {
     "data": {
      "text/plain": [
       "array([0, 0, 0, ..., 0, 0, 0])"
      ]
     },
     "execution_count": 118,
     "metadata": {},
     "output_type": "execute_result"
    }
   ],
   "source": [
    "y_proba_pred_tuned = (lr_classifier_tuned.predict_proba(X_test)[:,1] >= 0.1).astype(int) #predictions of the probability tuned with 5% threshold #Using the fine tuned model\n",
    "y_proba_pred_tuned"
   ]
  },
  {
   "cell_type": "markdown",
   "id": "abb5357c-4987-4acf-a094-e20d09732ed5",
   "metadata": {
    "tags": []
   },
   "source": [
    "## f.3 LR Model Evaluation"
   ]
  },
  {
   "cell_type": "markdown",
   "id": "8ac6c7ac-850e-4f41-a7ad-18077ba769e3",
   "metadata": {
    "tags": []
   },
   "source": [
    "### Accuracy"
   ]
  },
  {
   "cell_type": "code",
   "execution_count": 119,
   "id": "1a2dc9c8-f864-4efb-89a6-b3053d706d0c",
   "metadata": {},
   "outputs": [
    {
     "data": {
      "text/plain": [
       "0.9686938958707361"
      ]
     },
     "execution_count": 119,
     "metadata": {},
     "output_type": "execute_result"
    }
   ],
   "source": [
    "lr_classifier.score(X_train, y_train) #train accuracy"
   ]
  },
  {
   "cell_type": "code",
   "execution_count": 120,
   "id": "3e316d53-7599-4e92-a991-614bdbf33479",
   "metadata": {},
   "outputs": [
    {
     "data": {
      "text/plain": [
       "0.9659039928218932"
      ]
     },
     "execution_count": 120,
     "metadata": {},
     "output_type": "execute_result"
    }
   ],
   "source": [
    "lr_classifier.score(X_test, y_test) #test accuracy"
   ]
  },
  {
   "cell_type": "code",
   "execution_count": 121,
   "id": "c453ad8e-4394-479d-a767-138aee0ce36d",
   "metadata": {},
   "outputs": [
    {
     "data": {
      "text/plain": [
       "0.5368421052631579"
      ]
     },
     "execution_count": 121,
     "metadata": {},
     "output_type": "execute_result"
    }
   ],
   "source": [
    "f1_score(y_test, y_proba_pred, average='binary')"
   ]
  },
  {
   "cell_type": "code",
   "execution_count": 122,
   "id": "9e4840a4-79a2-4cbe-b132-c16ff855082d",
   "metadata": {},
   "outputs": [
    {
     "data": {
      "text/plain": [
       "array([31])"
      ]
     },
     "execution_count": 122,
     "metadata": {},
     "output_type": "execute_result"
    }
   ],
   "source": [
    "lr_classifier.n_iter_"
   ]
  },
  {
   "cell_type": "markdown",
   "id": "5edf32f2-50f5-4089-8c1c-cd30ec7409f4",
   "metadata": {},
   "source": [
    "Evaluating the fine tuned model"
   ]
  },
  {
   "cell_type": "code",
   "execution_count": 123,
   "id": "a68de939-8c56-4101-9f74-8d96442e18f1",
   "metadata": {},
   "outputs": [
    {
     "data": {
      "text/plain": [
       "0.9686938958707361"
      ]
     },
     "execution_count": 123,
     "metadata": {},
     "output_type": "execute_result"
    }
   ],
   "source": [
    "lr_classifier_tuned.score(X_train, y_train)"
   ]
  },
  {
   "cell_type": "code",
   "execution_count": 124,
   "id": "a842a223-cd7f-4a21-9692-7fb5df6c0437",
   "metadata": {},
   "outputs": [
    {
     "data": {
      "text/plain": [
       "0.9515477792732167"
      ]
     },
     "execution_count": 124,
     "metadata": {},
     "output_type": "execute_result"
    }
   ],
   "source": [
    "lr_classifier_tuned.score(X_test, y_proba_pred_tuned)"
   ]
  },
  {
   "cell_type": "code",
   "execution_count": 125,
   "id": "c2fb9c7d-a300-409a-8c23-adf6a794808f",
   "metadata": {},
   "outputs": [
    {
     "data": {
      "text/plain": [
       "0.5299145299145299"
      ]
     },
     "execution_count": 125,
     "metadata": {},
     "output_type": "execute_result"
    }
   ],
   "source": [
    "f1_score(y_test, y_proba_pred_tuned, average='binary')"
   ]
  },
  {
   "cell_type": "markdown",
   "id": "04e5ff99-f851-4710-8c65-b4a83d6e68d0",
   "metadata": {},
   "source": [
    "### Confusion Matrix"
   ]
  },
  {
   "cell_type": "markdown",
   "id": "298d9eac-823f-4b3b-ab2c-b37f059a1968",
   "metadata": {},
   "source": [
    "Confusion Matrix of Predictions made by the initial model"
   ]
  },
  {
   "cell_type": "code",
   "execution_count": 126,
   "id": "1614f1fd-51f0-4038-a899-8e8b1e085b45",
   "metadata": {},
   "outputs": [
    {
     "data": {
      "text/html": [
       "<div>\n",
       "<style scoped>\n",
       "    .dataframe tbody tr th:only-of-type {\n",
       "        vertical-align: middle;\n",
       "    }\n",
       "\n",
       "    .dataframe tbody tr th {\n",
       "        vertical-align: top;\n",
       "    }\n",
       "\n",
       "    .dataframe thead th {\n",
       "        text-align: right;\n",
       "    }\n",
       "</style>\n",
       "<table border=\"1\" class=\"dataframe\">\n",
       "  <thead>\n",
       "    <tr style=\"text-align: right;\">\n",
       "      <th>Predicted</th>\n",
       "      <th>0</th>\n",
       "      <th>1</th>\n",
       "      <th>All</th>\n",
       "    </tr>\n",
       "    <tr>\n",
       "      <th>True</th>\n",
       "      <th></th>\n",
       "      <th></th>\n",
       "      <th></th>\n",
       "    </tr>\n",
       "  </thead>\n",
       "  <tbody>\n",
       "    <tr>\n",
       "      <th>0</th>\n",
       "      <td>2128</td>\n",
       "      <td>11</td>\n",
       "      <td>2139</td>\n",
       "    </tr>\n",
       "    <tr>\n",
       "      <th>1</th>\n",
       "      <td>65</td>\n",
       "      <td>25</td>\n",
       "      <td>90</td>\n",
       "    </tr>\n",
       "    <tr>\n",
       "      <th>All</th>\n",
       "      <td>2193</td>\n",
       "      <td>36</td>\n",
       "      <td>2229</td>\n",
       "    </tr>\n",
       "  </tbody>\n",
       "</table>\n",
       "</div>"
      ],
      "text/plain": [
       "Predicted     0   1   All\n",
       "True                     \n",
       "0          2128  11  2139\n",
       "1            65  25    90\n",
       "All        2193  36  2229"
      ]
     },
     "execution_count": 126,
     "metadata": {},
     "output_type": "execute_result"
    }
   ],
   "source": [
    "matrix = pd.crosstab(y_test, y_pred, rownames=['True'], colnames=['Predicted'], margins = True)\n",
    "matrix"
   ]
  },
  {
   "cell_type": "code",
   "execution_count": 127,
   "id": "2c421d0f-c742-46b5-ac28-d7311d8900ce",
   "metadata": {},
   "outputs": [],
   "source": [
    "TN = matrix[0][0]\n",
    "FP = matrix[0][1]\n",
    "FN = matrix[1][0]\n",
    "TP = matrix[1][1]\n",
    "\n",
    "classification_accuracy = (TP + TN) / float(TP + TN + FP + FN)\n",
    "classification_error = (FP + FN) / float(TP + TN + FP + FN)\n",
    "precision = TP / float(TP + FP)\n",
    "recall = TP / float(TP + FN)\n",
    "true_positive_rate = TP / float(TP + FN)\n",
    "false_positive_rate = FP / float(FP + TN)\n",
    "specificity = TN / (TN + FP)\n",
    "\n",
    "\n",
    "#f1-score\n",
    "#f1-score is the weighted harmonic mean of precision and recall.\n",
    "#The best possible f1-score would be 1.0 and the worst would be 0.0. \n",
    "#f1-score is the harmonic mean of precision and recall. \n",
    "#So, f1-score is always lower than accuracy measures as they embed precision and recall into their computation.\n",
    "# The weighted average of f1-score should be used to compare classifier models, not global accuracy."
   ]
  },
  {
   "cell_type": "code",
   "execution_count": 128,
   "id": "c292006d-46da-442d-8210-060a378c366d",
   "metadata": {},
   "outputs": [
    {
     "data": {
      "text/plain": [
       "0.9659039928218932"
      ]
     },
     "execution_count": 128,
     "metadata": {},
     "output_type": "execute_result"
    }
   ],
   "source": [
    "classification_accuracy"
   ]
  },
  {
   "cell_type": "code",
   "execution_count": 129,
   "id": "2698a2ef-07c4-4b1e-aba2-8eb3c2592e9e",
   "metadata": {},
   "outputs": [
    {
     "data": {
      "text/plain": [
       "0.03409600717810678"
      ]
     },
     "execution_count": 129,
     "metadata": {},
     "output_type": "execute_result"
    }
   ],
   "source": [
    "classification_error"
   ]
  },
  {
   "cell_type": "code",
   "execution_count": 130,
   "id": "de8ca923-0c94-47bb-b4d5-c156f3cd5f82",
   "metadata": {},
   "outputs": [
    {
     "data": {
      "text/plain": [
       "0.2777777777777778"
      ]
     },
     "execution_count": 130,
     "metadata": {},
     "output_type": "execute_result"
    }
   ],
   "source": [
    "precision"
   ]
  },
  {
   "cell_type": "code",
   "execution_count": 131,
   "id": "106874a6-5f6e-4117-ad7a-13414cb5b541",
   "metadata": {},
   "outputs": [
    {
     "data": {
      "text/plain": [
       "0.6944444444444444"
      ]
     },
     "execution_count": 131,
     "metadata": {},
     "output_type": "execute_result"
    }
   ],
   "source": [
    "recall"
   ]
  },
  {
   "cell_type": "code",
   "execution_count": 132,
   "id": "d2773647-8a82-44c5-9790-b4c65686bfea",
   "metadata": {},
   "outputs": [
    {
     "data": {
      "text/plain": [
       "0.6944444444444444"
      ]
     },
     "execution_count": 132,
     "metadata": {},
     "output_type": "execute_result"
    }
   ],
   "source": [
    "true_positive_rate"
   ]
  },
  {
   "cell_type": "code",
   "execution_count": 133,
   "id": "24789734-2edc-4f04-b046-0ae07dd5cad6",
   "metadata": {},
   "outputs": [
    {
     "data": {
      "text/plain": [
       "0.029639762881896944"
      ]
     },
     "execution_count": 133,
     "metadata": {},
     "output_type": "execute_result"
    }
   ],
   "source": [
    "false_positive_rate"
   ]
  },
  {
   "cell_type": "code",
   "execution_count": 134,
   "id": "9418a391-ab86-46b6-9e71-cbb5d5999720",
   "metadata": {},
   "outputs": [
    {
     "data": {
      "text/plain": [
       "0.970360237118103"
      ]
     },
     "execution_count": 134,
     "metadata": {},
     "output_type": "execute_result"
    }
   ],
   "source": [
    "specificity"
   ]
  },
  {
   "cell_type": "markdown",
   "id": "f692da05-2f56-4f35-b2c7-e86a90705ce2",
   "metadata": {},
   "source": [
    "Confusion Matrix of Predictions using 20% threshold made by the initial model"
   ]
  },
  {
   "cell_type": "code",
   "execution_count": 135,
   "id": "b751054a-5882-47a6-a89c-919bafcf23bd",
   "metadata": {},
   "outputs": [
    {
     "data": {
      "text/html": [
       "<div>\n",
       "<style scoped>\n",
       "    .dataframe tbody tr th:only-of-type {\n",
       "        vertical-align: middle;\n",
       "    }\n",
       "\n",
       "    .dataframe tbody tr th {\n",
       "        vertical-align: top;\n",
       "    }\n",
       "\n",
       "    .dataframe thead th {\n",
       "        text-align: right;\n",
       "    }\n",
       "</style>\n",
       "<table border=\"1\" class=\"dataframe\">\n",
       "  <thead>\n",
       "    <tr style=\"text-align: right;\">\n",
       "      <th>Predicted</th>\n",
       "      <th>0</th>\n",
       "      <th>1</th>\n",
       "      <th>All</th>\n",
       "    </tr>\n",
       "    <tr>\n",
       "      <th>True</th>\n",
       "      <th></th>\n",
       "      <th></th>\n",
       "      <th></th>\n",
       "    </tr>\n",
       "  </thead>\n",
       "  <tbody>\n",
       "    <tr>\n",
       "      <th>0</th>\n",
       "      <td>2090</td>\n",
       "      <td>49</td>\n",
       "      <td>2139</td>\n",
       "    </tr>\n",
       "    <tr>\n",
       "      <th>1</th>\n",
       "      <td>39</td>\n",
       "      <td>51</td>\n",
       "      <td>90</td>\n",
       "    </tr>\n",
       "    <tr>\n",
       "      <th>All</th>\n",
       "      <td>2129</td>\n",
       "      <td>100</td>\n",
       "      <td>2229</td>\n",
       "    </tr>\n",
       "  </tbody>\n",
       "</table>\n",
       "</div>"
      ],
      "text/plain": [
       "Predicted     0    1   All\n",
       "True                      \n",
       "0          2090   49  2139\n",
       "1            39   51    90\n",
       "All        2129  100  2229"
      ]
     },
     "execution_count": 135,
     "metadata": {},
     "output_type": "execute_result"
    }
   ],
   "source": [
    "matrix = pd.crosstab(y_test, y_proba_pred, rownames=['True'], colnames=['Predicted'], margins = True)\n",
    "matrix"
   ]
  },
  {
   "cell_type": "code",
   "execution_count": 136,
   "id": "8b6b3213-1265-4924-9f62-06af8ce5e36b",
   "metadata": {},
   "outputs": [],
   "source": [
    "TN = matrix[0][0]\n",
    "FP = matrix[0][1]\n",
    "FN = matrix[1][0]\n",
    "TP = matrix[1][1]\n",
    "\n",
    "classification_accuracy = (TP + TN) / float(TP + TN + FP + FN)\n",
    "classification_error = (FP + FN) / float(TP + TN + FP + FN)\n",
    "precision = TP / float(TP + FP)\n",
    "recall = TP / float(TP + FN)\n",
    "true_positive_rate = TP / float(TP + FN)\n",
    "false_positive_rate = FP / float(FP + TN)\n",
    "specificity = TN / (TN + FP)\n",
    "\n",
    "\n",
    "#f1-score\n",
    "#f1-score is the weighted harmonic mean of precision and recall.\n",
    "#The best possible f1-score would be 1.0 and the worst would be 0.0. \n",
    "#f1-score is the harmonic mean of precision and recall. \n",
    "#So, f1-score is always lower than accuracy measures as they embed precision and recall into their computation.\n",
    "# The weighted average of f1-score should be used to compare classifier models, not global accuracy."
   ]
  },
  {
   "cell_type": "code",
   "execution_count": 137,
   "id": "001e2e9e-ce46-4360-9aa8-af1f72b60d9b",
   "metadata": {},
   "outputs": [
    {
     "data": {
      "text/plain": [
       "0.9605204127411395"
      ]
     },
     "execution_count": 137,
     "metadata": {},
     "output_type": "execute_result"
    }
   ],
   "source": [
    "classification_accuracy"
   ]
  },
  {
   "cell_type": "code",
   "execution_count": 138,
   "id": "8ef68156-9b9a-443d-834d-a6499c53f0c0",
   "metadata": {},
   "outputs": [
    {
     "data": {
      "text/plain": [
       "0.03947958725886048"
      ]
     },
     "execution_count": 138,
     "metadata": {},
     "output_type": "execute_result"
    }
   ],
   "source": [
    "classification_error"
   ]
  },
  {
   "cell_type": "code",
   "execution_count": 139,
   "id": "587db536-c8ac-4afc-8b1c-859f5528bdf5",
   "metadata": {},
   "outputs": [
    {
     "data": {
      "text/plain": [
       "0.5666666666666667"
      ]
     },
     "execution_count": 139,
     "metadata": {},
     "output_type": "execute_result"
    }
   ],
   "source": [
    "precision"
   ]
  },
  {
   "cell_type": "code",
   "execution_count": 140,
   "id": "8f1d4d06-29f9-47b7-9854-c83754ac292f",
   "metadata": {},
   "outputs": [
    {
     "data": {
      "text/plain": [
       "0.51"
      ]
     },
     "execution_count": 140,
     "metadata": {},
     "output_type": "execute_result"
    }
   ],
   "source": [
    "recall"
   ]
  },
  {
   "cell_type": "code",
   "execution_count": 141,
   "id": "835d03f5-6eea-4dc3-9d6e-194de4c8267c",
   "metadata": {},
   "outputs": [
    {
     "data": {
      "text/plain": [
       "0.51"
      ]
     },
     "execution_count": 141,
     "metadata": {},
     "output_type": "execute_result"
    }
   ],
   "source": [
    "true_positive_rate"
   ]
  },
  {
   "cell_type": "code",
   "execution_count": 142,
   "id": "55efa4a7-b8a7-4448-8018-136f988af0a2",
   "metadata": {},
   "outputs": [
    {
     "data": {
      "text/plain": [
       "0.018318459370596524"
      ]
     },
     "execution_count": 142,
     "metadata": {},
     "output_type": "execute_result"
    }
   ],
   "source": [
    "false_positive_rate"
   ]
  },
  {
   "cell_type": "code",
   "execution_count": 143,
   "id": "bbb4d2d4-f2c4-4c28-b918-feb0c2b8cbb9",
   "metadata": {},
   "outputs": [
    {
     "data": {
      "text/plain": [
       "0.9816815406294035"
      ]
     },
     "execution_count": 143,
     "metadata": {},
     "output_type": "execute_result"
    }
   ],
   "source": [
    "specificity"
   ]
  },
  {
   "cell_type": "markdown",
   "id": "1d8b759f-6ae9-4195-b36c-92af22657108",
   "metadata": {},
   "source": [
    "Confusion Matrix of Predictions made by the fine tuned model"
   ]
  },
  {
   "cell_type": "code",
   "execution_count": 144,
   "id": "38fd3d78-9648-4d2a-b643-3253e336b691",
   "metadata": {},
   "outputs": [
    {
     "data": {
      "text/html": [
       "<div>\n",
       "<style scoped>\n",
       "    .dataframe tbody tr th:only-of-type {\n",
       "        vertical-align: middle;\n",
       "    }\n",
       "\n",
       "    .dataframe tbody tr th {\n",
       "        vertical-align: top;\n",
       "    }\n",
       "\n",
       "    .dataframe thead th {\n",
       "        text-align: right;\n",
       "    }\n",
       "</style>\n",
       "<table border=\"1\" class=\"dataframe\">\n",
       "  <thead>\n",
       "    <tr style=\"text-align: right;\">\n",
       "      <th>Predicted</th>\n",
       "      <th>0</th>\n",
       "      <th>1</th>\n",
       "      <th>All</th>\n",
       "    </tr>\n",
       "    <tr>\n",
       "      <th>True</th>\n",
       "      <th></th>\n",
       "      <th></th>\n",
       "      <th></th>\n",
       "    </tr>\n",
       "  </thead>\n",
       "  <tbody>\n",
       "    <tr>\n",
       "      <th>0</th>\n",
       "      <td>2128</td>\n",
       "      <td>11</td>\n",
       "      <td>2139</td>\n",
       "    </tr>\n",
       "    <tr>\n",
       "      <th>1</th>\n",
       "      <td>65</td>\n",
       "      <td>25</td>\n",
       "      <td>90</td>\n",
       "    </tr>\n",
       "    <tr>\n",
       "      <th>All</th>\n",
       "      <td>2193</td>\n",
       "      <td>36</td>\n",
       "      <td>2229</td>\n",
       "    </tr>\n",
       "  </tbody>\n",
       "</table>\n",
       "</div>"
      ],
      "text/plain": [
       "Predicted     0   1   All\n",
       "True                     \n",
       "0          2128  11  2139\n",
       "1            65  25    90\n",
       "All        2193  36  2229"
      ]
     },
     "execution_count": 144,
     "metadata": {},
     "output_type": "execute_result"
    }
   ],
   "source": [
    "matrix = pd.crosstab(y_test, y_pred_tuned, rownames=['True'], colnames=['Predicted'], margins = True)\n",
    "matrix"
   ]
  },
  {
   "cell_type": "code",
   "execution_count": 145,
   "id": "3d2a02fa-2b0f-465a-bf31-3d9d69433443",
   "metadata": {},
   "outputs": [],
   "source": [
    "TN = matrix[0][0]\n",
    "FP = matrix[0][1]\n",
    "FN = matrix[1][0]\n",
    "TP = matrix[1][1]\n",
    "\n",
    "classification_accuracy = (TP + TN) / float(TP + TN + FP + FN)\n",
    "classification_error = (FP + FN) / float(TP + TN + FP + FN)\n",
    "precision = TP / float(TP + FP)\n",
    "recall = TP / float(TP + FN)\n",
    "true_positive_rate = TP / float(TP + FN)\n",
    "false_positive_rate = FP / float(FP + TN)\n",
    "specificity = TN / (TN + FP)\n",
    "\n",
    "\n",
    "#f1-score\n",
    "#f1-score is the weighted harmonic mean of precision and recall.\n",
    "#The best possible f1-score would be 1.0 and the worst would be 0.0. \n",
    "#f1-score is the harmonic mean of precision and recall. \n",
    "#So, f1-score is always lower than accuracy measures as they embed precision and recall into their computation.\n",
    "# The weighted average of f1-score should be used to compare classifier models, not global accuracy."
   ]
  },
  {
   "cell_type": "code",
   "execution_count": 146,
   "id": "21df562e-1f6c-4445-8435-16b5dd03d69e",
   "metadata": {},
   "outputs": [
    {
     "data": {
      "text/plain": [
       "0.9659039928218932"
      ]
     },
     "execution_count": 146,
     "metadata": {},
     "output_type": "execute_result"
    }
   ],
   "source": [
    "classification_accuracy"
   ]
  },
  {
   "cell_type": "code",
   "execution_count": 147,
   "id": "4c48ffe9-30e3-4996-91e7-13b9d56c0ffc",
   "metadata": {},
   "outputs": [
    {
     "data": {
      "text/plain": [
       "0.03409600717810678"
      ]
     },
     "execution_count": 147,
     "metadata": {},
     "output_type": "execute_result"
    }
   ],
   "source": [
    "classification_error"
   ]
  },
  {
   "cell_type": "code",
   "execution_count": 148,
   "id": "17dee53a-c71b-4fad-85f7-98afc095e6ab",
   "metadata": {},
   "outputs": [
    {
     "data": {
      "text/plain": [
       "0.2777777777777778"
      ]
     },
     "execution_count": 148,
     "metadata": {},
     "output_type": "execute_result"
    }
   ],
   "source": [
    "precision"
   ]
  },
  {
   "cell_type": "code",
   "execution_count": 149,
   "id": "28c5258d-e025-45e6-91b3-e2d95d3aeab4",
   "metadata": {},
   "outputs": [
    {
     "data": {
      "text/plain": [
       "0.6944444444444444"
      ]
     },
     "execution_count": 149,
     "metadata": {},
     "output_type": "execute_result"
    }
   ],
   "source": [
    "recall"
   ]
  },
  {
   "cell_type": "code",
   "execution_count": 150,
   "id": "1f4fe8fa-794f-4c5d-ac2e-99ff9d8c5ef5",
   "metadata": {},
   "outputs": [
    {
     "data": {
      "text/plain": [
       "0.6944444444444444"
      ]
     },
     "execution_count": 150,
     "metadata": {},
     "output_type": "execute_result"
    }
   ],
   "source": [
    "true_positive_rate"
   ]
  },
  {
   "cell_type": "code",
   "execution_count": 151,
   "id": "d6456703-4c92-4f45-a906-8e22b5093f3a",
   "metadata": {},
   "outputs": [
    {
     "data": {
      "text/plain": [
       "0.029639762881896944"
      ]
     },
     "execution_count": 151,
     "metadata": {},
     "output_type": "execute_result"
    }
   ],
   "source": [
    "false_positive_rate"
   ]
  },
  {
   "cell_type": "code",
   "execution_count": 152,
   "id": "42e80c2d-fbfb-4419-822f-74e08c4933ea",
   "metadata": {},
   "outputs": [
    {
     "data": {
      "text/plain": [
       "0.970360237118103"
      ]
     },
     "execution_count": 152,
     "metadata": {},
     "output_type": "execute_result"
    }
   ],
   "source": [
    "specificity"
   ]
  },
  {
   "cell_type": "markdown",
   "id": "c702c816-7354-4888-9fa2-37fb0f952c5f",
   "metadata": {},
   "source": [
    "Since all predictions came out as 0 not infected, the classification metrics cannot be measured"
   ]
  },
  {
   "cell_type": "markdown",
   "id": "d5105c2f-e5a7-4fb3-8bf3-08fae4358ded",
   "metadata": {},
   "source": [
    "Confusion Matrix of Predictions using 10% threshold made by the fine tuned model"
   ]
  },
  {
   "cell_type": "code",
   "execution_count": 153,
   "id": "73011b44-616d-432e-8fe2-dcffec0e1e17",
   "metadata": {},
   "outputs": [
    {
     "data": {
      "text/html": [
       "<div>\n",
       "<style scoped>\n",
       "    .dataframe tbody tr th:only-of-type {\n",
       "        vertical-align: middle;\n",
       "    }\n",
       "\n",
       "    .dataframe tbody tr th {\n",
       "        vertical-align: top;\n",
       "    }\n",
       "\n",
       "    .dataframe thead th {\n",
       "        text-align: right;\n",
       "    }\n",
       "</style>\n",
       "<table border=\"1\" class=\"dataframe\">\n",
       "  <thead>\n",
       "    <tr style=\"text-align: right;\">\n",
       "      <th>Predicted</th>\n",
       "      <th>0</th>\n",
       "      <th>1</th>\n",
       "      <th>All</th>\n",
       "    </tr>\n",
       "    <tr>\n",
       "      <th>True</th>\n",
       "      <th></th>\n",
       "      <th></th>\n",
       "      <th></th>\n",
       "    </tr>\n",
       "  </thead>\n",
       "  <tbody>\n",
       "    <tr>\n",
       "      <th>0</th>\n",
       "      <td>2057</td>\n",
       "      <td>82</td>\n",
       "      <td>2139</td>\n",
       "    </tr>\n",
       "    <tr>\n",
       "      <th>1</th>\n",
       "      <td>28</td>\n",
       "      <td>62</td>\n",
       "      <td>90</td>\n",
       "    </tr>\n",
       "    <tr>\n",
       "      <th>All</th>\n",
       "      <td>2085</td>\n",
       "      <td>144</td>\n",
       "      <td>2229</td>\n",
       "    </tr>\n",
       "  </tbody>\n",
       "</table>\n",
       "</div>"
      ],
      "text/plain": [
       "Predicted     0    1   All\n",
       "True                      \n",
       "0          2057   82  2139\n",
       "1            28   62    90\n",
       "All        2085  144  2229"
      ]
     },
     "execution_count": 153,
     "metadata": {},
     "output_type": "execute_result"
    }
   ],
   "source": [
    "matrix = pd.crosstab(y_test, y_proba_pred_tuned, rownames=['True'], colnames=['Predicted'], margins = True)\n",
    "matrix"
   ]
  },
  {
   "cell_type": "code",
   "execution_count": 154,
   "id": "1d62621d-ed45-42f8-89cf-8337dbc3e11b",
   "metadata": {},
   "outputs": [],
   "source": [
    "TN = matrix[0][0]\n",
    "FP = matrix[0][1]\n",
    "FN = matrix[1][0]\n",
    "TP = matrix[1][1]\n",
    "\n",
    "classification_accuracy = (TP + TN) / float(TP + TN + FP + FN)\n",
    "classification_error = (FP + FN) / float(TP + TN + FP + FN)\n",
    "precision = TP / float(TP + FP)\n",
    "recall = TP / float(TP + FN)\n",
    "true_positive_rate = TP / float(TP + FN)\n",
    "false_positive_rate = FP / float(FP + TN)\n",
    "specificity = TN / (TN + FP)\n",
    "\n",
    "\n",
    "#f1-score\n",
    "#f1-score is the weighted harmonic mean of precision and recall.\n",
    "#The best possible f1-score would be 1.0 and the worst would be 0.0. \n",
    "#f1-score is the harmonic mean of precision and recall. \n",
    "#So, f1-score is always lower than accuracy measures as they embed precision and recall into their computation.\n",
    "# The weighted average of f1-score should be used to compare classifier models, not global accuracy."
   ]
  },
  {
   "cell_type": "code",
   "execution_count": 155,
   "id": "b5cfde78-cf68-4511-aa02-e41c472a08be",
   "metadata": {},
   "outputs": [
    {
     "data": {
      "text/plain": [
       "0.9506505159264244"
      ]
     },
     "execution_count": 155,
     "metadata": {},
     "output_type": "execute_result"
    }
   ],
   "source": [
    "classification_accuracy"
   ]
  },
  {
   "cell_type": "code",
   "execution_count": 156,
   "id": "7fa9034e-14c2-4dfc-9171-def7f2b3803a",
   "metadata": {},
   "outputs": [
    {
     "data": {
      "text/plain": [
       "0.049349484073575596"
      ]
     },
     "execution_count": 156,
     "metadata": {},
     "output_type": "execute_result"
    }
   ],
   "source": [
    "classification_error"
   ]
  },
  {
   "cell_type": "code",
   "execution_count": 157,
   "id": "398f89e1-f09f-492f-9d75-d4b21742f56a",
   "metadata": {},
   "outputs": [
    {
     "data": {
      "text/plain": [
       "0.6888888888888889"
      ]
     },
     "execution_count": 157,
     "metadata": {},
     "output_type": "execute_result"
    }
   ],
   "source": [
    "precision"
   ]
  },
  {
   "cell_type": "code",
   "execution_count": 158,
   "id": "c9c50e60-220c-4aca-8c31-3652254990b2",
   "metadata": {},
   "outputs": [
    {
     "data": {
      "text/plain": [
       "0.4305555555555556"
      ]
     },
     "execution_count": 158,
     "metadata": {},
     "output_type": "execute_result"
    }
   ],
   "source": [
    "recall"
   ]
  },
  {
   "cell_type": "code",
   "execution_count": 159,
   "id": "140cad50-cd8b-4cc4-a619-1dda708f68e4",
   "metadata": {},
   "outputs": [
    {
     "data": {
      "text/plain": [
       "0.4305555555555556"
      ]
     },
     "execution_count": 159,
     "metadata": {},
     "output_type": "execute_result"
    }
   ],
   "source": [
    "true_positive_rate"
   ]
  },
  {
   "cell_type": "code",
   "execution_count": 160,
   "id": "8474f939-a8ab-4ded-a2d7-6f469610705e",
   "metadata": {},
   "outputs": [
    {
     "data": {
      "text/plain": [
       "0.01342925659472422"
      ]
     },
     "execution_count": 160,
     "metadata": {},
     "output_type": "execute_result"
    }
   ],
   "source": [
    "false_positive_rate"
   ]
  },
  {
   "cell_type": "code",
   "execution_count": 161,
   "id": "4f0697a5-d59d-44dd-a9fb-78eda8cf6348",
   "metadata": {},
   "outputs": [
    {
     "data": {
      "text/plain": [
       "0.9865707434052757"
      ]
     },
     "execution_count": 161,
     "metadata": {},
     "output_type": "execute_result"
    }
   ],
   "source": [
    "specificity"
   ]
  },
  {
   "cell_type": "markdown",
   "id": "6c1fc892-4a41-4c3f-94af-0d738e5bfdd8",
   "metadata": {
    "tags": []
   },
   "source": [
    "# g. Random Forest Classifier (RFC)"
   ]
  },
  {
   "cell_type": "markdown",
   "id": "0a088bb0-8e90-47f2-a9d7-dd59244cd5cf",
   "metadata": {},
   "source": [
    "## g.1 Creating & Fitting the RFC Model"
   ]
  },
  {
   "cell_type": "code",
   "execution_count": 162,
   "id": "8bc5a321-6560-4c71-9b3d-2556a51a790a",
   "metadata": {},
   "outputs": [],
   "source": [
    "rf_classifier = RandomForestClassifier().fit(X_train, y_train)"
   ]
  },
  {
   "cell_type": "markdown",
   "id": "a906ea08-c990-444e-a77d-c7a872f7c1a5",
   "metadata": {},
   "source": [
    "Building Random Forest Model with hyperparameter tuning"
   ]
  },
  {
   "cell_type": "code",
   "execution_count": 163,
   "id": "319dbd66-1ce7-4ace-869a-23d2c9d9a896",
   "metadata": {},
   "outputs": [],
   "source": [
    "pipe = RandomForestClassifier()\n",
    "\n",
    "distributions  = dict(\n",
    "                      n_estimators = [100, 200, 300, 400, 500], \n",
    "                      criterion = ['gini','entropy','log_loss'],\n",
    "                      max_features = ['sqrt', 'log2', None],\n",
    "                      max_depth = [10, 20, 30, 40, 50, 60, 70, 80, 90, 100, None],\n",
    "                      min_samples_leaf = [1, 2, 4],\n",
    "                      min_samples_split= [2, 5, 10],\n",
    "                      bootstrap = [True],\n",
    "                      oob_score = [True]\n",
    "                \n",
    ")\n",
    "\n",
    "rf_classifier_cv = RandomizedSearchCV(\n",
    "                                          pipe, \n",
    "                                          distributions, \n",
    "                                          scoring = 'accuracy',\n",
    "                                          n_jobs = -1, \n",
    "                                          cv = 3,\n",
    ")\n",
    "\n",
    "# run gridearch\n",
    "grid_rf_classifier_cv = rf_classifier_cv.fit(X_train, y_train)"
   ]
  },
  {
   "cell_type": "code",
   "execution_count": 164,
   "id": "527ca664-28c4-4c7a-9b57-ff7ff134a506",
   "metadata": {},
   "outputs": [
    {
     "data": {
      "text/plain": [
       "{'oob_score': True,\n",
       " 'n_estimators': 100,\n",
       " 'min_samples_split': 10,\n",
       " 'min_samples_leaf': 1,\n",
       " 'max_features': 'log2',\n",
       " 'max_depth': 20,\n",
       " 'criterion': 'entropy',\n",
       " 'bootstrap': True}"
      ]
     },
     "execution_count": 164,
     "metadata": {},
     "output_type": "execute_result"
    }
   ],
   "source": [
    "grid_rf_classifier_cv.best_params_"
   ]
  },
  {
   "cell_type": "code",
   "execution_count": 165,
   "id": "e4e13a0c-a52e-44eb-a5d1-96ded3eeec15",
   "metadata": {},
   "outputs": [],
   "source": [
    "rf_classifier_tuned = RandomForestClassifier(oob_score = True,\n",
    "                                             n_estimators = 100,\n",
    "                                             min_samples_split = 10,\n",
    "                                             min_samples_leaf = 1,\n",
    "                                             max_features = 'log2',\n",
    "                                             max_depth = 20,\n",
    "                                             criterion = 'entropy',\n",
    "                                             bootstrap = True).fit(X_train, y_train)"
   ]
  },
  {
   "cell_type": "markdown",
   "id": "e5756fde-391c-479a-b4fa-f090cccdcd22",
   "metadata": {},
   "source": [
    "With GridSearchCV"
   ]
  },
  {
   "cell_type": "markdown",
   "id": "ea86fe53-3889-4231-abbb-330ee94f0218",
   "metadata": {},
   "source": [
    "## g.2 Making Predictions Using the RFC Model"
   ]
  },
  {
   "cell_type": "code",
   "execution_count": 166,
   "id": "ed9e498a-aafb-46db-97b3-d9f85a73420f",
   "metadata": {},
   "outputs": [
    {
     "data": {
      "text/plain": [
       "array([0, 0, 0, ..., 0, 0, 0])"
      ]
     },
     "execution_count": 166,
     "metadata": {},
     "output_type": "execute_result"
    }
   ],
   "source": [
    "y_pred = rf_classifier.predict(X_test)\n",
    "y_pred"
   ]
  },
  {
   "cell_type": "code",
   "execution_count": 167,
   "id": "9c29eeaf-7aea-4fdc-9a0e-d07c1237de28",
   "metadata": {},
   "outputs": [
    {
     "data": {
      "text/plain": [
       "array([0, 0, 0, ..., 0, 0, 0])"
      ]
     },
     "execution_count": 167,
     "metadata": {},
     "output_type": "execute_result"
    }
   ],
   "source": [
    "y_pred_tuned = rf_classifier_tuned.predict(X_test)\n",
    "y_pred_tuned"
   ]
  },
  {
   "cell_type": "markdown",
   "id": "f1a9fa89-3af6-4da5-8fbd-b4c98bca8ea4",
   "metadata": {},
   "source": [
    "## g.3 RFC Model Evaluation"
   ]
  },
  {
   "cell_type": "code",
   "execution_count": 168,
   "id": "1ac2de58-609d-4e3d-bc65-513c508019c8",
   "metadata": {},
   "outputs": [
    {
     "data": {
      "text/plain": [
       "1.0"
      ]
     },
     "execution_count": 168,
     "metadata": {},
     "output_type": "execute_result"
    }
   ],
   "source": [
    "rf_classifier.score(X_train, y_train)"
   ]
  },
  {
   "cell_type": "code",
   "execution_count": 169,
   "id": "fa5b9bb7-9bfa-4dbd-8c60-1e9b1c11a144",
   "metadata": {},
   "outputs": [
    {
     "data": {
      "text/plain": [
       "0.9973082099596231"
      ]
     },
     "execution_count": 169,
     "metadata": {},
     "output_type": "execute_result"
    }
   ],
   "source": [
    "rf_classifier.score(X_test, y_test)"
   ]
  },
  {
   "cell_type": "code",
   "execution_count": 170,
   "id": "d25f68c6-66dd-46b4-b911-2f9dbb8884f8",
   "metadata": {},
   "outputs": [
    {
     "data": {
      "text/plain": [
       "0.9977558348294434"
      ]
     },
     "execution_count": 170,
     "metadata": {},
     "output_type": "execute_result"
    }
   ],
   "source": [
    "rf_classifier_tuned.score(X_train, y_train)"
   ]
  },
  {
   "cell_type": "code",
   "execution_count": 171,
   "id": "f563e165-c927-4318-90ff-7c1f6df33ab5",
   "metadata": {},
   "outputs": [
    {
     "data": {
      "text/plain": [
       "0.9973082099596231"
      ]
     },
     "execution_count": 171,
     "metadata": {},
     "output_type": "execute_result"
    }
   ],
   "source": [
    "rf_classifier_tuned.score(X_test, y_test)"
   ]
  },
  {
   "cell_type": "markdown",
   "id": "0a604ff5-8b94-4dcf-8cc4-360c7c2d4571",
   "metadata": {},
   "source": [
    "### Confusion Matrix"
   ]
  },
  {
   "cell_type": "markdown",
   "id": "8e635ae0-d1e5-4969-9e62-33a374bf90e7",
   "metadata": {},
   "source": [
    "Confusion Matrix of Predictions made by the initial model"
   ]
  },
  {
   "cell_type": "code",
   "execution_count": 172,
   "id": "4181d7f9-1ed0-4b9a-980d-c3687c8d7eb0",
   "metadata": {},
   "outputs": [
    {
     "data": {
      "text/html": [
       "<div>\n",
       "<style scoped>\n",
       "    .dataframe tbody tr th:only-of-type {\n",
       "        vertical-align: middle;\n",
       "    }\n",
       "\n",
       "    .dataframe tbody tr th {\n",
       "        vertical-align: top;\n",
       "    }\n",
       "\n",
       "    .dataframe thead th {\n",
       "        text-align: right;\n",
       "    }\n",
       "</style>\n",
       "<table border=\"1\" class=\"dataframe\">\n",
       "  <thead>\n",
       "    <tr style=\"text-align: right;\">\n",
       "      <th>Predicted</th>\n",
       "      <th>0</th>\n",
       "      <th>1</th>\n",
       "      <th>All</th>\n",
       "    </tr>\n",
       "    <tr>\n",
       "      <th>True</th>\n",
       "      <th></th>\n",
       "      <th></th>\n",
       "      <th></th>\n",
       "    </tr>\n",
       "  </thead>\n",
       "  <tbody>\n",
       "    <tr>\n",
       "      <th>0</th>\n",
       "      <td>2137</td>\n",
       "      <td>2</td>\n",
       "      <td>2139</td>\n",
       "    </tr>\n",
       "    <tr>\n",
       "      <th>1</th>\n",
       "      <td>4</td>\n",
       "      <td>86</td>\n",
       "      <td>90</td>\n",
       "    </tr>\n",
       "    <tr>\n",
       "      <th>All</th>\n",
       "      <td>2141</td>\n",
       "      <td>88</td>\n",
       "      <td>2229</td>\n",
       "    </tr>\n",
       "  </tbody>\n",
       "</table>\n",
       "</div>"
      ],
      "text/plain": [
       "Predicted     0   1   All\n",
       "True                     \n",
       "0          2137   2  2139\n",
       "1             4  86    90\n",
       "All        2141  88  2229"
      ]
     },
     "execution_count": 172,
     "metadata": {},
     "output_type": "execute_result"
    }
   ],
   "source": [
    "matrix = pd.crosstab(y_test, y_pred, rownames=['True'], colnames=['Predicted'], margins = True)\n",
    "matrix"
   ]
  },
  {
   "cell_type": "code",
   "execution_count": 173,
   "id": "0643a6aa-af4e-4ff5-9928-402bda097b99",
   "metadata": {},
   "outputs": [],
   "source": [
    "TN = matrix[0][0]\n",
    "FP = matrix[0][1]\n",
    "FN = matrix[1][0]\n",
    "TP = matrix[1][1]\n",
    "\n",
    "classification_accuracy = (TP + TN) / float(TP + TN + FP + FN)\n",
    "classification_error = (FP + FN) / float(TP + TN + FP + FN)\n",
    "precision = TP / float(TP + FP)\n",
    "recall = TP / float(TP + FN)\n",
    "true_positive_rate = TP / float(TP + FN)\n",
    "false_positive_rate = FP / float(FP + TN)\n",
    "specificity = TN / (TN + FP)\n",
    "\n",
    "\n",
    "#f1-score\n",
    "#f1-score is the weighted harmonic mean of precision and recall.\n",
    "#The best possible f1-score would be 1.0 and the worst would be 0.0. \n",
    "#f1-score is the harmonic mean of precision and recall. \n",
    "#So, f1-score is always lower than accuracy measures as they embed precision and recall into their computation.\n",
    "# The weighted average of f1-score should be used to compare classifier models, not global accuracy."
   ]
  },
  {
   "cell_type": "code",
   "execution_count": 174,
   "id": "26c62b20-a342-41c7-87d1-4a4a5a9fb4c2",
   "metadata": {},
   "outputs": [
    {
     "data": {
      "text/plain": [
       "0.9973082099596231"
      ]
     },
     "execution_count": 174,
     "metadata": {},
     "output_type": "execute_result"
    }
   ],
   "source": [
    "classification_accuracy"
   ]
  },
  {
   "cell_type": "code",
   "execution_count": 175,
   "id": "b95eea81-d684-42de-bd99-da58cf6c5ce5",
   "metadata": {},
   "outputs": [
    {
     "data": {
      "text/plain": [
       "0.0026917900403768506"
      ]
     },
     "execution_count": 175,
     "metadata": {},
     "output_type": "execute_result"
    }
   ],
   "source": [
    "classification_error"
   ]
  },
  {
   "cell_type": "code",
   "execution_count": 176,
   "id": "5ed01f47-0d8a-4779-a207-3120b7060cdb",
   "metadata": {},
   "outputs": [
    {
     "data": {
      "text/plain": [
       "0.9555555555555556"
      ]
     },
     "execution_count": 176,
     "metadata": {},
     "output_type": "execute_result"
    }
   ],
   "source": [
    "precision"
   ]
  },
  {
   "cell_type": "code",
   "execution_count": 177,
   "id": "fdd7d04c-31da-4f2c-ad51-e2a8e71b8cc5",
   "metadata": {},
   "outputs": [
    {
     "data": {
      "text/plain": [
       "0.9772727272727273"
      ]
     },
     "execution_count": 177,
     "metadata": {},
     "output_type": "execute_result"
    }
   ],
   "source": [
    "recall"
   ]
  },
  {
   "cell_type": "code",
   "execution_count": 178,
   "id": "ea93bddf-41dc-4a5d-bf8f-38c2f7bca5c7",
   "metadata": {},
   "outputs": [
    {
     "data": {
      "text/plain": [
       "0.9772727272727273"
      ]
     },
     "execution_count": 178,
     "metadata": {},
     "output_type": "execute_result"
    }
   ],
   "source": [
    "true_positive_rate"
   ]
  },
  {
   "cell_type": "code",
   "execution_count": 179,
   "id": "fb104871-4bb4-4e1e-b7ca-c8516475c5ff",
   "metadata": {},
   "outputs": [
    {
     "data": {
      "text/plain": [
       "0.0018682858477347033"
      ]
     },
     "execution_count": 179,
     "metadata": {},
     "output_type": "execute_result"
    }
   ],
   "source": [
    "false_positive_rate"
   ]
  },
  {
   "cell_type": "code",
   "execution_count": 180,
   "id": "ad2e8794-2ecd-4d4d-be76-339a08cd67e7",
   "metadata": {},
   "outputs": [
    {
     "data": {
      "text/plain": [
       "0.9981317141522653"
      ]
     },
     "execution_count": 180,
     "metadata": {},
     "output_type": "execute_result"
    }
   ],
   "source": [
    "specificity"
   ]
  },
  {
   "cell_type": "markdown",
   "id": "3a846bfa-ec24-4442-833a-56f8a9df6471",
   "metadata": {},
   "source": [
    "Confusion Matrix of Predictions made by the fine tuned model"
   ]
  },
  {
   "cell_type": "code",
   "execution_count": 181,
   "id": "47243343-a4f5-455a-bf8f-04d2626f2d26",
   "metadata": {},
   "outputs": [
    {
     "data": {
      "text/html": [
       "<div>\n",
       "<style scoped>\n",
       "    .dataframe tbody tr th:only-of-type {\n",
       "        vertical-align: middle;\n",
       "    }\n",
       "\n",
       "    .dataframe tbody tr th {\n",
       "        vertical-align: top;\n",
       "    }\n",
       "\n",
       "    .dataframe thead th {\n",
       "        text-align: right;\n",
       "    }\n",
       "</style>\n",
       "<table border=\"1\" class=\"dataframe\">\n",
       "  <thead>\n",
       "    <tr style=\"text-align: right;\">\n",
       "      <th>Predicted</th>\n",
       "      <th>0</th>\n",
       "      <th>1</th>\n",
       "      <th>All</th>\n",
       "    </tr>\n",
       "    <tr>\n",
       "      <th>True</th>\n",
       "      <th></th>\n",
       "      <th></th>\n",
       "      <th></th>\n",
       "    </tr>\n",
       "  </thead>\n",
       "  <tbody>\n",
       "    <tr>\n",
       "      <th>0</th>\n",
       "      <td>2137</td>\n",
       "      <td>2</td>\n",
       "      <td>2139</td>\n",
       "    </tr>\n",
       "    <tr>\n",
       "      <th>1</th>\n",
       "      <td>4</td>\n",
       "      <td>86</td>\n",
       "      <td>90</td>\n",
       "    </tr>\n",
       "    <tr>\n",
       "      <th>All</th>\n",
       "      <td>2141</td>\n",
       "      <td>88</td>\n",
       "      <td>2229</td>\n",
       "    </tr>\n",
       "  </tbody>\n",
       "</table>\n",
       "</div>"
      ],
      "text/plain": [
       "Predicted     0   1   All\n",
       "True                     \n",
       "0          2137   2  2139\n",
       "1             4  86    90\n",
       "All        2141  88  2229"
      ]
     },
     "execution_count": 181,
     "metadata": {},
     "output_type": "execute_result"
    }
   ],
   "source": [
    "matrix = pd.crosstab(y_test, y_pred_tuned, rownames=['True'], colnames=['Predicted'], margins = True)\n",
    "matrix"
   ]
  },
  {
   "cell_type": "code",
   "execution_count": 182,
   "id": "dde94a0c-3d52-45dd-9a85-8211f1dae4c9",
   "metadata": {},
   "outputs": [],
   "source": [
    "TN = matrix[0][0]\n",
    "FP = matrix[0][1]\n",
    "FN = matrix[1][0]\n",
    "TP = matrix[1][1]\n",
    "\n",
    "classification_accuracy = (TP + TN) / float(TP + TN + FP + FN)\n",
    "classification_error = (FP + FN) / float(TP + TN + FP + FN)\n",
    "precision = TP / float(TP + FP)\n",
    "recall = TP / float(TP + FN)\n",
    "true_positive_rate = TP / float(TP + FN)\n",
    "false_positive_rate = FP / float(FP + TN)\n",
    "specificity = TN / (TN + FP)\n",
    "\n",
    "\n",
    "#f1-score\n",
    "#f1-score is the weighted harmonic mean of precision and recall.\n",
    "#The best possible f1-score would be 1.0 and the worst would be 0.0. \n",
    "#f1-score is the harmonic mean of precision and recall. \n",
    "#So, f1-score is always lower than accuracy measures as they embed precision and recall into their computation.\n",
    "# The weighted average of f1-score should be used to compare classifier models, not global accuracy."
   ]
  },
  {
   "cell_type": "code",
   "execution_count": 183,
   "id": "d19528e1-c7a0-4068-aa3b-baae6f1644e7",
   "metadata": {},
   "outputs": [
    {
     "data": {
      "text/plain": [
       "0.9973082099596231"
      ]
     },
     "execution_count": 183,
     "metadata": {},
     "output_type": "execute_result"
    }
   ],
   "source": [
    "classification_accuracy"
   ]
  },
  {
   "cell_type": "code",
   "execution_count": 184,
   "id": "26fb9642-c33b-4b5c-89a4-64a29842d014",
   "metadata": {},
   "outputs": [
    {
     "data": {
      "text/plain": [
       "0.0026917900403768506"
      ]
     },
     "execution_count": 184,
     "metadata": {},
     "output_type": "execute_result"
    }
   ],
   "source": [
    "classification_error"
   ]
  },
  {
   "cell_type": "code",
   "execution_count": 185,
   "id": "839df78a-7918-4d6d-9233-39d619d05cda",
   "metadata": {},
   "outputs": [
    {
     "data": {
      "text/plain": [
       "0.9555555555555556"
      ]
     },
     "execution_count": 185,
     "metadata": {},
     "output_type": "execute_result"
    }
   ],
   "source": [
    "precision"
   ]
  },
  {
   "cell_type": "code",
   "execution_count": 186,
   "id": "68d3c415-0545-49d1-9c36-4728f32702a8",
   "metadata": {},
   "outputs": [
    {
     "data": {
      "text/plain": [
       "0.9772727272727273"
      ]
     },
     "execution_count": 186,
     "metadata": {},
     "output_type": "execute_result"
    }
   ],
   "source": [
    "recall"
   ]
  },
  {
   "cell_type": "code",
   "execution_count": 187,
   "id": "3436ef20-960e-42d8-b79c-45c8eb78b447",
   "metadata": {},
   "outputs": [
    {
     "data": {
      "text/plain": [
       "0.9772727272727273"
      ]
     },
     "execution_count": 187,
     "metadata": {},
     "output_type": "execute_result"
    }
   ],
   "source": [
    "true_positive_rate"
   ]
  },
  {
   "cell_type": "code",
   "execution_count": 188,
   "id": "7bab8b1a-1b75-429c-b8ab-b2feb14fd837",
   "metadata": {},
   "outputs": [
    {
     "data": {
      "text/plain": [
       "0.0018682858477347033"
      ]
     },
     "execution_count": 188,
     "metadata": {},
     "output_type": "execute_result"
    }
   ],
   "source": [
    "false_positive_rate"
   ]
  },
  {
   "cell_type": "code",
   "execution_count": 189,
   "id": "b1c399fc-dc24-4266-befe-438ce4304d6a",
   "metadata": {},
   "outputs": [
    {
     "data": {
      "text/plain": [
       "0.9981317141522653"
      ]
     },
     "execution_count": 189,
     "metadata": {},
     "output_type": "execute_result"
    }
   ],
   "source": [
    "specificity"
   ]
  },
  {
   "cell_type": "markdown",
   "id": "756ecde6-2443-4630-a041-4c52ec21c85e",
   "metadata": {
    "tags": []
   },
   "source": [
    "# h. Support Vector Machine Classifier (SVC)"
   ]
  },
  {
   "cell_type": "markdown",
   "id": "93126662-8913-4c10-8e12-1b877009b561",
   "metadata": {},
   "source": [
    "## h.1 Creating & Fitting the SVC Model"
   ]
  },
  {
   "cell_type": "code",
   "execution_count": 190,
   "id": "35585b5a",
   "metadata": {},
   "outputs": [],
   "source": [
    "svm_classfier = SVC().fit(X_train, y_train)"
   ]
  },
  {
   "cell_type": "code",
   "execution_count": 191,
   "id": "6a816e40-a541-42bc-bdbd-72a9658e2111",
   "metadata": {},
   "outputs": [],
   "source": [
    "pipe = SVC()\n",
    "\n",
    "distributions = dict(\n",
    "                   kernel = ['rbf', 'poly', 'sigmoid', 'linear'], \n",
    "                   C = [0.1, 1, 100 ,1000],\n",
    "                   degree = [1, 2, 3, 4, 5, 6],\n",
    "                   gamma = ['scale', 'auto'],              \n",
    ")\n",
    "\n",
    "svm_classfier_cv = RandomizedSearchCV(\n",
    "                                      pipe, \n",
    "                                      distributions, \n",
    "                                      scoring = 'accuracy',\n",
    "                                      n_jobs = -1, \n",
    "                                      cv = 3,\n",
    ")\n",
    "\n",
    "# run gridearch\n",
    "grid_svm_classfier_cv = svm_classfier_cv.fit(X_train, y_train)"
   ]
  },
  {
   "cell_type": "code",
   "execution_count": 192,
   "id": "bf1b2434-b9b5-4067-8759-0df33f69e922",
   "metadata": {},
   "outputs": [
    {
     "data": {
      "text/plain": [
       "{'kernel': 'rbf', 'gamma': 'scale', 'degree': 1, 'C': 1}"
      ]
     },
     "execution_count": 192,
     "metadata": {},
     "output_type": "execute_result"
    }
   ],
   "source": [
    "grid_svm_classfier_cv.best_params_"
   ]
  },
  {
   "cell_type": "code",
   "execution_count": 193,
   "id": "a25660ec-201c-4b4b-b27c-d1afa6878856",
   "metadata": {},
   "outputs": [],
   "source": [
    "svm_classfier_tuned = SVC(kernel = 'rbf', gamma = 'scale', degree = 1, C = 1).fit(X_train, y_train)"
   ]
  },
  {
   "cell_type": "markdown",
   "id": "1b4545d8-8213-4dd9-8666-3f1e54127935",
   "metadata": {},
   "source": [
    "Second hyperparameter tuning with probability"
   ]
  },
  {
   "cell_type": "code",
   "execution_count": 194,
   "id": "5e8962e2-9bb9-4cd6-9abb-e3a85eac4d24",
   "metadata": {},
   "outputs": [],
   "source": [
    "pipe = SVC()\n",
    "\n",
    "distributions = dict(\n",
    "                   kernel = ['rbf', 'poly', 'sigmoid', 'linear'], \n",
    "                   C = [0.1, 1, 100 ,1000],\n",
    "                   degree = [1, 2, 3, 4, 5, 6],\n",
    "                   gamma = ['scale', 'auto'],   \n",
    "                   probability = [True]\n",
    ")\n",
    "\n",
    "svm_classfier_cv = RandomizedSearchCV(\n",
    "                                      pipe, \n",
    "                                      distributions, \n",
    "                                      scoring = 'accuracy',\n",
    "                                      n_jobs = -1, \n",
    "                                      cv = 3,\n",
    ")\n",
    "\n",
    "# run gridearch\n",
    "grid_svm_classfier_cv_proba = svm_classfier_cv.fit(X_train, y_train)"
   ]
  },
  {
   "cell_type": "code",
   "execution_count": 195,
   "id": "d1fb5a83-2434-4494-bacd-d752f1e4da12",
   "metadata": {},
   "outputs": [
    {
     "data": {
      "text/plain": [
       "{'probability': True,\n",
       " 'kernel': 'poly',\n",
       " 'gamma': 'scale',\n",
       " 'degree': 2,\n",
       " 'C': 1000}"
      ]
     },
     "execution_count": 195,
     "metadata": {},
     "output_type": "execute_result"
    }
   ],
   "source": [
    "grid_svm_classfier_cv_proba.best_params_"
   ]
  },
  {
   "cell_type": "code",
   "execution_count": 196,
   "id": "eaced55d-5b7f-4f87-a630-eebba8161643",
   "metadata": {},
   "outputs": [],
   "source": [
    "svm_classfier_tuned_proba = SVC(kernel = 'poly', gamma = 'scale', degree = 2, C = 1000, probability = True).fit(X_train, y_train)"
   ]
  },
  {
   "cell_type": "markdown",
   "id": "69d993fd-7e70-43e8-b68b-0d7a2a732a6b",
   "metadata": {},
   "source": [
    "## h.2 Making Predictions Using the SVC Model"
   ]
  },
  {
   "cell_type": "code",
   "execution_count": 197,
   "id": "c2b2e704-4d45-4327-9ecf-3a64cbdedee7",
   "metadata": {},
   "outputs": [
    {
     "data": {
      "text/plain": [
       "array([0, 0, 0, ..., 0, 0, 0])"
      ]
     },
     "execution_count": 197,
     "metadata": {},
     "output_type": "execute_result"
    }
   ],
   "source": [
    "y_pred = svm_classfier.predict(X_test)\n",
    "y_pred"
   ]
  },
  {
   "cell_type": "code",
   "execution_count": 198,
   "id": "acc20320-f165-4a5c-9947-679ba90bc02c",
   "metadata": {},
   "outputs": [
    {
     "data": {
      "text/plain": [
       "array([0, 0, 0, ..., 0, 0, 0])"
      ]
     },
     "execution_count": 198,
     "metadata": {},
     "output_type": "execute_result"
    }
   ],
   "source": [
    "y_pred_tuned = svm_classfier_tuned.predict(X_test)\n",
    "y_pred_tuned"
   ]
  },
  {
   "cell_type": "code",
   "execution_count": 199,
   "id": "3f237482-7dd9-472f-8266-48fb092e2a47",
   "metadata": {},
   "outputs": [
    {
     "data": {
      "text/plain": [
       "array([0, 0, 0, ..., 0, 0, 0])"
      ]
     },
     "execution_count": 199,
     "metadata": {},
     "output_type": "execute_result"
    }
   ],
   "source": [
    "y_pred_tuned_prob = svm_classfier_tuned_proba.predict(X_test)\n",
    "y_pred_tuned_prob"
   ]
  },
  {
   "cell_type": "code",
   "execution_count": 200,
   "id": "d6f6a2f2-1095-4e08-ada0-6c22883b6128",
   "metadata": {},
   "outputs": [
    {
     "data": {
      "text/plain": [
       "array([[9.65102388e-01, 3.48976116e-02],\n",
       "       [9.99752607e-01, 2.47393369e-04],\n",
       "       [9.87861382e-01, 1.21386175e-02],\n",
       "       ...,\n",
       "       [9.97526884e-01, 2.47311627e-03],\n",
       "       [9.99507811e-01, 4.92188661e-04],\n",
       "       [9.99982418e-01, 1.75824366e-05]])"
      ]
     },
     "execution_count": 200,
     "metadata": {},
     "output_type": "execute_result"
    }
   ],
   "source": [
    "y_proba_tuned = svm_classfier_tuned_proba.predict_proba(X_test) #predictions of the probability  #Using the initial model\n",
    "y_proba_tuned"
   ]
  },
  {
   "cell_type": "code",
   "execution_count": 201,
   "id": "91c22b55-4f12-42d4-acfb-c8a5f92f6303",
   "metadata": {},
   "outputs": [
    {
     "data": {
      "text/plain": [
       "array([0, 0, 0, ..., 0, 0, 0])"
      ]
     },
     "execution_count": 201,
     "metadata": {},
     "output_type": "execute_result"
    }
   ],
   "source": [
    "y_proba_pred_tuned = (svm_classfier_tuned_proba.predict_proba(X_test)[:,1] >= 0.05).astype(int) #predictions of the probability tuned with 5% threshold  #Using the initial model\n",
    "y_proba_pred_tuned "
   ]
  },
  {
   "cell_type": "markdown",
   "id": "37d90219-d5ef-48a1-9044-3e32783e2f11",
   "metadata": {},
   "source": [
    "## h.3 SVC Model Evaluation"
   ]
  },
  {
   "cell_type": "code",
   "execution_count": 202,
   "id": "7cd5239f-db5d-4c92-8fe7-1b3bcfef2266",
   "metadata": {},
   "outputs": [
    {
     "data": {
      "text/plain": [
       "0.9937163375224417"
      ]
     },
     "execution_count": 202,
     "metadata": {},
     "output_type": "execute_result"
    }
   ],
   "source": [
    "svm_classfier.score(X_train, y_train)"
   ]
  },
  {
   "cell_type": "code",
   "execution_count": 203,
   "id": "cc7d96f4-3fe2-4fdf-83b8-b5fa60bae4bc",
   "metadata": {},
   "outputs": [
    {
     "data": {
      "text/plain": [
       "0.990578734858681"
      ]
     },
     "execution_count": 203,
     "metadata": {},
     "output_type": "execute_result"
    }
   ],
   "source": [
    "svm_classfier.score(X_test, y_test)"
   ]
  },
  {
   "cell_type": "code",
   "execution_count": 204,
   "id": "54071903-5eed-442f-bfa7-77ba1ac9e218",
   "metadata": {},
   "outputs": [
    {
     "data": {
      "text/plain": [
       "0.9937163375224417"
      ]
     },
     "execution_count": 204,
     "metadata": {},
     "output_type": "execute_result"
    }
   ],
   "source": [
    "svm_classfier_tuned.score(X_train, y_train)"
   ]
  },
  {
   "cell_type": "code",
   "execution_count": 205,
   "id": "5035f300-bf99-4ff5-aca8-ce77542ab4f0",
   "metadata": {},
   "outputs": [
    {
     "data": {
      "text/plain": [
       "0.990578734858681"
      ]
     },
     "execution_count": 205,
     "metadata": {},
     "output_type": "execute_result"
    }
   ],
   "source": [
    "svm_classfier_tuned.score(X_test, y_test)"
   ]
  },
  {
   "cell_type": "code",
   "execution_count": 206,
   "id": "2b0a5656-da67-4b72-8a98-15aec3ac23c6",
   "metadata": {},
   "outputs": [
    {
     "data": {
      "text/plain": [
       "0.990237881508079"
      ]
     },
     "execution_count": 206,
     "metadata": {},
     "output_type": "execute_result"
    }
   ],
   "source": [
    "svm_classfier_tuned_proba.score(X_train, y_train)"
   ]
  },
  {
   "cell_type": "code",
   "execution_count": 207,
   "id": "f700a839-e34b-4694-b070-e862b65485a1",
   "metadata": {},
   "outputs": [
    {
     "data": {
      "text/plain": [
       "0.9856437864513234"
      ]
     },
     "execution_count": 207,
     "metadata": {},
     "output_type": "execute_result"
    }
   ],
   "source": [
    "svm_classfier_tuned_proba.score(X_test, y_test)"
   ]
  },
  {
   "cell_type": "markdown",
   "id": "2bffd5f8-4bd3-4377-99b2-c2327eec0d72",
   "metadata": {},
   "source": [
    "### Confusion Matrix"
   ]
  },
  {
   "cell_type": "markdown",
   "id": "a9365f08-8350-4957-bbff-a53fe1015b6d",
   "metadata": {},
   "source": [
    "Confusion Matrix of Predictions made by the initial model"
   ]
  },
  {
   "cell_type": "code",
   "execution_count": 208,
   "id": "71176894-f603-4a9f-a415-e6b6b080947f",
   "metadata": {},
   "outputs": [
    {
     "data": {
      "text/html": [
       "<div>\n",
       "<style scoped>\n",
       "    .dataframe tbody tr th:only-of-type {\n",
       "        vertical-align: middle;\n",
       "    }\n",
       "\n",
       "    .dataframe tbody tr th {\n",
       "        vertical-align: top;\n",
       "    }\n",
       "\n",
       "    .dataframe thead th {\n",
       "        text-align: right;\n",
       "    }\n",
       "</style>\n",
       "<table border=\"1\" class=\"dataframe\">\n",
       "  <thead>\n",
       "    <tr style=\"text-align: right;\">\n",
       "      <th>Predicted</th>\n",
       "      <th>0</th>\n",
       "      <th>1</th>\n",
       "      <th>All</th>\n",
       "    </tr>\n",
       "    <tr>\n",
       "      <th>True</th>\n",
       "      <th></th>\n",
       "      <th></th>\n",
       "      <th></th>\n",
       "    </tr>\n",
       "  </thead>\n",
       "  <tbody>\n",
       "    <tr>\n",
       "      <th>0</th>\n",
       "      <td>2136</td>\n",
       "      <td>3</td>\n",
       "      <td>2139</td>\n",
       "    </tr>\n",
       "    <tr>\n",
       "      <th>1</th>\n",
       "      <td>18</td>\n",
       "      <td>72</td>\n",
       "      <td>90</td>\n",
       "    </tr>\n",
       "    <tr>\n",
       "      <th>All</th>\n",
       "      <td>2154</td>\n",
       "      <td>75</td>\n",
       "      <td>2229</td>\n",
       "    </tr>\n",
       "  </tbody>\n",
       "</table>\n",
       "</div>"
      ],
      "text/plain": [
       "Predicted     0   1   All\n",
       "True                     \n",
       "0          2136   3  2139\n",
       "1            18  72    90\n",
       "All        2154  75  2229"
      ]
     },
     "execution_count": 208,
     "metadata": {},
     "output_type": "execute_result"
    }
   ],
   "source": [
    "matrix = pd.crosstab(y_test, y_pred, rownames=['True'], colnames=['Predicted'], margins = True)\n",
    "matrix"
   ]
  },
  {
   "cell_type": "code",
   "execution_count": 209,
   "id": "f48478c4-b9ef-4c1a-aca8-870d72ca1166",
   "metadata": {},
   "outputs": [],
   "source": [
    "TN = matrix[0][0]\n",
    "FP = matrix[0][1]\n",
    "FN = matrix[1][0]\n",
    "TP = matrix[1][1]\n",
    "\n",
    "classification_accuracy = (TP + TN) / float(TP + TN + FP + FN)\n",
    "classification_error = (FP + FN) / float(TP + TN + FP + FN)\n",
    "precision = TP / float(TP + FP)\n",
    "recall = TP / float(TP + FN)\n",
    "true_positive_rate = TP / float(TP + FN)\n",
    "false_positive_rate = FP / float(FP + TN)\n",
    "specificity = TN / (TN + FP)\n",
    "\n",
    "\n",
    "#f1-score\n",
    "#f1-score is the weighted harmonic mean of precision and recall.\n",
    "#The best possible f1-score would be 1.0 and the worst would be 0.0. \n",
    "#f1-score is the harmonic mean of precision and recall. \n",
    "#So, f1-score is always lower than accuracy measures as they embed precision and recall into their computation.\n",
    "# The weighted average of f1-score should be used to compare classifier models, not global accuracy."
   ]
  },
  {
   "cell_type": "code",
   "execution_count": 210,
   "id": "70de59d6-e4e9-40e3-a3ae-5f13665d855c",
   "metadata": {},
   "outputs": [
    {
     "data": {
      "text/plain": [
       "0.990578734858681"
      ]
     },
     "execution_count": 210,
     "metadata": {},
     "output_type": "execute_result"
    }
   ],
   "source": [
    "classification_accuracy"
   ]
  },
  {
   "cell_type": "code",
   "execution_count": 211,
   "id": "101e0614-6e32-4b38-8809-590ced9985f2",
   "metadata": {},
   "outputs": [
    {
     "data": {
      "text/plain": [
       "0.009421265141318977"
      ]
     },
     "execution_count": 211,
     "metadata": {},
     "output_type": "execute_result"
    }
   ],
   "source": [
    "classification_error"
   ]
  },
  {
   "cell_type": "code",
   "execution_count": 212,
   "id": "e18c18a8-1b05-4bdb-aca3-abe718861fee",
   "metadata": {},
   "outputs": [
    {
     "data": {
      "text/plain": [
       "0.8"
      ]
     },
     "execution_count": 212,
     "metadata": {},
     "output_type": "execute_result"
    }
   ],
   "source": [
    "precision"
   ]
  },
  {
   "cell_type": "code",
   "execution_count": 213,
   "id": "0f626abf-8e18-4471-94c3-749d427a3ef0",
   "metadata": {},
   "outputs": [
    {
     "data": {
      "text/plain": [
       "0.96"
      ]
     },
     "execution_count": 213,
     "metadata": {},
     "output_type": "execute_result"
    }
   ],
   "source": [
    "recall"
   ]
  },
  {
   "cell_type": "code",
   "execution_count": 214,
   "id": "c3652ce9-a809-46ca-8e41-0dc1d4227420",
   "metadata": {},
   "outputs": [
    {
     "data": {
      "text/plain": [
       "0.96"
      ]
     },
     "execution_count": 214,
     "metadata": {},
     "output_type": "execute_result"
    }
   ],
   "source": [
    "true_positive_rate"
   ]
  },
  {
   "cell_type": "code",
   "execution_count": 215,
   "id": "095f2519-084a-4a4b-9bc0-bdc186679fab",
   "metadata": {},
   "outputs": [
    {
     "data": {
      "text/plain": [
       "0.008356545961002786"
      ]
     },
     "execution_count": 215,
     "metadata": {},
     "output_type": "execute_result"
    }
   ],
   "source": [
    "false_positive_rate"
   ]
  },
  {
   "cell_type": "code",
   "execution_count": 216,
   "id": "69f05371-2b61-4f84-b6fd-feacb574741b",
   "metadata": {},
   "outputs": [
    {
     "data": {
      "text/plain": [
       "0.9916434540389972"
      ]
     },
     "execution_count": 216,
     "metadata": {},
     "output_type": "execute_result"
    }
   ],
   "source": [
    "specificity"
   ]
  },
  {
   "cell_type": "markdown",
   "id": "c0b5de5b-486e-49f5-b16f-ddfa132862ec",
   "metadata": {},
   "source": [
    "Confusion Matrix of Predictions made by the fine tuned model"
   ]
  },
  {
   "cell_type": "code",
   "execution_count": 217,
   "id": "f85f7d4b-82f2-4a1a-bc82-66a83d0288d6",
   "metadata": {},
   "outputs": [
    {
     "data": {
      "text/html": [
       "<div>\n",
       "<style scoped>\n",
       "    .dataframe tbody tr th:only-of-type {\n",
       "        vertical-align: middle;\n",
       "    }\n",
       "\n",
       "    .dataframe tbody tr th {\n",
       "        vertical-align: top;\n",
       "    }\n",
       "\n",
       "    .dataframe thead th {\n",
       "        text-align: right;\n",
       "    }\n",
       "</style>\n",
       "<table border=\"1\" class=\"dataframe\">\n",
       "  <thead>\n",
       "    <tr style=\"text-align: right;\">\n",
       "      <th>Predicted</th>\n",
       "      <th>0</th>\n",
       "      <th>1</th>\n",
       "      <th>All</th>\n",
       "    </tr>\n",
       "    <tr>\n",
       "      <th>True</th>\n",
       "      <th></th>\n",
       "      <th></th>\n",
       "      <th></th>\n",
       "    </tr>\n",
       "  </thead>\n",
       "  <tbody>\n",
       "    <tr>\n",
       "      <th>0</th>\n",
       "      <td>2136</td>\n",
       "      <td>3</td>\n",
       "      <td>2139</td>\n",
       "    </tr>\n",
       "    <tr>\n",
       "      <th>1</th>\n",
       "      <td>18</td>\n",
       "      <td>72</td>\n",
       "      <td>90</td>\n",
       "    </tr>\n",
       "    <tr>\n",
       "      <th>All</th>\n",
       "      <td>2154</td>\n",
       "      <td>75</td>\n",
       "      <td>2229</td>\n",
       "    </tr>\n",
       "  </tbody>\n",
       "</table>\n",
       "</div>"
      ],
      "text/plain": [
       "Predicted     0   1   All\n",
       "True                     \n",
       "0          2136   3  2139\n",
       "1            18  72    90\n",
       "All        2154  75  2229"
      ]
     },
     "execution_count": 217,
     "metadata": {},
     "output_type": "execute_result"
    }
   ],
   "source": [
    "matrix = pd.crosstab(y_test, y_pred_tuned, rownames=['True'], colnames=['Predicted'], margins = True)\n",
    "matrix"
   ]
  },
  {
   "cell_type": "code",
   "execution_count": 218,
   "id": "ec20cba7-3d4b-41e4-a424-3501c95792f0",
   "metadata": {},
   "outputs": [],
   "source": [
    "TN = matrix[0][0]\n",
    "FP = matrix[0][1]\n",
    "FN = matrix[1][0]\n",
    "TP = matrix[1][1]\n",
    "\n",
    "classification_accuracy = (TP + TN) / float(TP + TN + FP + FN)\n",
    "classification_error = (FP + FN) / float(TP + TN + FP + FN)\n",
    "precision = TP / float(TP + FP)\n",
    "recall = TP / float(TP + FN)\n",
    "true_positive_rate = TP / float(TP + FN)\n",
    "false_positive_rate = FP / float(FP + TN)\n",
    "specificity = TN / (TN + FP)\n",
    "\n",
    "\n",
    "#f1-score\n",
    "#f1-score is the weighted harmonic mean of precision and recall.\n",
    "#The best possible f1-score would be 1.0 and the worst would be 0.0. \n",
    "#f1-score is the harmonic mean of precision and recall. \n",
    "#So, f1-score is always lower than accuracy measures as they embed precision and recall into their computation.\n",
    "# The weighted average of f1-score should be used to compare classifier models, not global accuracy."
   ]
  },
  {
   "cell_type": "code",
   "execution_count": 219,
   "id": "a4490487-7de7-4c6b-854b-e32d30c7efa7",
   "metadata": {},
   "outputs": [
    {
     "data": {
      "text/plain": [
       "0.990578734858681"
      ]
     },
     "execution_count": 219,
     "metadata": {},
     "output_type": "execute_result"
    }
   ],
   "source": [
    "classification_accuracy"
   ]
  },
  {
   "cell_type": "code",
   "execution_count": 220,
   "id": "2dcde544-376c-45ae-8314-4f8c3a4bf42f",
   "metadata": {},
   "outputs": [
    {
     "data": {
      "text/plain": [
       "0.009421265141318977"
      ]
     },
     "execution_count": 220,
     "metadata": {},
     "output_type": "execute_result"
    }
   ],
   "source": [
    "classification_error"
   ]
  },
  {
   "cell_type": "code",
   "execution_count": 221,
   "id": "96ace0a6-4d66-46ee-ac5a-5e2ae67cfe25",
   "metadata": {},
   "outputs": [
    {
     "data": {
      "text/plain": [
       "0.8"
      ]
     },
     "execution_count": 221,
     "metadata": {},
     "output_type": "execute_result"
    }
   ],
   "source": [
    "precision"
   ]
  },
  {
   "cell_type": "code",
   "execution_count": 222,
   "id": "6a9096a7-0c39-4055-ba20-108bd7e93c37",
   "metadata": {},
   "outputs": [
    {
     "data": {
      "text/plain": [
       "0.96"
      ]
     },
     "execution_count": 222,
     "metadata": {},
     "output_type": "execute_result"
    }
   ],
   "source": [
    "recall"
   ]
  },
  {
   "cell_type": "code",
   "execution_count": 223,
   "id": "8d7c3866-a5e0-4a8d-b76c-768517d1cdf6",
   "metadata": {},
   "outputs": [
    {
     "data": {
      "text/plain": [
       "0.96"
      ]
     },
     "execution_count": 223,
     "metadata": {},
     "output_type": "execute_result"
    }
   ],
   "source": [
    "true_positive_rate"
   ]
  },
  {
   "cell_type": "code",
   "execution_count": 224,
   "id": "e37aeb65-c5ca-44bf-85d3-450119d0a7c2",
   "metadata": {},
   "outputs": [
    {
     "data": {
      "text/plain": [
       "0.008356545961002786"
      ]
     },
     "execution_count": 224,
     "metadata": {},
     "output_type": "execute_result"
    }
   ],
   "source": [
    "false_positive_rate"
   ]
  },
  {
   "cell_type": "code",
   "execution_count": 225,
   "id": "2da40c09-e728-4c0c-8cd0-90099a3165fe",
   "metadata": {},
   "outputs": [
    {
     "data": {
      "text/plain": [
       "0.9916434540389972"
      ]
     },
     "execution_count": 225,
     "metadata": {},
     "output_type": "execute_result"
    }
   ],
   "source": [
    "specificity"
   ]
  },
  {
   "cell_type": "markdown",
   "id": "d8c8cd3f-4fe0-4d36-be94-2c35c5a71f91",
   "metadata": {},
   "source": [
    "Confusion Matrix of Predictions made by the second fine tuned model that also gives probability"
   ]
  },
  {
   "cell_type": "code",
   "execution_count": 227,
   "id": "8e43fd08-5729-4050-aeed-c91d833c379c",
   "metadata": {},
   "outputs": [
    {
     "data": {
      "text/html": [
       "<div>\n",
       "<style scoped>\n",
       "    .dataframe tbody tr th:only-of-type {\n",
       "        vertical-align: middle;\n",
       "    }\n",
       "\n",
       "    .dataframe tbody tr th {\n",
       "        vertical-align: top;\n",
       "    }\n",
       "\n",
       "    .dataframe thead th {\n",
       "        text-align: right;\n",
       "    }\n",
       "</style>\n",
       "<table border=\"1\" class=\"dataframe\">\n",
       "  <thead>\n",
       "    <tr style=\"text-align: right;\">\n",
       "      <th>Predicted</th>\n",
       "      <th>0</th>\n",
       "      <th>1</th>\n",
       "      <th>All</th>\n",
       "    </tr>\n",
       "    <tr>\n",
       "      <th>True</th>\n",
       "      <th></th>\n",
       "      <th></th>\n",
       "      <th></th>\n",
       "    </tr>\n",
       "  </thead>\n",
       "  <tbody>\n",
       "    <tr>\n",
       "      <th>0</th>\n",
       "      <td>2116</td>\n",
       "      <td>23</td>\n",
       "      <td>2139</td>\n",
       "    </tr>\n",
       "    <tr>\n",
       "      <th>1</th>\n",
       "      <td>12</td>\n",
       "      <td>78</td>\n",
       "      <td>90</td>\n",
       "    </tr>\n",
       "    <tr>\n",
       "      <th>All</th>\n",
       "      <td>2128</td>\n",
       "      <td>101</td>\n",
       "      <td>2229</td>\n",
       "    </tr>\n",
       "  </tbody>\n",
       "</table>\n",
       "</div>"
      ],
      "text/plain": [
       "Predicted     0    1   All\n",
       "True                      \n",
       "0          2116   23  2139\n",
       "1            12   78    90\n",
       "All        2128  101  2229"
      ]
     },
     "execution_count": 227,
     "metadata": {},
     "output_type": "execute_result"
    }
   ],
   "source": [
    "matrix = pd.crosstab(y_test, y_proba_pred_tuned, rownames=['True'], colnames=['Predicted'], margins = True)\n",
    "matrix"
   ]
  },
  {
   "cell_type": "code",
   "execution_count": 228,
   "id": "a3160536-b330-4ba2-a6c1-7549eaa0147a",
   "metadata": {},
   "outputs": [],
   "source": [
    "TN = matrix[0][0]\n",
    "FP = matrix[0][1]\n",
    "FN = matrix[1][0]\n",
    "TP = matrix[1][1]\n",
    "\n",
    "classification_accuracy = (TP + TN) / float(TP + TN + FP + FN)\n",
    "classification_error = (FP + FN) / float(TP + TN + FP + FN)\n",
    "precision = TP / float(TP + FP)\n",
    "recall = TP / float(TP + FN)\n",
    "true_positive_rate = TP / float(TP + FN)\n",
    "false_positive_rate = FP / float(FP + TN)\n",
    "specificity = TN / (TN + FP)\n",
    "\n",
    "\n",
    "#f1-score\n",
    "#f1-score is the weighted harmonic mean of precision and recall.\n",
    "#The best possible f1-score would be 1.0 and the worst would be 0.0. \n",
    "#f1-score is the harmonic mean of precision and recall. \n",
    "#So, f1-score is always lower than accuracy measures as they embed precision and recall into their computation.\n",
    "# The weighted average of f1-score should be used to compare classifier models, not global accuracy."
   ]
  },
  {
   "cell_type": "code",
   "execution_count": 229,
   "id": "ef6c0b63-01d6-4d1a-92b4-65ec28a64540",
   "metadata": {},
   "outputs": [
    {
     "data": {
      "text/plain": [
       "0.984297891431135"
      ]
     },
     "execution_count": 229,
     "metadata": {},
     "output_type": "execute_result"
    }
   ],
   "source": [
    "classification_accuracy"
   ]
  },
  {
   "cell_type": "code",
   "execution_count": 230,
   "id": "cff92e6a-9068-4a70-a93f-2df447d9fb04",
   "metadata": {},
   "outputs": [
    {
     "data": {
      "text/plain": [
       "0.01570210856886496"
      ]
     },
     "execution_count": 230,
     "metadata": {},
     "output_type": "execute_result"
    }
   ],
   "source": [
    "classification_error"
   ]
  },
  {
   "cell_type": "code",
   "execution_count": 231,
   "id": "70bc8c8c-df0a-4b04-bc1d-19bf02c0b777",
   "metadata": {},
   "outputs": [
    {
     "data": {
      "text/plain": [
       "0.8666666666666667"
      ]
     },
     "execution_count": 231,
     "metadata": {},
     "output_type": "execute_result"
    }
   ],
   "source": [
    "precision"
   ]
  },
  {
   "cell_type": "code",
   "execution_count": 232,
   "id": "b60d7bcf-3f1a-4ac7-b9a3-d56f0e593e19",
   "metadata": {},
   "outputs": [
    {
     "data": {
      "text/plain": [
       "0.7722772277227723"
      ]
     },
     "execution_count": 232,
     "metadata": {},
     "output_type": "execute_result"
    }
   ],
   "source": [
    "recall"
   ]
  },
  {
   "cell_type": "code",
   "execution_count": 233,
   "id": "375ce899-2f46-4ed0-9ef0-9281e0db113a",
   "metadata": {},
   "outputs": [
    {
     "data": {
      "text/plain": [
       "0.7722772277227723"
      ]
     },
     "execution_count": 233,
     "metadata": {},
     "output_type": "execute_result"
    }
   ],
   "source": [
    "true_positive_rate"
   ]
  },
  {
   "cell_type": "code",
   "execution_count": 234,
   "id": "2c9eb717-78af-46d9-b902-18d9976d162b",
   "metadata": {},
   "outputs": [
    {
     "data": {
      "text/plain": [
       "0.005639097744360902"
      ]
     },
     "execution_count": 234,
     "metadata": {},
     "output_type": "execute_result"
    }
   ],
   "source": [
    "false_positive_rate"
   ]
  },
  {
   "cell_type": "code",
   "execution_count": 235,
   "id": "1c3c5bbe-b29d-44f2-8f55-d3026ca4a130",
   "metadata": {},
   "outputs": [
    {
     "data": {
      "text/plain": [
       "0.9943609022556391"
      ]
     },
     "execution_count": 235,
     "metadata": {},
     "output_type": "execute_result"
    }
   ],
   "source": [
    "specificity"
   ]
  },
  {
   "cell_type": "markdown",
   "id": "edbed1fe-fd4a-4a4f-9f5a-99b8394ba790",
   "metadata": {
    "tags": []
   },
   "source": [
    "# i. Multi-layer Perceptron Classifier (MLP)"
   ]
  },
  {
   "cell_type": "markdown",
   "id": "678e53e3-e7ba-48a6-8a75-7f9627732688",
   "metadata": {
    "tags": []
   },
   "source": [
    "## i.1 Creating & Fitting the MLP Model"
   ]
  },
  {
   "cell_type": "code",
   "execution_count": 236,
   "id": "06b87329-1d65-4c39-82e3-a7a8930f3bae",
   "metadata": {},
   "outputs": [],
   "source": [
    "mlp = MLPClassifier(random_state = 1, max_iter = 100).fit(X_train, y_train)"
   ]
  },
  {
   "cell_type": "code",
   "execution_count": 237,
   "id": "1943c292-0139-4f37-ace2-c37feb522635",
   "metadata": {},
   "outputs": [],
   "source": [
    "pipe = MLPClassifier(random_state = 1, max_iter = 100)\n",
    "\n",
    "param_grid = dict(\n",
    "                   activation = ['identity', 'logistic', 'tanh', 'relu'], \n",
    "                   solver = ['lbfgs', 'sgd', 'adam'],\n",
    "                   alpha = [0,0.0005,0.0001,0.0005,0.001],\n",
    "                   learning_rate = ['constant', 'invscaling', 'adaptive'],\n",
    "                   learning_rate_init = [0,0.0001,0.0005,0.001, 0.005,0.01],\n",
    "                   max_iter = [200,500],\n",
    "                   shuffle = [True,False] \n",
    ")\n",
    "\n",
    "mlp_classfier_cv = RandomizedSearchCV(\n",
    "                                      pipe, \n",
    "                                      param_grid, \n",
    "                                      scoring = 'accuracy',\n",
    "                                      n_jobs = -1, \n",
    "                                      cv = 3,\n",
    ")\n",
    "\n",
    "# run gridearch\n",
    "grid_mlp_classfier_cv = mlp_classfier_cv.fit(X_train, y_train)"
   ]
  },
  {
   "cell_type": "code",
   "execution_count": 238,
   "id": "65399ad5-9281-4cda-8d98-da59437206b7",
   "metadata": {},
   "outputs": [
    {
     "data": {
      "text/plain": [
       "{'solver': 'lbfgs',\n",
       " 'shuffle': False,\n",
       " 'max_iter': 200,\n",
       " 'learning_rate_init': 0.0005,\n",
       " 'learning_rate': 'constant',\n",
       " 'alpha': 0.0005,\n",
       " 'activation': 'tanh'}"
      ]
     },
     "execution_count": 238,
     "metadata": {},
     "output_type": "execute_result"
    }
   ],
   "source": [
    "grid_mlp_classfier_cv.best_params_"
   ]
  },
  {
   "cell_type": "code",
   "execution_count": 239,
   "id": "52445e5e-f3e0-466b-96fd-a2af137ceef9",
   "metadata": {},
   "outputs": [],
   "source": [
    "mlp_tuned = MLPClassifier(solver = 'lbfgs',\n",
    "                          shuffle = False, \n",
    "                          learning_rate_init = 0.0005, \n",
    "                          learning_rate = 'constant', \n",
    "                          alpha = 0.0005, \n",
    "                          activation = 'tanh', \n",
    "                          random_state = 1, \n",
    "                          max_iter = 200).fit(X_train, y_train)"
   ]
  },
  {
   "cell_type": "markdown",
   "id": "e06a8eb4-0143-4581-b0d9-7e1874e5b03b",
   "metadata": {},
   "source": [
    "## i.2 Making Predictions Using the MLP Model"
   ]
  },
  {
   "cell_type": "code",
   "execution_count": 240,
   "id": "1f53d454-e690-4d96-a51f-1851a98c00fe",
   "metadata": {},
   "outputs": [
    {
     "data": {
      "text/plain": [
       "array([0, 0, 0, ..., 0, 0, 0])"
      ]
     },
     "execution_count": 240,
     "metadata": {},
     "output_type": "execute_result"
    }
   ],
   "source": [
    "y_pred = mlp.predict(X_test)\n",
    "y_pred"
   ]
  },
  {
   "cell_type": "code",
   "execution_count": 241,
   "id": "1cc25196-770c-4de8-891f-bdb5dfe869a7",
   "metadata": {},
   "outputs": [
    {
     "data": {
      "text/plain": [
       "array([0, 0, 0, ..., 0, 0, 0])"
      ]
     },
     "execution_count": 241,
     "metadata": {},
     "output_type": "execute_result"
    }
   ],
   "source": [
    "y_proba_pred = (mlp.predict_proba(X_test)[:,1] >= 0.1).astype(int) #predictions of the probability tuned with 10% threshold  #Using the initial model\n",
    "y_proba_pred"
   ]
  },
  {
   "cell_type": "code",
   "execution_count": 242,
   "id": "8c799957-25ab-4269-a4eb-ace27b5106e7",
   "metadata": {},
   "outputs": [
    {
     "data": {
      "text/plain": [
       "array([0, 0, 0, ..., 0, 0, 0])"
      ]
     },
     "execution_count": 242,
     "metadata": {},
     "output_type": "execute_result"
    }
   ],
   "source": [
    "y_pred_tuned = mlp_tuned.predict(X_test)\n",
    "y_pred_tuned"
   ]
  },
  {
   "cell_type": "code",
   "execution_count": 243,
   "id": "6cfc97f1-009c-4c8a-a87f-1f9718f1ad46",
   "metadata": {},
   "outputs": [
    {
     "data": {
      "text/plain": [
       "array([0, 0, 0, ..., 0, 0, 0])"
      ]
     },
     "execution_count": 243,
     "metadata": {},
     "output_type": "execute_result"
    }
   ],
   "source": [
    "y_proba_pred_tuned = (mlp_tuned.predict_proba(X_test)[:,1] >= 0.1).astype(int) #predictions of the probability tuned with 10% threshold  #Using the initial model\n",
    "y_proba_pred_tuned "
   ]
  },
  {
   "cell_type": "markdown",
   "id": "099fa29d-c984-4f18-803a-0a9df5e93f31",
   "metadata": {},
   "source": [
    "## i.3 MLP Model Evaluation"
   ]
  },
  {
   "cell_type": "code",
   "execution_count": 244,
   "id": "da4eed87-2dc8-4e79-9db7-8dd70e31cd01",
   "metadata": {},
   "outputs": [
    {
     "data": {
      "text/plain": [
       "0.9959605026929982"
      ]
     },
     "execution_count": 244,
     "metadata": {},
     "output_type": "execute_result"
    }
   ],
   "source": [
    "mlp.score(X_train, y_train)"
   ]
  },
  {
   "cell_type": "code",
   "execution_count": 245,
   "id": "f6cb9cc4-b0c1-48c5-84a2-998c902435a8",
   "metadata": {},
   "outputs": [
    {
     "data": {
      "text/plain": [
       "0.9946164199192463"
      ]
     },
     "execution_count": 245,
     "metadata": {},
     "output_type": "execute_result"
    }
   ],
   "source": [
    "mlp.score(X_test, y_test)"
   ]
  },
  {
   "cell_type": "code",
   "execution_count": 246,
   "id": "90371427-360b-4770-9318-f092288d6483",
   "metadata": {},
   "outputs": [
    {
     "data": {
      "text/plain": [
       "1.0"
      ]
     },
     "execution_count": 246,
     "metadata": {},
     "output_type": "execute_result"
    }
   ],
   "source": [
    "mlp_tuned.score(X_train, y_train)"
   ]
  },
  {
   "cell_type": "code",
   "execution_count": 247,
   "id": "cca5f8dd-f59d-48c0-bdbc-99495e318150",
   "metadata": {},
   "outputs": [
    {
     "data": {
      "text/plain": [
       "0.9901301031852848"
      ]
     },
     "execution_count": 247,
     "metadata": {},
     "output_type": "execute_result"
    }
   ],
   "source": [
    "mlp_tuned.score(X_test, y_test)"
   ]
  },
  {
   "cell_type": "markdown",
   "id": "691ab71a-77d8-4b5c-8507-c4394fc89fc8",
   "metadata": {},
   "source": [
    "Confusion Matrix of Predictions made by the initial model"
   ]
  },
  {
   "cell_type": "code",
   "execution_count": 248,
   "id": "90f41b31-7b03-4ba9-913a-128a489e12d1",
   "metadata": {},
   "outputs": [
    {
     "data": {
      "text/html": [
       "<div>\n",
       "<style scoped>\n",
       "    .dataframe tbody tr th:only-of-type {\n",
       "        vertical-align: middle;\n",
       "    }\n",
       "\n",
       "    .dataframe tbody tr th {\n",
       "        vertical-align: top;\n",
       "    }\n",
       "\n",
       "    .dataframe thead th {\n",
       "        text-align: right;\n",
       "    }\n",
       "</style>\n",
       "<table border=\"1\" class=\"dataframe\">\n",
       "  <thead>\n",
       "    <tr style=\"text-align: right;\">\n",
       "      <th>Predicted</th>\n",
       "      <th>0</th>\n",
       "      <th>1</th>\n",
       "      <th>All</th>\n",
       "    </tr>\n",
       "    <tr>\n",
       "      <th>True</th>\n",
       "      <th></th>\n",
       "      <th></th>\n",
       "      <th></th>\n",
       "    </tr>\n",
       "  </thead>\n",
       "  <tbody>\n",
       "    <tr>\n",
       "      <th>0</th>\n",
       "      <td>2137</td>\n",
       "      <td>2</td>\n",
       "      <td>2139</td>\n",
       "    </tr>\n",
       "    <tr>\n",
       "      <th>1</th>\n",
       "      <td>10</td>\n",
       "      <td>80</td>\n",
       "      <td>90</td>\n",
       "    </tr>\n",
       "    <tr>\n",
       "      <th>All</th>\n",
       "      <td>2147</td>\n",
       "      <td>82</td>\n",
       "      <td>2229</td>\n",
       "    </tr>\n",
       "  </tbody>\n",
       "</table>\n",
       "</div>"
      ],
      "text/plain": [
       "Predicted     0   1   All\n",
       "True                     \n",
       "0          2137   2  2139\n",
       "1            10  80    90\n",
       "All        2147  82  2229"
      ]
     },
     "execution_count": 248,
     "metadata": {},
     "output_type": "execute_result"
    }
   ],
   "source": [
    "matrix = pd.crosstab(y_test, y_pred, rownames=['True'], colnames=['Predicted'], margins = True)\n",
    "matrix"
   ]
  },
  {
   "cell_type": "code",
   "execution_count": 249,
   "id": "00bb8ce4-8278-4cb8-88e5-10695a02c3cb",
   "metadata": {},
   "outputs": [],
   "source": [
    "TN = matrix[0][0]\n",
    "FP = matrix[0][1]\n",
    "FN = matrix[1][0]\n",
    "TP = matrix[1][1]\n",
    "\n",
    "classification_accuracy = (TP + TN) / float(TP + TN + FP + FN)\n",
    "classification_error = (FP + FN) / float(TP + TN + FP + FN)\n",
    "precision = TP / float(TP + FP)\n",
    "recall = TP / float(TP + FN)\n",
    "true_positive_rate = TP / float(TP + FN)\n",
    "false_positive_rate = FP / float(FP + TN)\n",
    "specificity = TN / (TN + FP)\n",
    "\n",
    "\n",
    "#f1-score\n",
    "#f1-score is the weighted harmonic mean of precision and recall.\n",
    "#The best possible f1-score would be 1.0 and the worst would be 0.0. \n",
    "#f1-score is the harmonic mean of precision and recall. \n",
    "#So, f1-score is always lower than accuracy measures as they embed precision and recall into their computation.\n",
    "# The weighted average of f1-score should be used to compare classifier models, not global accuracy."
   ]
  },
  {
   "cell_type": "code",
   "execution_count": 250,
   "id": "1cff7e6c-9ddd-4acd-8c82-3279cf28076c",
   "metadata": {},
   "outputs": [
    {
     "data": {
      "text/plain": [
       "0.9946164199192463"
      ]
     },
     "execution_count": 250,
     "metadata": {},
     "output_type": "execute_result"
    }
   ],
   "source": [
    "classification_accuracy"
   ]
  },
  {
   "cell_type": "code",
   "execution_count": 251,
   "id": "44e961b2-51ad-4732-b6c4-76b42958bfa0",
   "metadata": {},
   "outputs": [
    {
     "data": {
      "text/plain": [
       "0.005383580080753701"
      ]
     },
     "execution_count": 251,
     "metadata": {},
     "output_type": "execute_result"
    }
   ],
   "source": [
    "classification_error"
   ]
  },
  {
   "cell_type": "code",
   "execution_count": 252,
   "id": "15d9a373-cde8-4871-bbb7-7c0a3fba890d",
   "metadata": {},
   "outputs": [
    {
     "data": {
      "text/plain": [
       "0.8888888888888888"
      ]
     },
     "execution_count": 252,
     "metadata": {},
     "output_type": "execute_result"
    }
   ],
   "source": [
    "precision"
   ]
  },
  {
   "cell_type": "code",
   "execution_count": 253,
   "id": "13d3e357-ec72-492a-8762-153b931b2d0d",
   "metadata": {},
   "outputs": [
    {
     "data": {
      "text/plain": [
       "0.975609756097561"
      ]
     },
     "execution_count": 253,
     "metadata": {},
     "output_type": "execute_result"
    }
   ],
   "source": [
    "recall"
   ]
  },
  {
   "cell_type": "code",
   "execution_count": 254,
   "id": "2c7377d9-9a02-426e-a6b9-b5a526fbcfe2",
   "metadata": {},
   "outputs": [
    {
     "data": {
      "text/plain": [
       "0.975609756097561"
      ]
     },
     "execution_count": 254,
     "metadata": {},
     "output_type": "execute_result"
    }
   ],
   "source": [
    "true_positive_rate"
   ]
  },
  {
   "cell_type": "code",
   "execution_count": 255,
   "id": "4586b5ce-4818-4d99-ab69-0e8733f0c74a",
   "metadata": {},
   "outputs": [
    {
     "data": {
      "text/plain": [
       "0.004657661853749418"
      ]
     },
     "execution_count": 255,
     "metadata": {},
     "output_type": "execute_result"
    }
   ],
   "source": [
    "false_positive_rate"
   ]
  },
  {
   "cell_type": "code",
   "execution_count": 256,
   "id": "c01bdf7e-1a6a-4ef1-9214-42059fab7d83",
   "metadata": {},
   "outputs": [
    {
     "data": {
      "text/plain": [
       "0.9953423381462506"
      ]
     },
     "execution_count": 256,
     "metadata": {},
     "output_type": "execute_result"
    }
   ],
   "source": [
    "specificity"
   ]
  },
  {
   "cell_type": "code",
   "execution_count": 257,
   "id": "4a02dd01-9420-4f70-9557-ede2cbf57408",
   "metadata": {},
   "outputs": [
    {
     "data": {
      "text/html": [
       "<div>\n",
       "<style scoped>\n",
       "    .dataframe tbody tr th:only-of-type {\n",
       "        vertical-align: middle;\n",
       "    }\n",
       "\n",
       "    .dataframe tbody tr th {\n",
       "        vertical-align: top;\n",
       "    }\n",
       "\n",
       "    .dataframe thead th {\n",
       "        text-align: right;\n",
       "    }\n",
       "</style>\n",
       "<table border=\"1\" class=\"dataframe\">\n",
       "  <thead>\n",
       "    <tr style=\"text-align: right;\">\n",
       "      <th>Predicted</th>\n",
       "      <th>0</th>\n",
       "      <th>1</th>\n",
       "      <th>All</th>\n",
       "    </tr>\n",
       "    <tr>\n",
       "      <th>True</th>\n",
       "      <th></th>\n",
       "      <th></th>\n",
       "      <th></th>\n",
       "    </tr>\n",
       "  </thead>\n",
       "  <tbody>\n",
       "    <tr>\n",
       "      <th>0</th>\n",
       "      <td>2123</td>\n",
       "      <td>16</td>\n",
       "      <td>2139</td>\n",
       "    </tr>\n",
       "    <tr>\n",
       "      <th>1</th>\n",
       "      <td>4</td>\n",
       "      <td>86</td>\n",
       "      <td>90</td>\n",
       "    </tr>\n",
       "    <tr>\n",
       "      <th>All</th>\n",
       "      <td>2127</td>\n",
       "      <td>102</td>\n",
       "      <td>2229</td>\n",
       "    </tr>\n",
       "  </tbody>\n",
       "</table>\n",
       "</div>"
      ],
      "text/plain": [
       "Predicted     0    1   All\n",
       "True                      \n",
       "0          2123   16  2139\n",
       "1             4   86    90\n",
       "All        2127  102  2229"
      ]
     },
     "execution_count": 257,
     "metadata": {},
     "output_type": "execute_result"
    }
   ],
   "source": [
    "matrix = pd.crosstab(y_test, y_proba_pred, rownames=['True'], colnames=['Predicted'], margins = True)\n",
    "matrix"
   ]
  },
  {
   "cell_type": "code",
   "execution_count": 258,
   "id": "a56b50ba-ba3c-4bf3-89aa-1ea851162c5f",
   "metadata": {},
   "outputs": [],
   "source": [
    "TN = matrix[0][0]\n",
    "FP = matrix[0][1]\n",
    "FN = matrix[1][0]\n",
    "TP = matrix[1][1]\n",
    "\n",
    "classification_accuracy = (TP + TN) / float(TP + TN + FP + FN)\n",
    "classification_error = (FP + FN) / float(TP + TN + FP + FN)\n",
    "precision = TP / float(TP + FP)\n",
    "recall = TP / float(TP + FN)\n",
    "true_positive_rate = TP / float(TP + FN)\n",
    "false_positive_rate = FP / float(FP + TN)\n",
    "specificity = TN / (TN + FP)\n",
    "\n",
    "\n",
    "#f1-score\n",
    "#f1-score is the weighted harmonic mean of precision and recall.\n",
    "#The best possible f1-score would be 1.0 and the worst would be 0.0. \n",
    "#f1-score is the harmonic mean of precision and recall. \n",
    "#So, f1-score is always lower than accuracy measures as they embed precision and recall into their computation.\n",
    "# The weighted average of f1-score should be used to compare classifier models, not global accuracy."
   ]
  },
  {
   "cell_type": "code",
   "execution_count": 259,
   "id": "3882a510-9a4c-4386-b857-eaf26051aa97",
   "metadata": {},
   "outputs": [
    {
     "data": {
      "text/plain": [
       "0.9910273665320771"
      ]
     },
     "execution_count": 259,
     "metadata": {},
     "output_type": "execute_result"
    }
   ],
   "source": [
    "classification_accuracy"
   ]
  },
  {
   "cell_type": "code",
   "execution_count": 260,
   "id": "48610ad3-6418-422f-9848-73fcb8bc6f2b",
   "metadata": {},
   "outputs": [
    {
     "data": {
      "text/plain": [
       "0.008972633467922835"
      ]
     },
     "execution_count": 260,
     "metadata": {},
     "output_type": "execute_result"
    }
   ],
   "source": [
    "classification_error"
   ]
  },
  {
   "cell_type": "code",
   "execution_count": 261,
   "id": "3d440f20-33bf-4862-a149-e4596576eca8",
   "metadata": {},
   "outputs": [
    {
     "data": {
      "text/plain": [
       "0.9555555555555556"
      ]
     },
     "execution_count": 261,
     "metadata": {},
     "output_type": "execute_result"
    }
   ],
   "source": [
    "precision"
   ]
  },
  {
   "cell_type": "code",
   "execution_count": 262,
   "id": "c2eac3f1-8072-4499-8a84-8a3b5540827c",
   "metadata": {},
   "outputs": [
    {
     "data": {
      "text/plain": [
       "0.8431372549019608"
      ]
     },
     "execution_count": 262,
     "metadata": {},
     "output_type": "execute_result"
    }
   ],
   "source": [
    "recall"
   ]
  },
  {
   "cell_type": "code",
   "execution_count": 263,
   "id": "9c9d9608-d320-4495-b357-c45da5b7b7c2",
   "metadata": {},
   "outputs": [
    {
     "data": {
      "text/plain": [
       "0.8431372549019608"
      ]
     },
     "execution_count": 263,
     "metadata": {},
     "output_type": "execute_result"
    }
   ],
   "source": [
    "true_positive_rate"
   ]
  },
  {
   "cell_type": "code",
   "execution_count": 264,
   "id": "e70837b8-4eb9-4151-94b8-a7abffc54959",
   "metadata": {},
   "outputs": [
    {
     "data": {
      "text/plain": [
       "0.0018805829807240243"
      ]
     },
     "execution_count": 264,
     "metadata": {},
     "output_type": "execute_result"
    }
   ],
   "source": [
    "false_positive_rate"
   ]
  },
  {
   "cell_type": "code",
   "execution_count": 265,
   "id": "d521da9e-fe5a-451a-91cf-b745b94ac0ff",
   "metadata": {},
   "outputs": [
    {
     "data": {
      "text/plain": [
       "0.998119417019276"
      ]
     },
     "execution_count": 265,
     "metadata": {},
     "output_type": "execute_result"
    }
   ],
   "source": [
    "specificity"
   ]
  },
  {
   "cell_type": "markdown",
   "id": "5eb5be9a-e060-4a05-bd8e-2e98aabbd16c",
   "metadata": {},
   "source": [
    "Confusion Matrix of Predictions made by the fine tuned model"
   ]
  },
  {
   "cell_type": "code",
   "execution_count": 266,
   "id": "0022d830-af32-4fdc-872e-c19b3bacb02b",
   "metadata": {},
   "outputs": [
    {
     "data": {
      "text/html": [
       "<div>\n",
       "<style scoped>\n",
       "    .dataframe tbody tr th:only-of-type {\n",
       "        vertical-align: middle;\n",
       "    }\n",
       "\n",
       "    .dataframe tbody tr th {\n",
       "        vertical-align: top;\n",
       "    }\n",
       "\n",
       "    .dataframe thead th {\n",
       "        text-align: right;\n",
       "    }\n",
       "</style>\n",
       "<table border=\"1\" class=\"dataframe\">\n",
       "  <thead>\n",
       "    <tr style=\"text-align: right;\">\n",
       "      <th>Predicted</th>\n",
       "      <th>0</th>\n",
       "      <th>1</th>\n",
       "      <th>All</th>\n",
       "    </tr>\n",
       "    <tr>\n",
       "      <th>True</th>\n",
       "      <th></th>\n",
       "      <th></th>\n",
       "      <th></th>\n",
       "    </tr>\n",
       "  </thead>\n",
       "  <tbody>\n",
       "    <tr>\n",
       "      <th>0</th>\n",
       "      <td>2130</td>\n",
       "      <td>9</td>\n",
       "      <td>2139</td>\n",
       "    </tr>\n",
       "    <tr>\n",
       "      <th>1</th>\n",
       "      <td>13</td>\n",
       "      <td>77</td>\n",
       "      <td>90</td>\n",
       "    </tr>\n",
       "    <tr>\n",
       "      <th>All</th>\n",
       "      <td>2143</td>\n",
       "      <td>86</td>\n",
       "      <td>2229</td>\n",
       "    </tr>\n",
       "  </tbody>\n",
       "</table>\n",
       "</div>"
      ],
      "text/plain": [
       "Predicted     0   1   All\n",
       "True                     \n",
       "0          2130   9  2139\n",
       "1            13  77    90\n",
       "All        2143  86  2229"
      ]
     },
     "execution_count": 266,
     "metadata": {},
     "output_type": "execute_result"
    }
   ],
   "source": [
    "matrix = pd.crosstab(y_test, y_pred_tuned, rownames=['True'], colnames=['Predicted'], margins = True)\n",
    "matrix"
   ]
  },
  {
   "cell_type": "code",
   "execution_count": 267,
   "id": "593c6c03-0827-48a4-aff8-b1e06a1cf4e8",
   "metadata": {},
   "outputs": [],
   "source": [
    "TN = matrix[0][0]\n",
    "FP = matrix[0][1]\n",
    "FN = matrix[1][0]\n",
    "TP = matrix[1][1]\n",
    "\n",
    "classification_accuracy = (TP + TN) / float(TP + TN + FP + FN)\n",
    "classification_error = (FP + FN) / float(TP + TN + FP + FN)\n",
    "precision = TP / float(TP + FP)\n",
    "recall = TP / float(TP + FN)\n",
    "true_positive_rate = TP / float(TP + FN)\n",
    "false_positive_rate = FP / float(FP + TN)\n",
    "specificity = TN / (TN + FP)\n",
    "\n",
    "\n",
    "#f1-score\n",
    "#f1-score is the weighted harmonic mean of precision and recall.\n",
    "#The best possible f1-score would be 1.0 and the worst would be 0.0. \n",
    "#f1-score is the harmonic mean of precision and recall. \n",
    "#So, f1-score is always lower than accuracy measures as they embed precision and recall into their computation.\n",
    "# The weighted average of f1-score should be used to compare classifier models, not global accuracy."
   ]
  },
  {
   "cell_type": "code",
   "execution_count": 268,
   "id": "10a6c09b-5a99-43f8-b08a-52bdc7f878ac",
   "metadata": {},
   "outputs": [
    {
     "data": {
      "text/plain": [
       "0.9901301031852848"
      ]
     },
     "execution_count": 268,
     "metadata": {},
     "output_type": "execute_result"
    }
   ],
   "source": [
    "classification_accuracy"
   ]
  },
  {
   "cell_type": "code",
   "execution_count": 269,
   "id": "8c076a51-024d-45c6-a6d1-75cf099d627b",
   "metadata": {},
   "outputs": [
    {
     "data": {
      "text/plain": [
       "0.00986989681471512"
      ]
     },
     "execution_count": 269,
     "metadata": {},
     "output_type": "execute_result"
    }
   ],
   "source": [
    "classification_error"
   ]
  },
  {
   "cell_type": "code",
   "execution_count": 270,
   "id": "20e23b53-b9ba-45e8-aefd-aff1041d3732",
   "metadata": {},
   "outputs": [
    {
     "data": {
      "text/plain": [
       "0.8555555555555555"
      ]
     },
     "execution_count": 270,
     "metadata": {},
     "output_type": "execute_result"
    }
   ],
   "source": [
    "precision"
   ]
  },
  {
   "cell_type": "code",
   "execution_count": 271,
   "id": "89f189e8-c1ca-48b7-87ae-df7a90d47088",
   "metadata": {},
   "outputs": [
    {
     "data": {
      "text/plain": [
       "0.8953488372093024"
      ]
     },
     "execution_count": 271,
     "metadata": {},
     "output_type": "execute_result"
    }
   ],
   "source": [
    "recall"
   ]
  },
  {
   "cell_type": "code",
   "execution_count": 272,
   "id": "920724f2-3dbd-42a9-afe4-cc45d121cc31",
   "metadata": {},
   "outputs": [
    {
     "data": {
      "text/plain": [
       "0.8953488372093024"
      ]
     },
     "execution_count": 272,
     "metadata": {},
     "output_type": "execute_result"
    }
   ],
   "source": [
    "true_positive_rate"
   ]
  },
  {
   "cell_type": "code",
   "execution_count": 273,
   "id": "c87ba08c-223f-456a-9d99-a4afce2e4f46",
   "metadata": {},
   "outputs": [
    {
     "data": {
      "text/plain": [
       "0.006066262249183388"
      ]
     },
     "execution_count": 273,
     "metadata": {},
     "output_type": "execute_result"
    }
   ],
   "source": [
    "false_positive_rate"
   ]
  },
  {
   "cell_type": "code",
   "execution_count": 274,
   "id": "6e8736fc-0e0d-470a-a047-59feb07d6229",
   "metadata": {},
   "outputs": [
    {
     "data": {
      "text/plain": [
       "0.9939337377508166"
      ]
     },
     "execution_count": 274,
     "metadata": {},
     "output_type": "execute_result"
    }
   ],
   "source": [
    "specificity"
   ]
  },
  {
   "cell_type": "code",
   "execution_count": 275,
   "id": "87bbd053-9c46-427f-8836-2f6600b2ba58",
   "metadata": {},
   "outputs": [
    {
     "data": {
      "text/html": [
       "<div>\n",
       "<style scoped>\n",
       "    .dataframe tbody tr th:only-of-type {\n",
       "        vertical-align: middle;\n",
       "    }\n",
       "\n",
       "    .dataframe tbody tr th {\n",
       "        vertical-align: top;\n",
       "    }\n",
       "\n",
       "    .dataframe thead th {\n",
       "        text-align: right;\n",
       "    }\n",
       "</style>\n",
       "<table border=\"1\" class=\"dataframe\">\n",
       "  <thead>\n",
       "    <tr style=\"text-align: right;\">\n",
       "      <th>Predicted</th>\n",
       "      <th>0</th>\n",
       "      <th>1</th>\n",
       "      <th>All</th>\n",
       "    </tr>\n",
       "    <tr>\n",
       "      <th>True</th>\n",
       "      <th></th>\n",
       "      <th></th>\n",
       "      <th></th>\n",
       "    </tr>\n",
       "  </thead>\n",
       "  <tbody>\n",
       "    <tr>\n",
       "      <th>0</th>\n",
       "      <td>2129</td>\n",
       "      <td>10</td>\n",
       "      <td>2139</td>\n",
       "    </tr>\n",
       "    <tr>\n",
       "      <th>1</th>\n",
       "      <td>10</td>\n",
       "      <td>80</td>\n",
       "      <td>90</td>\n",
       "    </tr>\n",
       "    <tr>\n",
       "      <th>All</th>\n",
       "      <td>2139</td>\n",
       "      <td>90</td>\n",
       "      <td>2229</td>\n",
       "    </tr>\n",
       "  </tbody>\n",
       "</table>\n",
       "</div>"
      ],
      "text/plain": [
       "Predicted     0   1   All\n",
       "True                     \n",
       "0          2129  10  2139\n",
       "1            10  80    90\n",
       "All        2139  90  2229"
      ]
     },
     "execution_count": 275,
     "metadata": {},
     "output_type": "execute_result"
    }
   ],
   "source": [
    "matrix = pd.crosstab(y_test, y_proba_pred_tuned, rownames=['True'], colnames=['Predicted'], margins = True)\n",
    "matrix"
   ]
  },
  {
   "cell_type": "code",
   "execution_count": 276,
   "id": "ee05723c-121c-4b12-8cfc-eb60f3fb9842",
   "metadata": {},
   "outputs": [],
   "source": [
    "TN = matrix[0][0]\n",
    "FP = matrix[0][1]\n",
    "FN = matrix[1][0]\n",
    "TP = matrix[1][1]\n",
    "\n",
    "classification_accuracy = (TP + TN) / float(TP + TN + FP + FN)\n",
    "classification_error = (FP + FN) / float(TP + TN + FP + FN)\n",
    "precision = TP / float(TP + FP)\n",
    "recall = TP / float(TP + FN)\n",
    "true_positive_rate = TP / float(TP + FN)\n",
    "false_positive_rate = FP / float(FP + TN)\n",
    "specificity = TN / (TN + FP)\n",
    "\n",
    "\n",
    "#f1-score\n",
    "#f1-score is the weighted harmonic mean of precision and recall.\n",
    "#The best possible f1-score would be 1.0 and the worst would be 0.0. \n",
    "#f1-score is the harmonic mean of precision and recall. \n",
    "#So, f1-score is always lower than accuracy measures as they embed precision and recall into their computation.\n",
    "# The weighted average of f1-score should be used to compare classifier models, not global accuracy."
   ]
  },
  {
   "cell_type": "code",
   "execution_count": 277,
   "id": "3e230b88-0af5-4165-99b0-2a51b7e21cba",
   "metadata": {},
   "outputs": [
    {
     "data": {
      "text/plain": [
       "0.9910273665320771"
      ]
     },
     "execution_count": 277,
     "metadata": {},
     "output_type": "execute_result"
    }
   ],
   "source": [
    "classification_accuracy"
   ]
  },
  {
   "cell_type": "code",
   "execution_count": 278,
   "id": "04459b3e-5827-4d4a-9cd4-253145ee0267",
   "metadata": {},
   "outputs": [
    {
     "data": {
      "text/plain": [
       "0.008972633467922835"
      ]
     },
     "execution_count": 278,
     "metadata": {},
     "output_type": "execute_result"
    }
   ],
   "source": [
    "classification_error"
   ]
  },
  {
   "cell_type": "code",
   "execution_count": 279,
   "id": "c39ec7c5-97fe-443b-ad61-3ece40589ae0",
   "metadata": {},
   "outputs": [
    {
     "data": {
      "text/plain": [
       "0.8888888888888888"
      ]
     },
     "execution_count": 279,
     "metadata": {},
     "output_type": "execute_result"
    }
   ],
   "source": [
    "precision"
   ]
  },
  {
   "cell_type": "code",
   "execution_count": 280,
   "id": "2940e068-7b41-4400-aab1-3ea48ebf239b",
   "metadata": {},
   "outputs": [
    {
     "data": {
      "text/plain": [
       "0.8888888888888888"
      ]
     },
     "execution_count": 280,
     "metadata": {},
     "output_type": "execute_result"
    }
   ],
   "source": [
    "recall"
   ]
  },
  {
   "cell_type": "code",
   "execution_count": 281,
   "id": "c282a1b5-f714-454d-85cb-39aa0c1f9ff4",
   "metadata": {},
   "outputs": [
    {
     "data": {
      "text/plain": [
       "0.8888888888888888"
      ]
     },
     "execution_count": 281,
     "metadata": {},
     "output_type": "execute_result"
    }
   ],
   "source": [
    "true_positive_rate"
   ]
  },
  {
   "cell_type": "code",
   "execution_count": 282,
   "id": "a06dab27-df6d-4dd3-9690-3a3e4f626ef6",
   "metadata": {},
   "outputs": [
    {
     "data": {
      "text/plain": [
       "0.004675081813931743"
      ]
     },
     "execution_count": 282,
     "metadata": {},
     "output_type": "execute_result"
    }
   ],
   "source": [
    "false_positive_rate"
   ]
  },
  {
   "cell_type": "code",
   "execution_count": 283,
   "id": "3f3b22ce-3f31-44ec-b53c-af7ccb9e13f1",
   "metadata": {},
   "outputs": [
    {
     "data": {
      "text/plain": [
       "0.9953249181860683"
      ]
     },
     "execution_count": 283,
     "metadata": {},
     "output_type": "execute_result"
    }
   ],
   "source": [
    "specificity"
   ]
  }
 ],
 "metadata": {
  "kernelspec": {
   "display_name": "Python 3 (ipykernel)",
   "language": "python",
   "name": "python3"
  },
  "language_info": {
   "codemirror_mode": {
    "name": "ipython",
    "version": 3
   },
   "file_extension": ".py",
   "mimetype": "text/x-python",
   "name": "python",
   "nbconvert_exporter": "python",
   "pygments_lexer": "ipython3",
   "version": "3.9.10"
  }
 },
 "nbformat": 4,
 "nbformat_minor": 5
}
